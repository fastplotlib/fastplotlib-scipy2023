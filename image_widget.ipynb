{
 "cells": [
  {
   "cell_type": "markdown",
   "id": "9f5a0b98-4dff-4c0a-92e1-e5bd188081c2",
   "metadata": {},
   "source": [
    "## Multi-dimensional image data"
   ]
  },
  {
   "cell_type": "code",
   "execution_count": 1,
   "id": "469bb8a6-cdb6-42fd-829e-e10d52d34d36",
   "metadata": {
    "tags": []
   },
   "outputs": [],
   "source": [
    "import fastplotlib as fpl\n",
    "from sidecar import Sidecar\n",
    "from ipywidgets import VBox, HBox, IntSlider"
   ]
  },
  {
   "cell_type": "markdown",
   "id": "a34c9696-d1d5-4775-9a10-b3b2a4999914",
   "metadata": {},
   "source": [
    "# Sliders to scroll through image data\n",
    "\n",
    "We often already have large image arrays (whether in RAM or through lazy loading), and want to view 2D frames across one or more dimensions. There is an `ImageWidget` that should really be used for this, but this example just shows how you can use `ipywidgets` to change data or any **`GraphicFeature`**"
   ]
  },
  {
   "cell_type": "markdown",
   "id": "3bfb9c4e-df33-4fab-b737-bcdba1bd504b",
   "metadata": {},
   "source": [
    "### Some code to generate a bunch of time-varying Gaussians. This code is NOT important for understanding `fastplotlib`, it just generates some video-like data for us to visualize!"
   ]
  },
  {
   "cell_type": "code",
   "execution_count": 2,
   "id": "668e28d2-b084-4bd4-a16d-16be6e6814b3",
   "metadata": {},
   "outputs": [],
   "source": [
    "import numpy as np\n",
    "from scipy.stats import multivariate_normal\n",
    "\n",
    "# set up gaussians centered at component_centers\n",
    "n_frames = 1000\n",
    "spatial_dims = 512\n",
    "\n",
    "frame_shape = [512, 512]\n",
    "\n",
    "n_components = 32\n",
    "component_centers = (np.random.rand(n_components, 2) * spatial_dims).astype(int)\n",
    "\n",
    "# create component images: stack of images one for ech component\n",
    "spatial_sigma = 50\n",
    "x, y = np.meshgrid(\n",
    "    np.arange(0, spatial_dims),\n",
    "    np.arange(0, spatial_dims)\n",
    ")\n",
    "\n",
    "pos = np.dstack((x, y))\n",
    "component_sigma = np.array(\n",
    "    [[spatial_sigma, 0],\n",
    "     [0, spatial_sigma]]\n",
    ")\n",
    "\n",
    "component_images = []\n",
    "for comp_ix in range(n_components):\n",
    "    comp_mean = component_centers[comp_ix]\n",
    "    gauss_rep = multivariate_normal(comp_mean, component_sigma)\n",
    "    gauss_img = gauss_rep.pdf(pos)\n",
    "    component_images.append(gauss_img)\n",
    "\n",
    "component_images = np.array(component_images)\n",
    "\n",
    "\n",
    "# generate traces\n",
    "tau = 10\n",
    "max_amp = 2000\n",
    "amps_all = []\n",
    "\n",
    "for component_num in range(n_components):\n",
    "    amps = []\n",
    "    amp = 0\n",
    "    for time_step in np.arange(n_frames):\n",
    "        if np.random.uniform(0,1) > 0.98:\n",
    "            amp = max_amp\n",
    "        else:\n",
    "            amp = np.max(np.array([amp - amp/tau, 0]));\n",
    "        amps.append(amp)\n",
    "    amps = np.array(amps)\n",
    "    amps_all.append(amps)\n",
    "amps_all = np.array(amps_all)\n",
    "\n",
    "# create movie\n",
    "movie = np.zeros((n_frames, spatial_dims, spatial_dims))\n",
    "for frame_ix in np.arange(n_frames):\n",
    "    for comp_ix in range(n_components):\n",
    "        movie[frame_ix] += amps_all[comp_ix][frame_ix] * component_images[comp_ix]"
   ]
  },
  {
   "cell_type": "markdown",
   "id": "81e1fdc7-d36f-4815-bcb2-7639126accac",
   "metadata": {},
   "source": [
    "### Now we have a movie of the following shape, an image sequence"
   ]
  },
  {
   "cell_type": "code",
   "execution_count": 3,
   "id": "2cbe2c48-5628-42e2-9669-cc34528029b8",
   "metadata": {},
   "outputs": [
    {
     "data": {
      "text/plain": [
       "(1000, 512, 512)"
      ]
     },
     "execution_count": 3,
     "metadata": {},
     "output_type": "execute_result"
    }
   ],
   "source": [
    "movie.shape"
   ]
  },
  {
   "cell_type": "markdown",
   "id": "df285978-c40a-4e9a-88ea-038a9a07b748",
   "metadata": {},
   "source": [
    "### This is usually [time, x, y]"
   ]
  },
  {
   "cell_type": "markdown",
   "id": "2308fee3-0948-425a-a134-704868ba57a3",
   "metadata": {},
   "source": [
    "## Plot and scroll through the first dimension with a slider"
   ]
  },
  {
   "cell_type": "code",
   "execution_count": 4,
   "id": "2d99dd72-6457-45e4-9694-3720f16f7fd0",
   "metadata": {},
   "outputs": [
    {
     "data": {
      "application/vnd.jupyter.widget-view+json": {
       "model_id": "644785c8a11d46218417aec917f8b219",
       "version_major": 2,
       "version_minor": 0
      },
      "text/plain": [
       "RFBOutputContext()"
      ]
     },
     "metadata": {},
     "output_type": "display_data"
    },
    {
     "name": "stderr",
     "output_type": "stream",
     "text": [
      "/home/clewis7/repos/fastplotlib/fastplotlib/graphics/_features/_base.py:34: UserWarning: converting float64 array to float32\n",
      "  warn(f\"converting {array.dtype} array to float32\")\n"
     ]
    },
    {
     "data": {
      "application/vnd.jupyter.widget-view+json": {
       "model_id": "f27e65b3154a48a182cdf375ecb77167",
       "version_major": 2,
       "version_minor": 0
      },
      "text/plain": [
       "VBox(children=(VBox(children=(JupyterWgpuCanvas(), HBox(children=(Button(icon='expand-arrows-alt', layout=Layo…"
      ]
     },
     "execution_count": 4,
     "metadata": {},
     "output_type": "execute_result"
    }
   ],
   "source": [
    "plot_movie = fpl.Plot()\n",
    "\n",
    "# plot the first frame to initialize\n",
    "movie_graphic = plot_movie.add_image(movie[0], vmin=0, vmax=movie.max(), cmap=\"gnuplot2\")\n",
    "\n",
    "# make a slider\n",
    "slider = IntSlider(min=0, max=movie.shape[0] - 1, step=1, value=0)\n",
    "\n",
    "# function to update movie_graphic\n",
    "def update_movie(change):    \n",
    "    index = change[\"new\"]\n",
    "    movie_graphic.data = movie[index]\n",
    "    \n",
    "slider.observe(update_movie, \"value\")\n",
    "    \n",
    "# Use an ipywidgets VBox to show the plot and slider\n",
    "VBox([plot_movie.show(), slider])"
   ]
  },
  {
   "cell_type": "markdown",
   "id": "b54fb659-67ce-410d-b762-4eae900c446f",
   "metadata": {
    "tags": []
   },
   "source": [
    "#### Note that the use of globals in the `update_movie()` here can get messy, this is not recommended and  you should create a class to properly handle combining widgets like this. _However_ if you want slider widgets for imaging data the recommended way to do this is by using the `ImageWidget`."
   ]
  },
  {
   "cell_type": "markdown",
   "id": "59373826-2abf-430b-b799-6343b3d61fe0",
   "metadata": {},
   "source": [
    "## Single image sequence `ImageWidget`"
   ]
  },
  {
   "cell_type": "code",
   "execution_count": 12,
   "id": "d0a68a43-f4f0-4d68-a47b-bbf2370aec84",
   "metadata": {
    "tags": []
   },
   "outputs": [],
   "source": [
    "a = np.random.rand(500, 512, 512)"
   ]
  },
  {
   "cell_type": "code",
   "execution_count": 13,
   "id": "1717998d-02d6-4abe-9573-7bdeb35416ab",
   "metadata": {
    "tags": []
   },
   "outputs": [
    {
     "data": {
      "application/vnd.jupyter.widget-view+json": {
       "model_id": "b3099fd101d44709923d71b739d574db",
       "version_major": 2,
       "version_minor": 0
      },
      "text/plain": [
       "RFBOutputContext()"
      ]
     },
     "metadata": {},
     "output_type": "display_data"
    }
   ],
   "source": [
    "iw = fpl.ImageWidget(\n",
    "    data=a,\n",
    "    vmin_vmax_sliders=True,\n",
    "    cmap=\"viridis\"\n",
    ")"
   ]
  },
  {
   "cell_type": "code",
   "execution_count": 14,
   "id": "70587a9b-4a4a-4b70-ba49-05b59919d3f8",
   "metadata": {
    "tags": []
   },
   "outputs": [],
   "source": [
    "sc = Sidecar()\n",
    "\n",
    "with sc:\n",
    "    display(iw.show())"
   ]
  },
  {
   "cell_type": "markdown",
   "id": "e38a141e-f8f8-40a0-ad68-52932c6ac672",
   "metadata": {},
   "source": [
    "### can dynamically change features"
   ]
  },
  {
   "cell_type": "code",
   "execution_count": 15,
   "id": "fcd67dec-5b02-40f6-a562-65a330952582",
   "metadata": {
    "tags": []
   },
   "outputs": [],
   "source": [
    "iw.gridplot[0, 0].graphics[0].cmap = \"gnuplot2\""
   ]
  },
  {
   "cell_type": "markdown",
   "id": "06b2686b-f2e3-4dbc-be3f-7ddfddffee32",
   "metadata": {},
   "source": [
    "### Play with setting different window functions\n",
    "\n",
    "These can also be given as kwargs to `ImageWidget` during instantiation"
   ]
  },
  {
   "cell_type": "code",
   "execution_count": 16,
   "id": "a99b39b2-c7a1-4f79-a913-300335c027b0",
   "metadata": {
    "tags": []
   },
   "outputs": [],
   "source": [
    "# must be in the form of {dim: (func, window_size)}\n",
    "iw.window_funcs = {\"t\": (np.mean, 13)}"
   ]
  },
  {
   "cell_type": "code",
   "execution_count": 17,
   "id": "2c1742af-e338-40d9-9e46-3a0acd416ab0",
   "metadata": {
    "tags": []
   },
   "outputs": [],
   "source": [
    "# change the winow size\n",
    "iw.window_funcs[\"t\"].window_size = 23"
   ]
  },
  {
   "cell_type": "code",
   "execution_count": 18,
   "id": "ac359828-db31-40f1-9165-661d5a85f86e",
   "metadata": {
    "tags": []
   },
   "outputs": [],
   "source": [
    "# change the function\n",
    "iw.window_funcs[\"t\"].func = np.max"
   ]
  },
  {
   "cell_type": "code",
   "execution_count": 19,
   "id": "472a9634-39d6-4037-9917-1be49c3f182d",
   "metadata": {
    "tags": []
   },
   "outputs": [],
   "source": [
    "# or set it again\n",
    "iw.window_funcs = {\"t\": (np.min, 11)}"
   ]
  },
  {
   "cell_type": "markdown",
   "id": "1d70f177-c770-4eb4-a903-12bc40f658da",
   "metadata": {},
   "source": [
    "### Can also set new data"
   ]
  },
  {
   "cell_type": "code",
   "execution_count": 20,
   "id": "7ab6e1a9-9767-4fe6-a10d-e3f3f28b7749",
   "metadata": {
    "tags": []
   },
   "outputs": [],
   "source": [
    "new_data = np.random.rand(500, 512, 512)\n",
    "iw.set_data(new_data=new_data)"
   ]
  },
  {
   "cell_type": "code",
   "execution_count": 23,
   "id": "c944250e-e3ee-46ab-8ee7-4973e9b01c50",
   "metadata": {
    "tags": []
   },
   "outputs": [],
   "source": [
    "sc.close()"
   ]
  },
  {
   "cell_type": "markdown",
   "id": "1e2b5bc0-6362-47ff-96bc-1a22e4bee9f7",
   "metadata": {},
   "source": [
    "# Gridplot of txy data"
   ]
  },
  {
   "cell_type": "code",
   "execution_count": 24,
   "id": "6e4b585a-0c4f-4e18-8303-0f5d8e06089a",
   "metadata": {
    "tags": []
   },
   "outputs": [],
   "source": [
    "dims = (100, 512, 512)\n",
    "data = [np.random.rand(*dims) for i in range(4)]"
   ]
  },
  {
   "cell_type": "code",
   "execution_count": 25,
   "id": "fd000c16-cdbd-4774-9a19-9f7b320c0e6a",
   "metadata": {
    "tags": []
   },
   "outputs": [
    {
     "data": {
      "application/vnd.jupyter.widget-view+json": {
       "model_id": "7cefb80a5f3b40bb9e02c5be385b8412",
       "version_major": 2,
       "version_minor": 0
      },
      "text/plain": [
       "RFBOutputContext()"
      ]
     },
     "metadata": {},
     "output_type": "display_data"
    }
   ],
   "source": [
    "iw = fpl.ImageWidget(\n",
    "    data=data, \n",
    "    slider_dims=[\"t\"], \n",
    "    # dims_order=\"txy\", # you can set this manually if dim order is not the usual\n",
    "    vmin_vmax_sliders=True,\n",
    "    names=[\"zero\", \"one\", \"two\", \"three\"],\n",
    "    window_funcs={\"t\": (np.mean, 5)},\n",
    "    cmap=\"gnuplot2\", \n",
    ")"
   ]
  },
  {
   "cell_type": "markdown",
   "id": "54db7b01-8d5f-4984-a903-c83a51c40158",
   "metadata": {},
   "source": [
    "### pan-zoom controllers are all synced in a `ImageWidget`"
   ]
  },
  {
   "cell_type": "code",
   "execution_count": 27,
   "id": "20631c15-49a7-4486-b924-cc0705ae56cf",
   "metadata": {
    "tags": []
   },
   "outputs": [],
   "source": [
    "sc = Sidecar()\n",
    "\n",
    "with sc:\n",
    "    display(iw.show())"
   ]
  },
  {
   "cell_type": "markdown",
   "id": "081c1912-96fe-4aea-ad52-fcf34b5d216f",
   "metadata": {},
   "source": [
    "### Index the subplots using the names given to `ImageWidget`"
   ]
  },
  {
   "cell_type": "code",
   "execution_count": 28,
   "id": "d0277ba5-592b-4d0b-b029-fbd89f81e483",
   "metadata": {
    "tags": []
   },
   "outputs": [
    {
     "data": {
      "text/plain": [
       "two: Subplot @ 0x7ff628670e50\n",
       "  parent: None\n",
       "  Graphics:\n",
       "\t'image_widget_managed': ImageGraphic @ 0x7ff6282bd550"
      ]
     },
     "execution_count": 28,
     "metadata": {},
     "output_type": "execute_result"
    }
   ],
   "source": [
    "iw.gridplot[\"two\"]"
   ]
  },
  {
   "cell_type": "markdown",
   "id": "155e4efa-4d3f-4ec1-bdfd-aade88896b4a",
   "metadata": {},
   "source": [
    "### change window functions just like before"
   ]
  },
  {
   "cell_type": "code",
   "execution_count": 29,
   "id": "8ecb53d4-b369-4a7e-afc9-0d249f3ee893",
   "metadata": {
    "tags": []
   },
   "outputs": [],
   "source": [
    "iw.window_funcs[\"t\"].func = np.max"
   ]
  },
  {
   "cell_type": "markdown",
   "id": "fa756f17-2e04-4022-88c8-f0d8edac5f87",
   "metadata": {},
   "source": [
    "### change features just like before"
   ]
  },
  {
   "cell_type": "code",
   "execution_count": 31,
   "id": "b93e481c-e28b-44f9-ba9d-a40faad352c6",
   "metadata": {
    "tags": []
   },
   "outputs": [],
   "source": [
    "iw.gridplot[\"zero\"].graphics[0].cmap = \"viridis\""
   ]
  },
  {
   "cell_type": "code",
   "execution_count": null,
   "id": "b2210b9e-15c2-46a4-aa8d-36de0b9db980",
   "metadata": {},
   "outputs": [],
   "source": []
  }
 ],
 "metadata": {
  "kernelspec": {
   "display_name": "Python 3 (ipykernel)",
   "language": "python",
   "name": "python3"
  },
  "language_info": {
   "codemirror_mode": {
    "name": "ipython",
    "version": 3
   },
   "file_extension": ".py",
   "mimetype": "text/x-python",
   "name": "python",
   "nbconvert_exporter": "python",
   "pygments_lexer": "ipython3",
   "version": "3.11.3"
  }
 },
 "nbformat": 4,
 "nbformat_minor": 5
}
