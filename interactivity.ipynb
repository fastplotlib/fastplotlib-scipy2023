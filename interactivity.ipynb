{
 "cells": [
  {
   "cell_type": "markdown",
   "id": "a8634dad-2705-4107-be1d-e2dd12e575f9",
   "metadata": {},
   "source": [
    "# Interactivity\n",
    "\n",
    "This notebook walks through a simple, yet powerful example of how our abstract interactivity system can be used to link graphics and their features together."
   ]
  },
  {
   "cell_type": "code",
   "execution_count": 1,
   "id": "e71723e0-aa1c-49ee-b141-a720c4ea46dc",
   "metadata": {
    "tags": []
   },
   "outputs": [],
   "source": [
    "import fastplotlib as fpl\n",
    "from sidecar import Sidecar\n",
    "import numpy as np\n",
    "from ipywidgets import VBox"
   ]
  },
  {
   "cell_type": "markdown",
   "id": "84b0425c-7e1a-41fe-884d-e2ed8674b8f6",
   "metadata": {},
   "source": [
    "Load in some neural data."
   ]
  },
  {
   "cell_type": "code",
   "execution_count": 2,
   "id": "6193b269-fbac-46de-9404-e9fc4097c068",
   "metadata": {
    "tags": []
   },
   "outputs": [],
   "source": [
    "# reconstructed movie of CaImAn Sue demo movie after running motion correction and CNMF algorithms\n",
    "movie = np.load('/home/clewis7/Desktop/rcm.npy')\n",
    "\n",
    "# temporal traces of identified neurons\n",
    "temporal = np.load('/home/clewis7/Desktop/temporal.npy')\n",
    "\n",
    "# contours of identified neurons\n",
    "contours = np.load('/home/clewis7/Desktop/contours.npy', allow_pickle=True)"
   ]
  },
  {
   "cell_type": "markdown",
   "id": "f55055fd-84a7-46cb-8021-518df6519f08",
   "metadata": {},
   "source": [
    "Will need a euclidean helper function to indentify which contours has been clicked on. We hope to soon include this, and other common callback functions, in our interactivity system :D"
   ]
  },
  {
   "cell_type": "code",
   "execution_count": 57,
   "id": "4315315a-32cc-4bae-939b-d2bfd300aefa",
   "metadata": {
    "tags": []
   },
   "outputs": [],
   "source": [
    "def euclidean(source, target, event, new_data):\n",
    "    \"\"\"maps click events to contour\"\"\"\n",
    "    # calculate coms of line collection\n",
    "    indices = np.array(event.pick_info[\"index\"])\n",
    "    \n",
    "    coms = list()\n",
    "\n",
    "    for contour in target.graphics:\n",
    "        coors = contour.data()[~np.isnan(contour.data()).any(axis=1)]\n",
    "        com = coors.mean(axis=0)\n",
    "        coms.append(com)\n",
    "\n",
    "    # euclidean distance to find closest index of com \n",
    "    indices = np.append(indices, [0])\n",
    "    \n",
    "    ix = int(np.linalg.norm((coms - indices), axis=1).argsort()[0])\n",
    "    \n",
    "    target._set_feature(feature=\"colors\", new_data=new_data, indices=ix)\n",
    "    \n",
    "    return None"
   ]
  },
  {
   "cell_type": "markdown",
   "id": "fb577f22-aeea-4f57-b588-1fc08d9aa87c",
   "metadata": {},
   "source": [
    "### Plot creation\n",
    "\n",
    "Create an `ImageWidget`to display the reconstructed movie and identified neurons. Also create a `Plot` instance to display the associated temporal data for each identified nueron."
   ]
  },
  {
   "cell_type": "code",
   "execution_count": 58,
   "id": "93e26775-3d24-4eb4-8831-fae5cb5fd71c",
   "metadata": {
    "tags": []
   },
   "outputs": [
    {
     "data": {
      "application/vnd.jupyter.widget-view+json": {
       "model_id": "5a75af4c68d3458bbb8bf11b3974ee22",
       "version_major": 2,
       "version_minor": 0
      },
      "text/plain": [
       "RFBOutputContext()"
      ]
     },
     "metadata": {},
     "output_type": "display_data"
    },
    {
     "data": {
      "application/vnd.jupyter.widget-view+json": {
       "model_id": "c5e8d9d2e6984b7b99fec5aa82e45aa1",
       "version_major": 2,
       "version_minor": 0
      },
      "text/plain": [
       "RFBOutputContext()"
      ]
     },
     "metadata": {},
     "output_type": "display_data"
    }
   ],
   "source": [
    "# for the image data and contours\n",
    "cnmf_iw = fpl.ImageWidget(movie, vmin_vmax_sliders=True, cmap=\"gnuplot2\")\n",
    "\n",
    "# add contours to the plot within the widget\n",
    "contours_graphic = cnmf_iw.gridplot[0,0].add_line_collection(contours, colors=\"cyan\", name=\"contours\")\n",
    "\n",
    "# temporal plot\n",
    "plot_temporal = fpl.Plot(size=(600,100))\n",
    "\n",
    "temporal_graphic = plot_temporal.add_line_collection(temporal, colors=\"magenta\", name=\"temporal\")\n",
    "\n",
    "# a vertical line that is syncronized to the image widget \"t\" (timepoint) slider\n",
    "def update_timepoint(ev):\n",
    "    ix = ev.pick_info[\"selected_index\"][0]\n",
    "    cnmf_iw.sliders[\"t\"].value = ix\n",
    "\n",
    "selector = temporal_graphic.add_linear_selector()\n",
    "selector.selection.add_event_handler(update_timepoint)\n",
    "\n",
    "# stack the plots and show them in sidecar\n",
    "sc = Sidecar(title=\"interactivity\")\n",
    "\n",
    "with sc:\n",
    "    display(VBox([cnmf_iw.show(), plot_temporal.show()]))"
   ]
  },
  {
   "cell_type": "markdown",
   "id": "a7318dbf-5578-4216-b8f9-e503cc687bff",
   "metadata": {},
   "source": [
    "### Interacitvity of `Graphics` using `link()`"
   ]
  },
  {
   "cell_type": "code",
   "execution_count": 59,
   "id": "0a4968fc-1926-4eb7-85a5-2bedf1581b7f",
   "metadata": {
    "tags": []
   },
   "outputs": [
    {
     "name": "stderr",
     "output_type": "stream",
     "text": [
      "/home/clewis7/repos/fastplotlib/fastplotlib/graphics/_features/_base.py:143: UserWarning: Event handler <bound method Interaction._event_handler of 'contours': LineCollection @ 0x7febe751ea10\n",
      "Collection of <155> Graphics> is already registered.\n",
      "  warn(f\"Event handler {handler} is already registered.\")\n"
     ]
    }
   ],
   "source": [
    "# so we can view them one by one, first hide all of them\n",
    "temporal_graphic[:].present = False\n",
    "    \n",
    "# link image to contours\n",
    "image_graphic = cnmf_iw.gridplot[0,0][\"image_widget_managed\"]\n",
    "\n",
    "image_graphic.link(\n",
    "    \"click\",\n",
    "    target=contours_graphic,\n",
    "    feature=\"colors\", \n",
    "    new_data=\"w\", \n",
    "    callback=euclidean\n",
    ")\n",
    "\n",
    "# link contour color changes (which are triggered by the click events as defined above) to everything else\n",
    "\n",
    "# thickness of contour\n",
    "contours_graphic.link(\"colors\", target=contours_graphic, feature=\"thickness\", new_data=3)\n",
    "\n",
    "# toggle temporal component when contour changes color\n",
    "contours_graphic.link(\"colors\", target=temporal_graphic, feature=\"present\", new_data=True)\n",
    "\n",
    "# autoscale temporal plot to the current temporal component\n",
    "temporal_graphic[:].present.add_event_handler(plot_temporal.auto_scale)"
   ]
  },
  {
   "cell_type": "code",
   "execution_count": 60,
   "id": "f7b78a88-7aa5-4de7-a796-4a99514631c8",
   "metadata": {
    "tags": []
   },
   "outputs": [],
   "source": [
    "sc.close()"
   ]
  },
  {
   "cell_type": "markdown",
   "id": "2db92314-29e3-4cc7-a1f6-f1b6ef6bb346",
   "metadata": {},
   "source": [
    "## Heatmap"
   ]
  },
  {
   "cell_type": "code",
   "execution_count": 39,
   "id": "53cde5c5-a46d-4ea6-a192-4e882b61aa75",
   "metadata": {},
   "outputs": [
    {
     "data": {
      "application/vnd.jupyter.widget-view+json": {
       "model_id": "b55410322ef945c78344b240a007c105",
       "version_major": 2,
       "version_minor": 0
      },
      "text/plain": [
       "RFBOutputContext()"
      ]
     },
     "metadata": {},
     "output_type": "display_data"
    },
    {
     "name": "stderr",
     "output_type": "stream",
     "text": [
      "/home/clewis7/repos/fastplotlib/fastplotlib/graphics/_features/_base.py:34: UserWarning: converting float64 array to float32\n",
      "  warn(f\"converting {array.dtype} array to float32\")\n"
     ]
    }
   ],
   "source": [
    "# create plot\n",
    "plot = fpl.GridPlot(shape=(1,2), names=[[\"heatmap\", \"traces\"]])\n",
    "\n",
    "# add temporal traces as heatmap\n",
    "heatmap = plot[0,0].add_heatmap(temporal)\n",
    "\n",
    "# add temporal traces as line stack\n",
    "temporal_stack = plot[0,1].add_line_stack(temporal, colors=\"magenta\")\n",
    "\n",
    "# add linear selector to heatmap\n",
    "selector = heatmap.add_linear_region_selector()\n",
    "\n",
    "sc = Sidecar(title=\"heatmap interactive\")\n",
    "\n",
    "with sc:\n",
    "    display(plot.show())"
   ]
  },
  {
   "cell_type": "markdown",
   "id": "6fbbd7c9-2f57-4ef0-8e44-524ecfd93396",
   "metadata": {},
   "source": [
    "### interactivity using event handlers"
   ]
  },
  {
   "cell_type": "code",
   "execution_count": 40,
   "id": "48e6d1f0-f90c-4fcb-ab4a-8782bc568791",
   "metadata": {
    "tags": []
   },
   "outputs": [],
   "source": [
    "# define event handler\n",
    "def color_change(ev):\n",
    "    selected_indices = ev.pick_info[\"selected_indices\"]\n",
    "    \n",
    "    for i in range(len(temporal_stack.graphics)):\n",
    "        temporal_stack.graphics[i].colors = \"magenta\"\n",
    "        temporal_stack.graphics[i].colors[selected_indices] = \"white\"\n",
    "\n",
    "# add event handler\n",
    "selector.selection.add_event_handler(color_change)"
   ]
  },
  {
   "cell_type": "code",
   "execution_count": 41,
   "id": "ff21a1f7-ed6b-4a0a-bf4b-d576dbbf58d2",
   "metadata": {
    "tags": []
   },
   "outputs": [],
   "source": [
    "sc.close()"
   ]
  },
  {
   "cell_type": "code",
   "execution_count": null,
   "id": "637daf81-6b92-4072-89e3-84689cc4ea0d",
   "metadata": {},
   "outputs": [],
   "source": []
  }
 ],
 "metadata": {
  "kernelspec": {
   "display_name": "Python 3 (ipykernel)",
   "language": "python",
   "name": "python3"
  },
  "language_info": {
   "codemirror_mode": {
    "name": "ipython",
    "version": 3
   },
   "file_extension": ".py",
   "mimetype": "text/x-python",
   "name": "python",
   "nbconvert_exporter": "python",
   "pygments_lexer": "ipython3",
   "version": "3.11.3"
  }
 },
 "nbformat": 4,
 "nbformat_minor": 5
}
