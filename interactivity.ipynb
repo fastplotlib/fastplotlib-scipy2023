{
 "cells": [
  {
   "cell_type": "markdown",
   "id": "a8634dad-2705-4107-be1d-e2dd12e575f9",
   "metadata": {},
   "source": [
    "# Interactivity\n",
    "\n",
    "This notebook walks through a simple, yet powerful example of how our abstract interactivity system can be used to link graphics and their features together."
   ]
  },
  {
   "cell_type": "code",
   "execution_count": 1,
   "id": "e71723e0-aa1c-49ee-b141-a720c4ea46dc",
   "metadata": {
    "tags": []
   },
   "outputs": [],
   "source": [
    "import fastplotlib as fpl\n",
    "from sidecar import Sidecar\n",
    "import numpy as np\n",
    "from ipywidgets import VBox"
   ]
  },
  {
   "cell_type": "markdown",
   "id": "84b0425c-7e1a-41fe-884d-e2ed8674b8f6",
   "metadata": {},
   "source": [
    "Load in some neural data."
   ]
  },
  {
   "cell_type": "code",
   "execution_count": 2,
   "id": "6193b269-fbac-46de-9404-e9fc4097c068",
   "metadata": {
    "tags": []
   },
   "outputs": [],
   "source": [
    "# reconstructed movie of CaImAn Sue demo movie after running motion correction and CNMF algorithms\n",
    "movie = np.load('/home/clewis7/repos/fastplotlib-scipy2023/data/rcm.npy')\n",
    "\n",
    "# temporal traces of identified neurons\n",
    "temporal = np.load('/home/clewis7/repos/fastplotlib-scipy2023/data/temporal.npy')\n",
    "\n",
    "# contours of identified neurons\n",
    "contours = np.load('/home/clewis7/repos/fastplotlib-scipy2023/data/contours.npy', allow_pickle=True)"
   ]
  },
  {
   "cell_type": "code",
   "execution_count": 3,
   "id": "6017327f-b197-4d1a-a6d0-36d9712957b1",
   "metadata": {
    "tags": []
   },
   "outputs": [
    {
     "data": {
      "text/plain": [
       "(3000, 170, 170)"
      ]
     },
     "execution_count": 3,
     "metadata": {},
     "output_type": "execute_result"
    }
   ],
   "source": [
    "movie.shape"
   ]
  },
  {
   "cell_type": "code",
   "execution_count": 4,
   "id": "f0df4095-d3cb-42b0-8330-a54681ed4b7f",
   "metadata": {
    "tags": []
   },
   "outputs": [
    {
     "data": {
      "text/plain": [
       "(155, 3000)"
      ]
     },
     "execution_count": 4,
     "metadata": {},
     "output_type": "execute_result"
    }
   ],
   "source": [
    "temporal.shape"
   ]
  },
  {
   "cell_type": "code",
   "execution_count": 5,
   "id": "0d236133-7a66-42a3-b493-c999368e9fac",
   "metadata": {
    "tags": []
   },
   "outputs": [
    {
     "data": {
      "text/plain": [
       "(155,)"
      ]
     },
     "execution_count": 5,
     "metadata": {},
     "output_type": "execute_result"
    }
   ],
   "source": [
    "contours.shape"
   ]
  },
  {
   "cell_type": "markdown",
   "id": "f55055fd-84a7-46cb-8021-518df6519f08",
   "metadata": {},
   "source": [
    "Will need a euclidean helper function to indentify which contours has been clicked on. We hope to soon include this, and other common callback functions, in our interactivity system :D"
   ]
  },
  {
   "cell_type": "code",
   "execution_count": 6,
   "id": "4315315a-32cc-4bae-939b-d2bfd300aefa",
   "metadata": {
    "tags": []
   },
   "outputs": [],
   "source": [
    "def euclidean(source, target, event, new_data):\n",
    "    \"\"\"maps click events to contour\"\"\"\n",
    "    # calculate coms of line collection\n",
    "    indices = np.array(event.pick_info[\"index\"])\n",
    "    \n",
    "    coms = list()\n",
    "\n",
    "    for contour in target.graphics:\n",
    "        coors = contour.data()[~np.isnan(contour.data()).any(axis=1)]\n",
    "        com = coors.mean(axis=0)\n",
    "        coms.append(com)\n",
    "\n",
    "    # euclidean distance to find closest index of com \n",
    "    indices = np.append(indices, [0])\n",
    "    \n",
    "    ix = int(np.linalg.norm((coms - indices), axis=1).argsort()[0])\n",
    "    \n",
    "    target._set_feature(feature=\"colors\", new_data=new_data, indices=ix)\n",
    "    \n",
    "    return None"
   ]
  },
  {
   "cell_type": "markdown",
   "id": "fb577f22-aeea-4f57-b588-1fc08d9aa87c",
   "metadata": {},
   "source": [
    "### Plot creation\n",
    "\n",
    "Create an `ImageWidget`to display the reconstructed movie and identified neurons. Also create a `Plot` instance to display the associated temporal data for each identified nueron."
   ]
  },
  {
   "cell_type": "code",
   "execution_count": 7,
   "id": "93e26775-3d24-4eb4-8831-fae5cb5fd71c",
   "metadata": {
    "tags": []
   },
   "outputs": [
    {
     "data": {
      "application/vnd.jupyter.widget-view+json": {
       "model_id": "d9bb1f951a344fcf978dd5ac57caf447",
       "version_major": 2,
       "version_minor": 0
      },
      "text/plain": [
       "RFBOutputContext()"
      ]
     },
     "metadata": {},
     "output_type": "display_data"
    },
    {
     "name": "stderr",
     "output_type": "stream",
     "text": [
      "/home/clewis7/repos/fastplotlib/fastplotlib/graphics/_features/_base.py:34: UserWarning: converting float64 array to float32\n",
      "  warn(f\"converting {array.dtype} array to float32\")\n"
     ]
    },
    {
     "data": {
      "application/vnd.jupyter.widget-view+json": {
       "model_id": "b79a1a99c02a41808bb1df14d383d515",
       "version_major": 2,
       "version_minor": 0
      },
      "text/plain": [
       "RFBOutputContext()"
      ]
     },
     "metadata": {},
     "output_type": "display_data"
    }
   ],
   "source": [
    "# for the image data and contours\n",
    "cnmf_iw = fpl.ImageWidget(movie, vmin_vmax_sliders=True, cmap=\"gnuplot2\")\n",
    "\n",
    "# add contours to the plot within the widget\n",
    "contours_graphic = cnmf_iw.gridplot[0,0].add_line_collection(\n",
    "    contours, \n",
    "    colors=\"red\", \n",
    "    thickness=1.1, \n",
    "    name=\"contours\"\n",
    ")\n",
    "\n",
    "# temporal plot\n",
    "plot_temporal = fpl.Plot(size=(600,100))\n",
    "\n",
    "# stack the plots and show them in sidecar\n",
    "sc = Sidecar(title=\"interactivity\")\n",
    "\n",
    "with sc:\n",
    "    display(VBox([cnmf_iw.show(), plot_temporal.show()]))"
   ]
  },
  {
   "cell_type": "code",
   "execution_count": 8,
   "id": "99a3d096-3b72-4c20-98c8-a5fb27ab8fe3",
   "metadata": {
    "tags": []
   },
   "outputs": [],
   "source": [
    "cnmf_iw.vmin_vmax_sliders[0].value = (-5, 15)"
   ]
  },
  {
   "cell_type": "markdown",
   "id": "a7318dbf-5578-4216-b8f9-e503cc687bff",
   "metadata": {},
   "source": [
    "### Interacitvity of `Graphics` using `link()` and callback functions"
   ]
  },
  {
   "cell_type": "code",
   "execution_count": 9,
   "id": "0a4968fc-1926-4eb7-85a5-2bedf1581b7f",
   "metadata": {
    "tags": []
   },
   "outputs": [],
   "source": [
    "# link image to contours\n",
    "image_graphic = cnmf_iw.gridplot[0,0][\"image_widget_managed\"]\n",
    "\n",
    "image_graphic.link(\n",
    "    \"click\",\n",
    "    target=contours_graphic,\n",
    "    feature=\"colors\", \n",
    "    new_data=\"cyan\", \n",
    "    callback=euclidean\n",
    ")\n",
    "\n",
    "# a vertical line that is syncronized to the image widget \"t\" (timepoint) slider\n",
    "def update_timepoint(ev):\n",
    "    ix = ev.pick_info[\"selected_index\"]\n",
    "    cnmf_iw.sliders[\"t\"].value = ix\n",
    "\n",
    "# callback function to display correct temporal trace\n",
    "def generate_temporal(ev):\n",
    "    # clear the plot \n",
    "    plot_temporal.clear()\n",
    "    \n",
    "    # get data of selected ix\n",
    "    data = temporal[ev.pick_info[\"collection-index\"]]\n",
    "    \n",
    "    # add trace to plot \n",
    "    temporal_graphic = plot_temporal.add_line(data, colors=\"magenta\")\n",
    "    \n",
    "    # add selector synced to \"t\" slider\n",
    "    selector = temporal_graphic.add_linear_selector()\n",
    "    selector.selection.add_event_handler(update_timepoint)\n",
    "    \n",
    "    plot_temporal.auto_scale()\n",
    "\n",
    "# add event handler so that temporal trace is generated when contour is clicked on\n",
    "contours_graphic[:].colors.add_event_handler(generate_temporal)\n",
    "\n",
    "# thickness of contour\n",
    "contours_graphic.link(\"colors\", target=contours_graphic, feature=\"thickness\", new_data=5)"
   ]
  },
  {
   "cell_type": "code",
   "execution_count": 10,
   "id": "f7b78a88-7aa5-4de7-a796-4a99514631c8",
   "metadata": {
    "tags": []
   },
   "outputs": [],
   "source": [
    "plot_temporal.close()\n",
    "cnmf_iw.gridplot.close()\n",
    "sc.close()"
   ]
  },
  {
   "cell_type": "code",
   "execution_count": null,
   "id": "8f2a0763-5868-4b67-9c3e-3fa7a7531d8a",
   "metadata": {},
   "outputs": [],
   "source": []
  }
 ],
 "metadata": {
  "kernelspec": {
   "display_name": "Python 3 (ipykernel)",
   "language": "python",
   "name": "python3"
  },
  "language_info": {
   "codemirror_mode": {
    "name": "ipython",
    "version": 3
   },
   "file_extension": ".py",
   "mimetype": "text/x-python",
   "name": "python",
   "nbconvert_exporter": "python",
   "pygments_lexer": "ipython3",
   "version": "3.11.3"
  }
 },
 "nbformat": 4,
 "nbformat_minor": 5
}
