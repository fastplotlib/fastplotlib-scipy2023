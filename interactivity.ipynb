{
 "cells": [
  {
   "cell_type": "markdown",
   "id": "a8634dad-2705-4107-be1d-e2dd12e575f9",
   "metadata": {},
   "source": [
    "# Interactivity\n",
    "\n",
    "This notebook walks through a simple, yet powerful example of how our abstract interactivity system can be used to link graphics and their features together."
   ]
  },
  {
   "cell_type": "code",
   "execution_count": 1,
   "id": "e71723e0-aa1c-49ee-b141-a720c4ea46dc",
   "metadata": {
    "tags": []
   },
   "outputs": [],
   "source": [
    "import fastplotlib as fpl\n",
    "from sidecar import Sidecar\n",
    "import numpy as np\n",
    "from ipywidgets import VBox"
   ]
  },
  {
   "cell_type": "markdown",
   "id": "84b0425c-7e1a-41fe-884d-e2ed8674b8f6",
   "metadata": {},
   "source": [
    "Load in some neural data."
   ]
  },
  {
   "cell_type": "code",
   "execution_count": 2,
   "id": "6193b269-fbac-46de-9404-e9fc4097c068",
   "metadata": {
    "tags": []
   },
   "outputs": [],
   "source": [
    "# reconstructed movie of CaImAn Sue demo movie after running motion correction and CNMF algorithms\n",
    "movie = np.load('./fpl-scipy2023-data/neural_data/rcm.npy')\n",
    "\n",
    "# temporal traces of identified neurons\n",
    "temporal = np.load('./fpl-scipy2023-data/neural_data/temporal.npy')\n",
    "\n",
    "# contours of identified neurons\n",
    "contours = np.load(\"./fpl-scipy2023-data/neural_data/contours.npy\", allow_pickle=True)"
   ]
  },
  {
   "cell_type": "markdown",
   "id": "f55055fd-84a7-46cb-8021-518df6519f08",
   "metadata": {},
   "source": [
    "Will need a euclidean helper function to indentify which contours has been clicked on. We hope to soon include this, and other common callback functions, in our interactivity system :D"
   ]
  },
  {
   "cell_type": "code",
   "execution_count": 3,
   "id": "4315315a-32cc-4bae-939b-d2bfd300aefa",
   "metadata": {
    "tags": []
   },
   "outputs": [],
   "source": [
    "def euclidean(source, target, event, new_data):\n",
    "    \"\"\"maps click events to contour\"\"\"\n",
    "    # calculate coms of line collection\n",
    "    indices = np.array(event.pick_info[\"index\"])\n",
    "    \n",
    "    coms = list()\n",
    "\n",
    "    for contour in target.graphics:\n",
    "        coors = contour.data()[~np.isnan(contour.data()).any(axis=1)]\n",
    "        com = coors.mean(axis=0)\n",
    "        coms.append(com)\n",
    "\n",
    "    # euclidean distance to find closest index of com \n",
    "    indices = np.append(indices, [0])\n",
    "    \n",
    "    ix = int(np.linalg.norm((coms - indices), axis=1).argsort()[0])\n",
    "    \n",
    "    target._set_feature(feature=\"colors\", new_data=new_data, indices=ix)\n",
    "    \n",
    "    return None"
   ]
  },
  {
   "cell_type": "markdown",
   "id": "fb577f22-aeea-4f57-b588-1fc08d9aa87c",
   "metadata": {},
   "source": [
    "### Plot creation\n",
    "\n",
    "Create an `ImageWidget`to display the reconstructed movie and identified neurons. Also create a `Plot` instance to display the associated temporal data for each identified nueron."
   ]
  },
  {
   "cell_type": "code",
   "execution_count": 4,
   "id": "93e26775-3d24-4eb4-8831-fae5cb5fd71c",
   "metadata": {
    "tags": []
   },
   "outputs": [
    {
     "data": {
      "application/vnd.jupyter.widget-view+json": {
       "model_id": "a1cecb0a8f4b408783ae703c37624f2e",
       "version_major": 2,
       "version_minor": 0
      },
      "text/plain": [
       "RFBOutputContext()"
      ]
     },
     "metadata": {},
     "output_type": "display_data"
    },
    {
     "name": "stderr",
     "output_type": "stream",
     "text": [
      "/home/clewis7/repos/fastplotlib/fastplotlib/graphics/_features/_base.py:34: UserWarning: converting float64 array to float32\n",
      "  warn(f\"converting {array.dtype} array to float32\")\n"
     ]
    },
    {
     "data": {
      "application/vnd.jupyter.widget-view+json": {
       "model_id": "0136aea73e49401b92d017b06ad14fa9",
       "version_major": 2,
       "version_minor": 0
      },
      "text/plain": [
       "RFBOutputContext()"
      ]
     },
     "metadata": {},
     "output_type": "display_data"
    }
   ],
   "source": [
    "# for the image data and contours\n",
    "cnmf_iw = fpl.ImageWidget(\n",
    "    movie, \n",
    "    vmin_vmax_sliders=True, \n",
    "    grid_plot_kwargs={\"size\": (600, 400)},\n",
    "    cmap=\"gnuplot2\",\n",
    ")\n",
    "\n",
    "# temporal plot\n",
    "plot_temporal = fpl.Plot(size=(600,100))\n",
    "plot_temporal.add_line(temporal[0], colors=\"magenta\")\n",
    "\n",
    "# stack the plots and show them in sidecar\n",
    "sc = Sidecar(title=\"interactivity\")\n",
    "\n",
    "with sc:\n",
    "    display(VBox([cnmf_iw.show(), plot_temporal.show(maintain_aspect=False)]))"
   ]
  },
  {
   "cell_type": "code",
   "execution_count": 5,
   "id": "f99342b0-27c0-4b1a-9091-0ec3cde9632f",
   "metadata": {
    "tags": []
   },
   "outputs": [],
   "source": [
    "# add contours\n",
    "contours_graphic = cnmf_iw.gridplot[0,0].add_line_collection(\n",
    "    contours, \n",
    "    colors=\"red\", \n",
    "    thickness=2, \n",
    "    name=\"contours\"\n",
    ")"
   ]
  },
  {
   "cell_type": "code",
   "execution_count": 6,
   "id": "99a3d096-3b72-4c20-98c8-a5fb27ab8fe3",
   "metadata": {
    "tags": []
   },
   "outputs": [],
   "source": [
    "cnmf_iw.vmin_vmax_sliders[0].value = (-5, 15)"
   ]
  },
  {
   "cell_type": "markdown",
   "id": "a7318dbf-5578-4216-b8f9-e503cc687bff",
   "metadata": {},
   "source": [
    "### Interacitvity of `Graphics` using `link()` and callback functions"
   ]
  },
  {
   "cell_type": "code",
   "execution_count": 7,
   "id": "0a4968fc-1926-4eb7-85a5-2bedf1581b7f",
   "metadata": {
    "tags": []
   },
   "outputs": [],
   "source": [
    "# link image to contours\n",
    "image_graphic = cnmf_iw.gridplot[0,0][\"image_widget_managed\"]\n",
    "\n",
    "image_graphic.link(\n",
    "    \"click\",\n",
    "    target=contours_graphic,\n",
    "    feature=\"colors\", \n",
    "    new_data=\"cyan\", \n",
    "    callback=euclidean\n",
    ")\n",
    "\n",
    "# a vertical line that is syncronized to the image widget \"t\" (timepoint) slider\n",
    "def update_timepoint(ev):\n",
    "    ix = ev.pick_info[\"selected_index\"]\n",
    "    cnmf_iw.sliders[\"t\"].value = ix\n",
    "\n",
    "\n",
    "# callback function to display correct temporal trace\n",
    "def generate_temporal(ev):\n",
    "    # clear the plot \n",
    "    plot_temporal.clear()\n",
    "    \n",
    "    # get data of selected ix\n",
    "    data = temporal[ev.pick_info[\"collection-index\"]]\n",
    "    \n",
    "    # add trace to plot \n",
    "    temporal_graphic = plot_temporal.add_line(data, colors=\"magenta\")\n",
    "    \n",
    "    # add selector synced to \"t\" slider\n",
    "    selector = temporal_graphic.add_linear_selector()\n",
    "    selector.selection.add_event_handler(update_timepoint)\n",
    "    \n",
    "    plot_temporal.auto_scale()\n",
    "\n",
    "# add event handler so that temporal trace is generated when contour is clicked on\n",
    "contours_graphic[:].colors.add_event_handler(generate_temporal)\n",
    "\n",
    "# thickness of contour\n",
    "contours_graphic.link(\"colors\", target=contours_graphic, feature=\"thickness\", new_data=5)"
   ]
  },
  {
   "cell_type": "code",
   "execution_count": 8,
   "id": "f7b78a88-7aa5-4de7-a796-4a99514631c8",
   "metadata": {
    "tags": []
   },
   "outputs": [],
   "source": [
    "plot_temporal.close()\n",
    "cnmf_iw.gridplot.close()\n",
    "sc.close()"
   ]
  },
  {
   "cell_type": "code",
   "execution_count": null,
   "id": "8baf21c1-036e-4882-8a1c-4c5ab2e5f605",
   "metadata": {},
   "outputs": [],
   "source": []
  }
 ],
 "metadata": {
  "kernelspec": {
   "display_name": "Python 3 (ipykernel)",
   "language": "python",
   "name": "python3"
  },
  "language_info": {
   "codemirror_mode": {
    "name": "ipython",
    "version": 3
   },
   "file_extension": ".py",
   "mimetype": "text/x-python",
   "name": "python",
   "nbconvert_exporter": "python",
   "pygments_lexer": "ipython3",
   "version": "3.11.3"
  }
 },
 "nbformat": 4,
 "nbformat_minor": 5
}
