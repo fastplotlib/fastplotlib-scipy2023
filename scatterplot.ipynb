{
 "cells": [
  {
   "cell_type": "markdown",
   "id": "cb36b8f4-62d9-45a1-9c0b-dff34c08472b",
   "metadata": {},
   "source": [
    "## Scatterplot\n",
    "\n",
    "`GridPlot` layout of scatter plots with a mix of 2d an 3d cameras"
   ]
  },
  {
   "cell_type": "code",
   "execution_count": 10,
   "id": "c1f92c66-b30d-4c45-8033-addc1c3231eb",
   "metadata": {
    "tags": []
   },
   "outputs": [],
   "source": [
    "import fastplotlib as fpl\n",
    "import numpy as np\n",
    "from sidecar import Sidecar"
   ]
  },
  {
   "cell_type": "markdown",
   "id": "13604307-8fb9-4aae-beca-195b57a5cddb",
   "metadata": {},
   "source": [
    "Generate data"
   ]
  },
  {
   "cell_type": "code",
   "execution_count": 11,
   "id": "743c1d94-e733-4e03-954f-d55125bf781b",
   "metadata": {
    "tags": []
   },
   "outputs": [],
   "source": [
    "n_points = 10_000\n",
    "\n",
    "dims = (n_points, 3)\n",
    "\n",
    "offset = 15\n",
    "\n",
    "normal = np.random.normal(size=dims, scale=5)\n",
    "cloud = np.vstack(\n",
    "    [\n",
    "        normal - offset,\n",
    "        normal,\n",
    "        normal + offset,\n",
    "    ]\n",
    ")\n"
   ]
  },
  {
   "cell_type": "markdown",
   "id": "f2df0522-4b3e-4d93-a461-e86e6187f698",
   "metadata": {},
   "source": [
    "Create `GridPlot` instance"
   ]
  },
  {
   "cell_type": "code",
   "execution_count": 12,
   "id": "c3437acf-74f0-4820-86f1-fec0a79f8a6d",
   "metadata": {
    "tags": []
   },
   "outputs": [
    {
     "data": {
      "application/vnd.jupyter.widget-view+json": {
       "model_id": "9ffb8e467c6046a482d0ccc504609e6c",
       "version_major": 2,
       "version_minor": 0
      },
      "text/plain": [
       "RFBOutputContext()"
      ]
     },
     "metadata": {},
     "output_type": "display_data"
    }
   ],
   "source": [
    "colors = [\"yellow\"] * n_points + [\"cyan\"] * n_points + [\"magenta\"] * n_points\n",
    "\n",
    "# grid with 2 rows and 2 columns\n",
    "shape = (2, 2)\n",
    "\n",
    "# define the camera\n",
    "# a mix of 2d and 3d\n",
    "cameras = [\n",
    "    ['2d', '3d'], \n",
    "    ['3d', '2d']\n",
    "]\n",
    "\n",
    "# pan-zoom controllers for each view\n",
    "# views are synced if they have the \n",
    "# same controller ID\n",
    "# you can only sync controllers that use the same camera type\n",
    "# i.e. you cannot sync between 2d and 3d subplots\n",
    "controllers = [\n",
    "    [0, 1],\n",
    "    [1, 0]\n",
    "]\n",
    "\n",
    "# create the grid plot\n",
    "grid_plot = fpl.GridPlot(\n",
    "    shape=shape,\n",
    "    cameras=cameras,\n",
    "    controllers=controllers\n",
    ")\n",
    "\n",
    "# add scatter graphics to subplots\n",
    "for subplot in grid_plot:\n",
    "    subplot.add_scatter(data=cloud, colors=colors, alpha=0.7, sizes=5)\n",
    "    \n",
    "    subplot.set_axes_visibility(True)\n",
    "    subplot.set_grid_visibility(True)\n",
    "\n",
    "\n",
    "# view with sidecar \n",
    "sc = Sidecar(title=\"scatter plot\")\n",
    "\n",
    "with sc:\n",
    "    display(grid_plot.show())"
   ]
  },
  {
   "cell_type": "markdown",
   "id": "7e44e2cf-6c72-46eb-9902-717a61b5c20e",
   "metadata": {},
   "source": [
    "### Feature changes"
   ]
  },
  {
   "cell_type": "code",
   "execution_count": 13,
   "id": "794a8d9a-0ee9-4e94-b60a-0bdf5feb1818",
   "metadata": {
    "tags": []
   },
   "outputs": [],
   "source": [
    "grid_plot[0, 1].graphics[0].colors[n_points:int(n_points * 1.5)] = \"r\""
   ]
  },
  {
   "cell_type": "code",
   "execution_count": 5,
   "id": "ca6c0825-3350-45a9-b620-5809d46f1af9",
   "metadata": {
    "tags": []
   },
   "outputs": [],
   "source": [
    "grid_plot[0, 1].graphics[0].colors[:n_points:10] = \"blue\""
   ]
  },
  {
   "cell_type": "code",
   "execution_count": 7,
   "id": "18540716-08fe-49fb-8400-69d7860ac0be",
   "metadata": {
    "tags": []
   },
   "outputs": [],
   "source": [
    "grid_plot[0, 0].graphics[0].colors[n_points:] = \"green\""
   ]
  },
  {
   "cell_type": "code",
   "execution_count": 8,
   "id": "db46264d-96bf-4870-a5ca-94d14134002f",
   "metadata": {
    "tags": []
   },
   "outputs": [],
   "source": [
    "grid_plot[0, 1].graphics[0].colors[n_points:, -1] = 0"
   ]
  },
  {
   "cell_type": "code",
   "execution_count": 9,
   "id": "034fede4-9e63-482f-b77d-ea1fe2d09577",
   "metadata": {
    "tags": []
   },
   "outputs": [],
   "source": [
    "grid_plot[0, 1].graphics[0].data[:n_points] = grid_plot[0, 1].graphics[0].data[n_points * 2:]"
   ]
  },
  {
   "cell_type": "code",
   "execution_count": 14,
   "id": "4b9e10c3-46f4-4b5f-abf8-b869d1385e5b",
   "metadata": {
    "tags": []
   },
   "outputs": [],
   "source": [
    "gridplot.close()\n",
    "sc.close()"
   ]
  },
  {
   "cell_type": "code",
   "execution_count": null,
   "id": "763d8832-3a44-49e9-bd09-000aecc0e62f",
   "metadata": {},
   "outputs": [],
   "source": []
  }
 ],
 "metadata": {
  "kernelspec": {
   "display_name": "Python 3 (ipykernel)",
   "language": "python",
   "name": "python3"
  },
  "language_info": {
   "codemirror_mode": {
    "name": "ipython",
    "version": 3
   },
   "file_extension": ".py",
   "mimetype": "text/x-python",
   "name": "python",
   "nbconvert_exporter": "python",
   "pygments_lexer": "ipython3",
   "version": "3.11.3"
  }
 },
 "nbformat": 4,
 "nbformat_minor": 5
}
