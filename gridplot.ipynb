{
 "cells": [
  {
   "cell_type": "markdown",
   "id": "5968b66a-8e78-488e-a2a0-1b2ac72cbb28",
   "metadata": {},
   "source": [
    "# GridPlot\n",
    "\n",
    "Allows for proper subplotting. Create graphics and add them to a `GridPlot`."
   ]
  },
  {
   "cell_type": "code",
   "execution_count": 1,
   "id": "66eaaf8e-3324-4e77-9cc4-f52682c7caea",
   "metadata": {
    "tags": []
   },
   "outputs": [],
   "source": [
    "import fastplotlib as fpl\n",
    "import numpy as np\n",
    "from sidecar import Sidecar"
   ]
  },
  {
   "cell_type": "code",
   "execution_count": 2,
   "id": "e481359b-6b49-40c5-86dd-b1c177314cd6",
   "metadata": {
    "tags": []
   },
   "outputs": [
    {
     "data": {
      "application/vnd.jupyter.widget-view+json": {
       "model_id": "01f8aa22c8c94c8a81eba580d256bb4b",
       "version_major": 2,
       "version_minor": 0
      },
      "text/plain": [
       "RFBOutputContext()"
      ]
     },
     "metadata": {},
     "output_type": "display_data"
    },
    {
     "name": "stderr",
     "output_type": "stream",
     "text": [
      "/home/clewis7/repos/fastplotlib/fastplotlib/graphics/_features/_base.py:34: UserWarning: converting float64 array to float32\n",
      "  warn(f\"converting {array.dtype} array to float32\")\n"
     ]
    }
   ],
   "source": [
    "# GridPlot of shape 2 x 3 with all controllers synced\n",
    "grid_plot = fpl.GridPlot(shape=(2, 3), controllers=\"sync\")\n",
    "\n",
    "# Make a random image graphic for each subplot\n",
    "for subplot in grid_plot:\n",
    "    # create image data\n",
    "    data = np.random.rand(512, 512)\n",
    "    # add an image to the subplot\n",
    "    subplot.add_image(data, name=\"rand-img\")\n",
    "\n",
    "# Define a function to update the image graphics with new data\n",
    "# add_animations will pass the gridplot to the animation function\n",
    "def update_data(gp):\n",
    "    for sp in gp:\n",
    "        new_data = np.random.rand(512, 512)\n",
    "        # index the image graphic by name and set the data\n",
    "        sp[\"rand-img\"].data = new_data\n",
    "        \n",
    "# add the animation function\n",
    "grid_plot.add_animations(update_data)\n",
    "\n",
    "sc = Sidecar(title=\"gridplot\")\n",
    "\n",
    "# show the gridplot \n",
    "with sc:\n",
    "    display(grid_plot.show())"
   ]
  },
  {
   "cell_type": "markdown",
   "id": "30596ad1-ffb7-4beb-a723-7cb5a2f45eac",
   "metadata": {},
   "source": [
    "## Accessing subplots within `GridPlot`"
   ]
  },
  {
   "cell_type": "code",
   "execution_count": 3,
   "id": "ed86a89d-0cb9-44e6-97ac-56499c9a0a2e",
   "metadata": {
    "tags": []
   },
   "outputs": [
    {
     "data": {
      "text/plain": [
       "unnamed: Subplot @ 0x7fac550680d0\n",
       "  parent: fastplotlib.GridPlot @ 0x7fac550a0d10\n",
       "\n",
       "  Graphics:\n",
       "\t'rand-img': ImageGraphic @ 0x7fac3c169310"
      ]
     },
     "execution_count": 3,
     "metadata": {},
     "output_type": "execute_result"
    }
   ],
   "source": [
    "# positional indexing\n",
    "# row 0 and col 0\n",
    "grid_plot[0, 0]"
   ]
  },
  {
   "cell_type": "markdown",
   "id": "cd073684-8f3a-4283-b9c1-aad271c82752",
   "metadata": {},
   "source": [
    "### You can get the graphics within a subplot, just like with simple `Plot`"
   ]
  },
  {
   "cell_type": "code",
   "execution_count": 4,
   "id": "bf671e47-70b7-428b-bfca-55123e99344d",
   "metadata": {
    "tags": []
   },
   "outputs": [
    {
     "data": {
      "text/plain": [
       "(<weakproxy at 0x7fac0472ca90 to ImageGraphic at 0x7fac04725810>,)"
      ]
     },
     "execution_count": 4,
     "metadata": {},
     "output_type": "execute_result"
    }
   ],
   "source": [
    "grid_plot[0, 1].graphics"
   ]
  },
  {
   "cell_type": "markdown",
   "id": "25a0ef00-05f3-484a-9b38-91d72104e736",
   "metadata": {},
   "source": [
    "### and change their properties"
   ]
  },
  {
   "cell_type": "code",
   "execution_count": 5,
   "id": "2b9f4996-9321-488c-aa7d-99129a8a0dd0",
   "metadata": {
    "tags": []
   },
   "outputs": [],
   "source": [
    "grid_plot[0, 1].graphics[0].cmap.vmax = 0.5"
   ]
  },
  {
   "cell_type": "markdown",
   "id": "5337a9cf-4823-43f3-9fa5-9641f4026d50",
   "metadata": {},
   "source": [
    "### more indexing with `GridPlot`"
   ]
  },
  {
   "cell_type": "code",
   "execution_count": 6,
   "id": "fb186973-1ce2-4361-bb97-0f50342f9861",
   "metadata": {
    "tags": []
   },
   "outputs": [],
   "source": [
    "# you can give subplots human-readable string names\n",
    "grid_plot[0, 2].name = \"top-right-plot\""
   ]
  },
  {
   "cell_type": "code",
   "execution_count": 7,
   "id": "403d2d0a-7cbf-4e43-a75a-dfff98d40cf2",
   "metadata": {
    "tags": []
   },
   "outputs": [
    {
     "data": {
      "text/plain": [
       "top-right-plot: Subplot @ 0x7fac3c092e50\n",
       "  parent: fastplotlib.GridPlot @ 0x7fac550a0d10\n",
       "\n",
       "  Graphics:\n",
       "\t'rand-img': ImageGraphic @ 0x7fac04727310"
      ]
     },
     "execution_count": 7,
     "metadata": {},
     "output_type": "execute_result"
    }
   ],
   "source": [
    "grid_plot[\"top-right-plot\"]"
   ]
  },
  {
   "cell_type": "code",
   "execution_count": 8,
   "id": "4f296891-a8b4-47d1-8d17-7554c36b00ed",
   "metadata": {
    "tags": []
   },
   "outputs": [
    {
     "data": {
      "text/plain": [
       "(0, 2)"
      ]
     },
     "execution_count": 8,
     "metadata": {},
     "output_type": "execute_result"
    }
   ],
   "source": [
    "# view its position\n",
    "grid_plot[\"top-right-plot\"].position"
   ]
  },
  {
   "cell_type": "code",
   "execution_count": 9,
   "id": "85f06940-3eec-49e9-97a0-00054ad27d8a",
   "metadata": {
    "tags": []
   },
   "outputs": [
    {
     "data": {
      "text/plain": [
       "True"
      ]
     },
     "execution_count": 9,
     "metadata": {},
     "output_type": "execute_result"
    }
   ],
   "source": [
    "# these are really the same\n",
    "grid_plot[\"top-right-plot\"] is grid_plot[0, 2]"
   ]
  },
  {
   "cell_type": "markdown",
   "id": "33ced14b-f958-474e-85a9-5f395a8de82b",
   "metadata": {},
   "source": [
    "Indexing with subplot name and graphic name"
   ]
  },
  {
   "cell_type": "code",
   "execution_count": 10,
   "id": "75ecdd19-bd9a-4d93-bb18-a6216e3fde1b",
   "metadata": {
    "tags": []
   },
   "outputs": [],
   "source": [
    "grid_plot[\"top-right-plot\"][\"rand-img\"].cmap.vmin = 0.5"
   ]
  },
  {
   "cell_type": "code",
   "execution_count": 11,
   "id": "4f5f7fab-d7f2-4b6b-8f2d-c0745f9193cb",
   "metadata": {
    "tags": []
   },
   "outputs": [],
   "source": [
    "sc.close()"
   ]
  },
  {
   "cell_type": "code",
   "execution_count": null,
   "id": "204385ee-b164-4e74-8b03-e2f0013f9e47",
   "metadata": {},
   "outputs": [],
   "source": []
  }
 ],
 "metadata": {
  "kernelspec": {
   "display_name": "Python 3 (ipykernel)",
   "language": "python",
   "name": "python3"
  },
  "language_info": {
   "codemirror_mode": {
    "name": "ipython",
    "version": 3
   },
   "file_extension": ".py",
   "mimetype": "text/x-python",
   "name": "python",
   "nbconvert_exporter": "python",
   "pygments_lexer": "ipython3",
   "version": "3.11.3"
  }
 },
 "nbformat": 4,
 "nbformat_minor": 5
}
