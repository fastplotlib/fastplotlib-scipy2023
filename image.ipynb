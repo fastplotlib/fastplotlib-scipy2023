{
 "cells": [
  {
   "cell_type": "markdown",
   "id": "93740a09-9111-4777-ad57-173e9b80a2f0",
   "metadata": {
    "tags": []
   },
   "source": [
    "# Introduction to `fastplotlib`"
   ]
  },
  {
   "cell_type": "markdown",
   "id": "807a45e5-5473-477b-9cb3-41a03a8135c7",
   "metadata": {},
   "source": [
    "## `fastplotlib` API\n",
    "\n",
    "### 1. Graphics - objects that are drawn\n",
    "- `Image`, `Line`, `Scatter`, `Heatmap`\n",
    "- Collections - `LineCollection`, `LineStack` (ex: neural timeseries data)\n",
    "- Interactions\n",
    "\n",
    "### 2. Layouts\n",
    "- `Plot` - a single plot area \n",
    "- `GridPlot` - a grid of `Subplots`\n",
    "\n",
    "### 3. Widgets - high level widgets to make repetitive UIs easier\n",
    "- `ImageWidget`- n-dimensional widget for `Image` data\n",
    "    - Sliders, support window functions, `GridPlot`, etc.\n",
    "    \n",
    "    "
   ]
  },
  {
   "cell_type": "markdown",
   "id": "b95759bc-b567-4327-b825-68fe871c3473",
   "metadata": {
    "tags": []
   },
   "source": [
    "This notebook goes through basic components of the `fastplotlib` API including images, image updates, and `ImageWidget`."
   ]
  },
  {
   "cell_type": "markdown",
   "id": "b5843388-14ac-4736-8f25-08585c06ac1c",
   "metadata": {},
   "source": [
    "**The example images are from imageio so you will need to install it for this example notebook. But imageio is not required to use fasptlotlib**"
   ]
  },
  {
   "cell_type": "code",
   "execution_count": 2,
   "id": "775411ec-15da-4231-a67f-9300265c6ac6",
   "metadata": {
    "tags": []
   },
   "outputs": [
    {
     "name": "stdout",
     "output_type": "stream",
     "text": [
      "Requirement already satisfied: imageio in /home/clewis7/venvs/mescore/lib/python3.11/site-packages (2.28.1)\n",
      "Requirement already satisfied: numpy in /home/clewis7/venvs/mescore/lib/python3.11/site-packages (from imageio) (1.23.5)\n",
      "Requirement already satisfied: pillow>=8.3.2 in /home/clewis7/venvs/mescore/lib/python3.11/site-packages (from imageio) (9.5.0)\n"
     ]
    }
   ],
   "source": [
    "!pip install imageio"
   ]
  },
  {
   "cell_type": "code",
   "execution_count": 3,
   "id": "9aeb2e39-cc13-4662-ada0-cfed7ee2b26c",
   "metadata": {
    "tags": []
   },
   "outputs": [],
   "source": [
    "import imageio.v3 as iio"
   ]
  },
  {
   "cell_type": "code",
   "execution_count": 4,
   "id": "fb57c3d3-f20d-4d88-9e7a-04b9309bc637",
   "metadata": {
    "tags": []
   },
   "outputs": [],
   "source": [
    "import fastplotlib as fpl\n",
    "from ipywidgets import VBox, HBox, IntSlider\n",
    "import numpy as np\n",
    "from sidecar import Sidecar"
   ]
  },
  {
   "cell_type": "markdown",
   "id": "a9b386ac-9218-4f8f-97b3-f29b4201ef55",
   "metadata": {},
   "source": [
    "### Simple image"
   ]
  },
  {
   "cell_type": "code",
   "execution_count": 5,
   "id": "237823b7-e2c0-4e2f-9ee8-e3fc2b4453c4",
   "metadata": {
    "tags": []
   },
   "outputs": [
    {
     "data": {
      "application/vnd.jupyter.widget-view+json": {
       "model_id": "d5738b8bfb6c41d6be3bc88b250e8a7d",
       "version_major": 2,
       "version_minor": 0
      },
      "text/plain": [
       "RFBOutputContext()"
      ]
     },
     "metadata": {},
     "output_type": "display_data"
    }
   ],
   "source": [
    "# create a `Plot` instance\n",
    "plot = fpl.Plot()\n",
    "\n",
    "# get a grayscale image\n",
    "data = iio.imread(\"imageio:camera.png\")\n",
    "\n",
    "# plot the image data\n",
    "image_graphic = plot.add_image(data=data, name=\"sample-image\")\n",
    "\n",
    "# display plot in side car\n",
    "sc = Sidecar(title=\"sample image\")\n",
    "\n",
    "with sc:\n",
    "    # show the plot\n",
    "    display(plot.show())"
   ]
  },
  {
   "cell_type": "markdown",
   "id": "be5b408f-dd91-4e36-807a-8c22c8d7d216",
   "metadata": {},
   "source": [
    "**Use the handle on the bottom right corner of the _canvas_ to resize it. You can also pan and zoom using your mouse!**"
   ]
  },
  {
   "cell_type": "markdown",
   "id": "bc26d9e4-c317-4eec-ae3f-1fd048637026",
   "metadata": {},
   "source": [
    "By default the origin is on the bottom left, you can click the flip button to flip the y-axis, or use `plot.camera.world.scale_y *= -1`"
   ]
  },
  {
   "cell_type": "markdown",
   "id": "7c3b637c-a26b-416e-936c-705275852a8a",
   "metadata": {},
   "source": [
    "Changing graphic **\"features\"**"
   ]
  },
  {
   "cell_type": "code",
   "execution_count": 6,
   "id": "de816c88-1c4a-4071-8a5e-c46c93671ef5",
   "metadata": {
    "tags": []
   },
   "outputs": [],
   "source": [
    "image_graphic.cmap = \"viridis\""
   ]
  },
  {
   "cell_type": "markdown",
   "id": "7303677c-9f7a-44dd-8660-eced0cdca565",
   "metadata": {},
   "source": [
    "### Slicing data\n",
    "\n",
    "**Most features, such as `data`, support slicing!**\n",
    "\n",
    "Our image data is of shape [n_rows, n_columns]"
   ]
  },
  {
   "cell_type": "code",
   "execution_count": 7,
   "id": "83b2db1b-2783-4e89-bcf3-66bb6e09e18a",
   "metadata": {
    "tags": []
   },
   "outputs": [],
   "source": [
    "image_graphic.data[::15, :] = 1\n",
    "image_graphic.data[:, ::15] = 1"
   ]
  },
  {
   "cell_type": "markdown",
   "id": "98e41780-eb84-46d4-8c06-ec59b3238572",
   "metadata": {},
   "source": [
    "**Fancy indexing**"
   ]
  },
  {
   "cell_type": "code",
   "execution_count": 8,
   "id": "3e298c1c-7551-4401-ade0-b9af7d2bbe23",
   "metadata": {
    "tags": []
   },
   "outputs": [],
   "source": [
    "image_graphic.data[data > 175] = 255"
   ]
  },
  {
   "cell_type": "markdown",
   "id": "958b4e14-d820-4acb-af75-3485c844de17",
   "metadata": {},
   "source": [
    "**Adjust vmin vmax**"
   ]
  },
  {
   "cell_type": "code",
   "execution_count": 9,
   "id": "ea100318-023c-4963-b859-8c2a8fcce301",
   "metadata": {
    "tags": []
   },
   "outputs": [],
   "source": [
    "image_graphic.cmap.vmin = 50\n",
    "image_graphic.cmap.vmax = 150"
   ]
  },
  {
   "cell_type": "markdown",
   "id": "ba4be6e6-454b-465f-9eac-3cde424963aa",
   "metadata": {},
   "source": [
    "**Set the entire data array again**\n",
    "\n",
    "Note: The shape of the new data array must match the current data shown in the `Graphic`"
   ]
  },
  {
   "cell_type": "code",
   "execution_count": 10,
   "id": "f6f6a977-f96b-43f4-8235-0f4fce1f6f57",
   "metadata": {
    "tags": []
   },
   "outputs": [
    {
     "data": {
      "text/plain": [
       "(512, 512, 3)"
      ]
     },
     "execution_count": 10,
     "metadata": {},
     "output_type": "execute_result"
    }
   ],
   "source": [
    "new_data = iio.imread(\"imageio:astronaut.png\")\n",
    "new_data.shape"
   ]
  },
  {
   "cell_type": "markdown",
   "id": "38b76440-9b10-42dd-8ca5-2530d2a1da6e",
   "metadata": {},
   "source": [
    "This is an RGB image, convert to grayscale to maintain the shape of (512, 512)"
   ]
  },
  {
   "cell_type": "code",
   "execution_count": 11,
   "id": "7a3dab00-6a92-4ba7-a19a-a4a3c23f3421",
   "metadata": {
    "tags": []
   },
   "outputs": [
    {
     "data": {
      "text/plain": [
       "(512, 512)"
      ]
     },
     "execution_count": 11,
     "metadata": {},
     "output_type": "execute_result"
    }
   ],
   "source": [
    "gray = new_data.dot([0.3, 0.6, 0.1])\n",
    "gray.shape"
   ]
  },
  {
   "cell_type": "code",
   "execution_count": 12,
   "id": "ef731a15-59bb-4bbf-9955-c6069d1c9a7e",
   "metadata": {
    "tags": []
   },
   "outputs": [
    {
     "name": "stderr",
     "output_type": "stream",
     "text": [
      "/home/clewis7/repos/fastplotlib/fastplotlib/graphics/_features/_base.py:34: UserWarning: converting float64 array to float32\n",
      "  warn(f\"converting {array.dtype} array to float32\")\n"
     ]
    }
   ],
   "source": [
    "image_graphic.data = gray"
   ]
  },
  {
   "cell_type": "markdown",
   "id": "ea76f601-f655-43a2-a4ab-2730643fc6a2",
   "metadata": {},
   "source": [
    "**reset vmin vmax**"
   ]
  },
  {
   "cell_type": "code",
   "execution_count": 13,
   "id": "a1320f9f-fff5-4b9b-9a49-0695042ab8ab",
   "metadata": {
    "tags": []
   },
   "outputs": [],
   "source": [
    "image_graphic.cmap.reset_vmin_vmax()"
   ]
  },
  {
   "cell_type": "markdown",
   "id": "67b92ffd-40cc-43fe-9df9-0e0d94763d8e",
   "metadata": {},
   "source": [
    "### Indexing plots\n",
    "\n",
    "**Plots are indexable and give you their graphics by name**"
   ]
  },
  {
   "cell_type": "code",
   "execution_count": 14,
   "id": "e6ba689c-ff4a-44ef-9663-f2c8755072c4",
   "metadata": {
    "tags": []
   },
   "outputs": [
    {
     "data": {
      "text/plain": [
       "unnamed: Plot @ 0x7f5a200b5dd0\n",
       "  parent: None\n",
       "  Graphics:\n",
       "\t'sample-image': ImageGraphic @ 0x7f59fcf64f90"
      ]
     },
     "execution_count": 14,
     "metadata": {},
     "output_type": "execute_result"
    }
   ],
   "source": [
    "plot"
   ]
  },
  {
   "cell_type": "code",
   "execution_count": 15,
   "id": "5b18f4e3-e13b-46d5-af1f-285c5a7fdc12",
   "metadata": {
    "tags": []
   },
   "outputs": [
    {
     "data": {
      "text/plain": [
       "<weakproxy at 0x7f59fcf5a750 to ImageGraphic at 0x7f59fcf64f90>"
      ]
     },
     "execution_count": 15,
     "metadata": {},
     "output_type": "execute_result"
    }
   ],
   "source": [
    "plot[\"sample-image\"]"
   ]
  },
  {
   "cell_type": "markdown",
   "id": "490f0040-0462-4fac-b91e-7537e2d0b2c2",
   "metadata": {},
   "source": [
    "**You can also use numerical indexing on `plot.graphics`**"
   ]
  },
  {
   "cell_type": "code",
   "execution_count": 16,
   "id": "2b5c1321-1fd4-44bc-9433-7439ad3e22cf",
   "metadata": {
    "tags": []
   },
   "outputs": [
    {
     "data": {
      "text/plain": [
       "(<weakproxy at 0x7f59fcf5a750 to ImageGraphic at 0x7f59fcf64f90>,)"
      ]
     },
     "execution_count": 16,
     "metadata": {},
     "output_type": "execute_result"
    }
   ],
   "source": [
    "plot.graphics"
   ]
  },
  {
   "cell_type": "code",
   "execution_count": 17,
   "id": "930ccff4-b678-4e21-a8b1-7f77a232d811",
   "metadata": {
    "tags": []
   },
   "outputs": [
    {
     "data": {
      "text/plain": [
       "<weakproxy at 0x7f59fcf5a750 to ImageGraphic at 0x7f59fcf64f90>"
      ]
     },
     "execution_count": 17,
     "metadata": {},
     "output_type": "execute_result"
    }
   ],
   "source": [
    "plot.graphics[0]"
   ]
  },
  {
   "cell_type": "markdown",
   "id": "57cfdeae-b6ae-409b-abe7-4b76155f1f39",
   "metadata": {},
   "source": [
    "The `Graphic` instance is also returned when you call `plot.add_<graphic_type>`"
   ]
  },
  {
   "cell_type": "code",
   "execution_count": 18,
   "id": "b12bf75e-4e93-4930-9146-e96324fdf3f6",
   "metadata": {
    "tags": []
   },
   "outputs": [
    {
     "data": {
      "text/plain": [
       "<weakproxy at 0x7f59fcf5a750 to ImageGraphic at 0x7f59fcf64f90>"
      ]
     },
     "execution_count": 18,
     "metadata": {},
     "output_type": "execute_result"
    }
   ],
   "source": [
    "image_graphic "
   ]
  },
  {
   "cell_type": "code",
   "execution_count": 20,
   "id": "b56420be-7121-4275-9444-803308400a63",
   "metadata": {
    "tags": []
   },
   "outputs": [
    {
     "data": {
      "text/plain": [
       "True"
      ]
     },
     "execution_count": 20,
     "metadata": {},
     "output_type": "execute_result"
    }
   ],
   "source": [
    "image_graphic == plot[\"sample-image\"]"
   ]
  },
  {
   "cell_type": "code",
   "execution_count": 21,
   "id": "4c369d3d-7219-4231-80cd-ce82b6a67a20",
   "metadata": {
    "tags": []
   },
   "outputs": [],
   "source": [
    "# close sidecar\n",
    "sc.close()"
   ]
  },
  {
   "cell_type": "markdown",
   "id": "f7ed56a9-c613-4a4a-9147-7dc135a00ed2",
   "metadata": {},
   "source": [
    "### RGB images are also supported\n",
    "\n",
    "`cmap` arguments are ignored for rgb images, but vmin vmax still works"
   ]
  },
  {
   "cell_type": "code",
   "execution_count": 24,
   "id": "7f545e43-d4de-4eab-ba8d-6d98c651ffd5",
   "metadata": {
    "tags": []
   },
   "outputs": [
    {
     "data": {
      "application/vnd.jupyter.widget-view+json": {
       "model_id": "ed01aea6c7a74663974599fa61ba6fe8",
       "version_major": 2,
       "version_minor": 0
      },
      "text/plain": [
       "RFBOutputContext()"
      ]
     },
     "metadata": {},
     "output_type": "display_data"
    }
   ],
   "source": [
    "plot_rgb = fpl.Plot()\n",
    "\n",
    "plot_rgb.add_image(new_data, name=\"rgb-image\")\n",
    "\n",
    "sc = Sidecar(title=\"rgb image\")\n",
    "\n",
    "with sc:\n",
    "    display(plot_rgb.show())"
   ]
  },
  {
   "cell_type": "code",
   "execution_count": 25,
   "id": "de797c6c-fafd-4db4-9c6b-ef48b71cd9b5",
   "metadata": {
    "tags": []
   },
   "outputs": [],
   "source": [
    "plot_rgb[\"rgb-image\"].cmap.vmin = 100"
   ]
  },
  {
   "cell_type": "code",
   "execution_count": 26,
   "id": "d5de925b-1dfc-4d53-9f7b-eb85b8bb7791",
   "metadata": {
    "tags": []
   },
   "outputs": [],
   "source": [
    "sc.close()"
   ]
  },
  {
   "cell_type": "markdown",
   "id": "1cb03f42-1029-4b16-a16b-35447d9e2955",
   "metadata": {
    "tags": []
   },
   "source": [
    "### Image updates\n",
    "\n",
    "This examples show how you can define animation functions that run on every render cycle."
   ]
  },
  {
   "cell_type": "code",
   "execution_count": 42,
   "id": "aadd757f-6379-4f52-a709-46aa57c56216",
   "metadata": {
    "tags": []
   },
   "outputs": [
    {
     "data": {
      "application/vnd.jupyter.widget-view+json": {
       "model_id": "6cd7d712e3944e47abd9e0c443ccd840",
       "version_major": 2,
       "version_minor": 0
      },
      "text/plain": [
       "RFBOutputContext()"
      ]
     },
     "metadata": {},
     "output_type": "display_data"
    }
   ],
   "source": [
    "# create another `Plot` instance\n",
    "plot_v = fpl.Plot()\n",
    "\n",
    "plot.canvas.max_buffered_frames = 1\n",
    "\n",
    "# make some random data again\n",
    "data = np.random.rand(512, 512)\n",
    "\n",
    "# plot the data\n",
    "plot_v.add_image(data=data, name=\"random-image\")\n",
    "\n",
    "# a function to update the image_graphic\n",
    "# a plot will pass its plot instance to the animation function as an arugment\n",
    "def update_data(plot_instance):\n",
    "    new_data = np.random.rand(512, 512)\n",
    "    plot_instance[\"random-image\"].data = new_data\n",
    "\n",
    "#add this as an animation function\n",
    "plot_v.add_animations(update_data)\n",
    "\n",
    "# sidecar to display plot\n",
    "sc = Sidecar(title=\"image updates\")\n",
    "\n",
    "with sc:\n",
    "    # show the plot\n",
    "    display(plot_v.show())"
   ]
  },
  {
   "cell_type": "markdown",
   "id": "b313eda1-6e6c-466f-9fd5-8b70c1d3c110",
   "metadata": {},
   "source": [
    "### We can share controllers across plots\n",
    "\n",
    "This example creates a new plot, but it synchronizes the pan-zoom controller"
   ]
  },
  {
   "cell_type": "code",
   "execution_count": 43,
   "id": "86e70b1e-4328-4035-b992-70dff16d2a69",
   "metadata": {
    "tags": []
   },
   "outputs": [
    {
     "data": {
      "application/vnd.jupyter.widget-view+json": {
       "model_id": "8278903a2058474ca7d48e3bebbb4005",
       "version_major": 2,
       "version_minor": 0
      },
      "text/plain": [
       "RFBOutputContext()"
      ]
     },
     "metadata": {},
     "output_type": "display_data"
    },
    {
     "data": {
      "application/vnd.jupyter.widget-view+json": {
       "model_id": "6f519b27b1f04ae6b8ca92bb7e3f7562",
       "version_major": 2,
       "version_minor": 0
      },
      "text/plain": [
       "VBox(children=(JupyterWgpuCanvas(), HBox(children=(Button(icon='expand-arrows-alt', layout=Layout(width='auto'…"
      ]
     },
     "execution_count": 43,
     "metadata": {},
     "output_type": "execute_result"
    }
   ],
   "source": [
    "plot_sync = fpl.Plot(controller=plot_v.controller)\n",
    "\n",
    "data = np.random.rand(512, 512)\n",
    "\n",
    "image_graphic_instance = plot_sync.add_image(data=data, cmap=\"viridis\")\n",
    "\n",
    "# you will need to define a new animation function for this graphic\n",
    "def update_data_2():\n",
    "    new_data = np.random.rand(512, 512)\n",
    "    # alternatively, you can use the stored reference to the graphic as well instead of indexing the Plot\n",
    "    image_graphic_instance.data = new_data\n",
    "\n",
    "plot_sync.add_animations(update_data_2)\n",
    "\n",
    "plot_sync.show()"
   ]
  },
  {
   "cell_type": "markdown",
   "id": "f226c9c2-8d0e-41ab-9ab9-1ae31fd91de5",
   "metadata": {},
   "source": [
    "#### Keeping a reference to the Graphic instance, as shown above `image_graphic_instance`, is useful if you're creating something where you need flexibility in the naming of the graphics"
   ]
  },
  {
   "cell_type": "code",
   "execution_count": 44,
   "id": "bd073e07-5721-4957-8a16-0767b9d64d25",
   "metadata": {
    "tags": []
   },
   "outputs": [],
   "source": [
    "sc.close()"
   ]
  },
  {
   "cell_type": "markdown",
   "id": "d11fabb7-7c76-4e94-893d-80ed9ee3be3d",
   "metadata": {},
   "source": [
    "### You can also use `ipywidgets.VBox` and `HBox` to stack plots."
   ]
  },
  {
   "cell_type": "code",
   "execution_count": 45,
   "id": "ef9743b3-5f81-4b79-9502-fa5fca08e56d",
   "metadata": {
    "tags": []
   },
   "outputs": [
    {
     "data": {
      "application/vnd.jupyter.widget-view+json": {
       "model_id": "1ba472d6e3a44c19a844926e9236bffc",
       "version_major": 2,
       "version_minor": 0
      },
      "text/plain": [
       "VBox(children=(VBox(children=(JupyterWgpuCanvas(frame_feedback={'index': 60, 'timestamp': 1688647730.7396412, …"
      ]
     },
     "execution_count": 45,
     "metadata": {},
     "output_type": "execute_result"
    }
   ],
   "source": [
    "VBox([plot_v.show(), plot_sync.show()])"
   ]
  },
  {
   "cell_type": "code",
   "execution_count": 46,
   "id": "11839d95-8ff7-444c-ae13-6b072c3112c5",
   "metadata": {
    "tags": []
   },
   "outputs": [
    {
     "data": {
      "application/vnd.jupyter.widget-view+json": {
       "model_id": "36b38964b2a14b4080c4ba4312cfadec",
       "version_major": 2,
       "version_minor": 0
      },
      "text/plain": [
       "HBox(children=(VBox(children=(JupyterWgpuCanvas(frame_feedback={'index': 97, 'timestamp': 1688647733.9855459, …"
      ]
     },
     "execution_count": 46,
     "metadata": {},
     "output_type": "execute_result"
    }
   ],
   "source": [
    "HBox([plot_v.show(), plot_sync.show()])"
   ]
  },
  {
   "cell_type": "code",
   "execution_count": 47,
   "id": "e8b3468a-0c92-42b0-8158-6c3c4cb83fa1",
   "metadata": {
    "tags": []
   },
   "outputs": [],
   "source": [
    "# close plots\n",
    "plot_v.close()\n",
    "plot_sync.close()"
   ]
  },
  {
   "cell_type": "markdown",
   "id": "3f7e1a48-a3eb-4308-96f6-88f94971e6b5",
   "metadata": {},
   "source": [
    "# Sliders to scroll through image data\n",
    "\n",
    "We often already have large image arrays (whether in RAM or through lazy loading), and want to view 2D frames across one or more dimensions. There is an `ImageWidget` that should really be used for this, but this example just shows how you can use `ipywidgets` to change data or any **`GraphicFeature`**"
   ]
  },
  {
   "cell_type": "markdown",
   "id": "affe801b-6d2a-41fc-b80d-f7126800f6da",
   "metadata": {},
   "source": [
    "## Plot and scroll through the first dimension with a slider"
   ]
  },
  {
   "cell_type": "code",
   "execution_count": 33,
   "id": "5139ad7c-2d72-402b-9239-27dcf5bd0c89",
   "metadata": {
    "tags": []
   },
   "outputs": [],
   "source": [
    "# use imagio cockatoo video\n",
    "movie = iio.imread('imageio:cockatoo.mp4', index=None)"
   ]
  },
  {
   "cell_type": "code",
   "execution_count": 34,
   "id": "207632a8-9f7d-4931-bebc-b43a49e63b9e",
   "metadata": {
    "tags": []
   },
   "outputs": [
    {
     "data": {
      "application/vnd.jupyter.widget-view+json": {
       "model_id": "e60558fecdd040a8b220c5de3ab32156",
       "version_major": 2,
       "version_minor": 0
      },
      "text/plain": [
       "RFBOutputContext()"
      ]
     },
     "metadata": {},
     "output_type": "display_data"
    },
    {
     "data": {
      "application/vnd.jupyter.widget-view+json": {
       "model_id": "3b776815131b4341bd46deba0828f809",
       "version_major": 2,
       "version_minor": 0
      },
      "text/plain": [
       "VBox(children=(VBox(children=(JupyterWgpuCanvas(), HBox(children=(Button(icon='expand-arrows-alt', layout=Layo…"
      ]
     },
     "execution_count": 34,
     "metadata": {},
     "output_type": "execute_result"
    }
   ],
   "source": [
    "plot_movie = fpl.Plot()\n",
    "\n",
    "# plot the first frame to initialize\n",
    "movie_graphic = plot_movie.add_image(movie[0], vmin=0, vmax=movie.max(), cmap=\"gray\")\n",
    "\n",
    "# make a slider\n",
    "slider = IntSlider(min=0, max=movie.shape[0] - 1, step=1, value=0)\n",
    "\n",
    "# function to update movie_graphic\n",
    "def update_movie(change):    \n",
    "    index = change[\"new\"]\n",
    "    movie_graphic.data = movie[index]\n",
    "    \n",
    "slider.observe(update_movie, \"value\")\n",
    "    \n",
    "# Use an ipywidgets VBox to show the plot and slider\n",
    "VBox([plot_movie.show(), slider])"
   ]
  },
  {
   "cell_type": "markdown",
   "id": "8a480a6e-ba89-4062-a509-af64a3f1606e",
   "metadata": {
    "tags": []
   },
   "source": [
    "#### Note that the use of globals in the `update_movie()` here can get messy, this is not recommended and  you should create a class to properly handle combining widgets like this. _However_ if you want slider widgets for imaging data the recommended way to do this is by using the `ImageWidget`."
   ]
  },
  {
   "cell_type": "markdown",
   "id": "f672dcd8-f55b-4476-b72a-d7a292fee32e",
   "metadata": {},
   "source": [
    "## Single image sequence `ImageWidget` using zebrafish data"
   ]
  },
  {
   "cell_type": "code",
   "execution_count": null,
   "id": "d64091d5-4071-49b0-b852-348657e9abbd",
   "metadata": {},
   "outputs": [],
   "source": [
    "# load in zebrafish data"
   ]
  },
  {
   "cell_type": "code",
   "execution_count": 13,
   "id": "7a76119e-2035-48ba-9a88-a8a6f64a3365",
   "metadata": {
    "tags": []
   },
   "outputs": [
    {
     "data": {
      "application/vnd.jupyter.widget-view+json": {
       "model_id": "b3099fd101d44709923d71b739d574db",
       "version_major": 2,
       "version_minor": 0
      },
      "text/plain": [
       "RFBOutputContext()"
      ]
     },
     "metadata": {},
     "output_type": "display_data"
    }
   ],
   "source": [
    "iw = fpl.ImageWidget(\n",
    "    data=a,\n",
    "    vmin_vmax_sliders=True,\n",
    "    cmap=\"viridis\"\n",
    ")"
   ]
  },
  {
   "cell_type": "code",
   "execution_count": 14,
   "id": "7933b6e3-c81a-432f-b359-06b75759ca94",
   "metadata": {
    "tags": []
   },
   "outputs": [],
   "source": [
    "sc = Sidecar()\n",
    "\n",
    "with sc:\n",
    "    display(iw.show())"
   ]
  },
  {
   "cell_type": "markdown",
   "id": "c7667411-2118-4c4b-819a-03b597b6b333",
   "metadata": {},
   "source": [
    "### can dynamically change features"
   ]
  },
  {
   "cell_type": "code",
   "execution_count": 15,
   "id": "21f6c49e-c552-496c-b039-49492661eb64",
   "metadata": {
    "tags": []
   },
   "outputs": [],
   "source": [
    "iw.gridplot[0, 0].graphics[0].cmap = \"gnuplot2\""
   ]
  },
  {
   "cell_type": "markdown",
   "id": "03c793fa-4d29-45d9-bf8c-c0b9133ee229",
   "metadata": {},
   "source": [
    "### Play with setting different window functions\n",
    "\n",
    "These can also be given as kwargs to `ImageWidget` during instantiation"
   ]
  },
  {
   "cell_type": "code",
   "execution_count": 16,
   "id": "d29c857c-78f8-4bc5-a00f-83d9985eaeb7",
   "metadata": {
    "tags": []
   },
   "outputs": [],
   "source": [
    "# must be in the form of {dim: (func, window_size)}\n",
    "iw.window_funcs = {\"t\": (np.mean, 13)}"
   ]
  },
  {
   "cell_type": "code",
   "execution_count": 17,
   "id": "31542e8e-9549-4878-bbea-25136fd1b3ad",
   "metadata": {
    "tags": []
   },
   "outputs": [],
   "source": [
    "# change the winow size\n",
    "iw.window_funcs[\"t\"].window_size = 23"
   ]
  },
  {
   "cell_type": "code",
   "execution_count": 18,
   "id": "2433e117-8b99-4ca4-89fb-b6283c007620",
   "metadata": {
    "tags": []
   },
   "outputs": [],
   "source": [
    "# change the function\n",
    "iw.window_funcs[\"t\"].func = np.max"
   ]
  },
  {
   "cell_type": "code",
   "execution_count": 19,
   "id": "58695549-089f-4af3-abab-289ad47c0681",
   "metadata": {
    "tags": []
   },
   "outputs": [],
   "source": [
    "# or set it again\n",
    "iw.window_funcs = {\"t\": (np.min, 11)}"
   ]
  },
  {
   "cell_type": "code",
   "execution_count": null,
   "id": "03837ed8-05b1-4518-85b3-8fdf7263b52e",
   "metadata": {},
   "outputs": [],
   "source": []
  },
  {
   "cell_type": "code",
   "execution_count": null,
   "id": "26b9725e-93c0-45cf-b7af-8d3efe58dabf",
   "metadata": {},
   "outputs": [],
   "source": []
  }
 ],
 "metadata": {
  "kernelspec": {
   "display_name": "Python 3 (ipykernel)",
   "language": "python",
   "name": "python3"
  },
  "language_info": {
   "codemirror_mode": {
    "name": "ipython",
    "version": 3
   },
   "file_extension": ".py",
   "mimetype": "text/x-python",
   "name": "python",
   "nbconvert_exporter": "python",
   "pygments_lexer": "ipython3",
   "version": "3.11.3"
  }
 },
 "nbformat": 4,
 "nbformat_minor": 5
}
