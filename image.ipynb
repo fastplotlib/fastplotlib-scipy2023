{
 "cells": [
  {
   "cell_type": "markdown",
   "id": "93740a09-9111-4777-ad57-173e9b80a2f0",
   "metadata": {
    "tags": []
   },
   "source": [
    "# Introduction to `fastplotlib`"
   ]
  },
  {
   "cell_type": "markdown",
   "id": "807a45e5-5473-477b-9cb3-41a03a8135c7",
   "metadata": {
    "jp-MarkdownHeadingCollapsed": true,
    "tags": []
   },
   "source": [
    "## `fastplotlib` API\n",
    "\n",
    "### 1. Graphics - objects that are drawn\n",
    "- `Image`, `Line`, `Scatter`, `Heatmap`\n",
    "- Collections - `LineCollection`, `LineStack` (ex: neural timeseries data)\n",
    "- Interactions\n",
    "\n",
    "### 2. Layouts\n",
    "- `Plot` - a single plot area \n",
    "- `GridPlot` - a grid of `Subplots`\n",
    "\n",
    "### 3. Widgets - high level widgets to make repetitive UIs easier\n",
    "- `ImageWidget`- n-dimensional widget for `Image` data\n",
    "    - Sliders, support window functions, `GridPlot`, etc.\n",
    "    \n",
    "    "
   ]
  },
  {
   "cell_type": "markdown",
   "id": "03169ecd-8916-4ddd-a023-066f7be7d648",
   "metadata": {},
   "source": [
    "# Running demos on an ancient Quadro P500 laptop GPU\n",
    "\n",
    "## nearly 6 years old\n",
    "\n",
    "Benchmark - 1,555\n",
    "\n",
    "Nothing compared to midrange GPU, RTX 3060 Ti: 20,633\n",
    "\n",
    "https://www.videocardbenchmark.net/gpu.php?gpu=Quadro+P500&id=3911"
   ]
  },
  {
   "cell_type": "markdown",
   "id": "b95759bc-b567-4327-b825-68fe871c3473",
   "metadata": {
    "tags": []
   },
   "source": [
    "This notebook goes through basic components of the `fastplotlib` API including images, image updates, and `ImageWidget`."
   ]
  },
  {
   "cell_type": "markdown",
   "id": "b5843388-14ac-4736-8f25-08585c06ac1c",
   "metadata": {},
   "source": [
    "**The example images are from imageio so you will need to install it for this example notebook. But imageio is not required to use fasptlotlib**"
   ]
  },
  {
   "cell_type": "code",
   "execution_count": 1,
   "id": "9aeb2e39-cc13-4662-ada0-cfed7ee2b26c",
   "metadata": {
    "tags": []
   },
   "outputs": [],
   "source": [
    "import imageio.v3 as iio\n",
    "\n",
    "# likewise there is an image which we will load with tifffile\n",
    "import tifffile"
   ]
  },
  {
   "cell_type": "code",
   "execution_count": 2,
   "id": "fb57c3d3-f20d-4d88-9e7a-04b9309bc637",
   "metadata": {
    "tags": []
   },
   "outputs": [],
   "source": [
    "import fastplotlib as fpl\n",
    "from ipywidgets import VBox, HBox, IntSlider\n",
    "import numpy as np\n",
    "from sidecar import Sidecar"
   ]
  },
  {
   "cell_type": "markdown",
   "id": "a9b386ac-9218-4f8f-97b3-f29b4201ef55",
   "metadata": {},
   "source": [
    "### Simple image"
   ]
  },
  {
   "cell_type": "code",
   "execution_count": 3,
   "id": "237823b7-e2c0-4e2f-9ee8-e3fc2b4453c4",
   "metadata": {
    "tags": []
   },
   "outputs": [
    {
     "data": {
      "application/vnd.jupyter.widget-view+json": {
       "model_id": "56ee28812681484887af1aa7d4a71321",
       "version_major": 2,
       "version_minor": 0
      },
      "text/plain": [
       "RFBOutputContext()"
      ]
     },
     "metadata": {},
     "output_type": "display_data"
    },
    {
     "name": "stderr",
     "output_type": "stream",
     "text": [
      "MESA-INTEL: warning: Performance support disabled, consider sysctl dev.i915.perf_stream_paranoid=0\n",
      "\n",
      "Disabling presentation on 'Intel(R) UHD Graphics 620 (KBL GT2)' (id 0x55a616dc6870) because of NV Optimus (on Linux)\n"
     ]
    }
   ],
   "source": [
    "# create a `Plot` instance\n",
    "plot = fpl.Plot(size=(600, 500))\n",
    "\n",
    "# get a grayscale image\n",
    "data = iio.imread(\"imageio:camera.png\")\n",
    "\n",
    "# plot the image data\n",
    "image_graphic = plot.add_image(data=data, name=\"sample-image\")\n",
    "\n",
    "# display plot in sidecar\n",
    "sc = Sidecar(title=\"sample image\", layout={'width': '800px'})\n",
    "\n",
    "with sc:\n",
    "    # show the plot\n",
    "    display(plot.show())"
   ]
  },
  {
   "cell_type": "markdown",
   "id": "be5b408f-dd91-4e36-807a-8c22c8d7d216",
   "metadata": {},
   "source": [
    "**Use the handle on the bottom right corner of the _canvas_ to resize it. You can also pan and zoom using your mouse!**"
   ]
  },
  {
   "cell_type": "markdown",
   "id": "bc26d9e4-c317-4eec-ae3f-1fd048637026",
   "metadata": {},
   "source": [
    "By default the origin is on the bottom left, you can click the flip button to flip the y-axis, or use `plot.camera.world.scale_y *= -1`"
   ]
  },
  {
   "cell_type": "markdown",
   "id": "7c3b637c-a26b-416e-936c-705275852a8a",
   "metadata": {},
   "source": [
    "Changing graphic **\"features\"**"
   ]
  },
  {
   "cell_type": "code",
   "execution_count": 4,
   "id": "de816c88-1c4a-4071-8a5e-c46c93671ef5",
   "metadata": {
    "tags": []
   },
   "outputs": [],
   "source": [
    "image_graphic.cmap = \"viridis\""
   ]
  },
  {
   "cell_type": "markdown",
   "id": "7303677c-9f7a-44dd-8660-eced0cdca565",
   "metadata": {},
   "source": [
    "### Slicing data\n",
    "\n",
    "**Most features, such as `data`, support slicing!**\n",
    "\n",
    "Our image data is of shape [n_rows, n_columns]"
   ]
  },
  {
   "cell_type": "code",
   "execution_count": 5,
   "id": "83b2db1b-2783-4e89-bcf3-66bb6e09e18a",
   "metadata": {
    "tags": []
   },
   "outputs": [],
   "source": [
    "image_graphic.data[::15, :] = 1\n",
    "image_graphic.data[:, ::15] = 1"
   ]
  },
  {
   "cell_type": "markdown",
   "id": "98e41780-eb84-46d4-8c06-ec59b3238572",
   "metadata": {},
   "source": [
    "**Fancy indexing**"
   ]
  },
  {
   "cell_type": "code",
   "execution_count": 6,
   "id": "3e298c1c-7551-4401-ade0-b9af7d2bbe23",
   "metadata": {
    "tags": []
   },
   "outputs": [],
   "source": [
    "image_graphic.data[data > 175] = 255"
   ]
  },
  {
   "cell_type": "markdown",
   "id": "958b4e14-d820-4acb-af75-3485c844de17",
   "metadata": {},
   "source": [
    "**Adjust vmin vmax**"
   ]
  },
  {
   "cell_type": "code",
   "execution_count": 7,
   "id": "ea100318-023c-4963-b859-8c2a8fcce301",
   "metadata": {
    "tags": []
   },
   "outputs": [],
   "source": [
    "image_graphic.cmap.vmin = 50\n",
    "image_graphic.cmap.vmax = 150"
   ]
  },
  {
   "cell_type": "code",
   "execution_count": 8,
   "id": "a1320f9f-fff5-4b9b-9a49-0695042ab8ab",
   "metadata": {
    "tags": []
   },
   "outputs": [],
   "source": [
    "image_graphic.cmap.reset_vmin_vmax()"
   ]
  },
  {
   "cell_type": "code",
   "execution_count": 9,
   "id": "4c369d3d-7219-4231-80cd-ce82b6a67a20",
   "metadata": {
    "tags": []
   },
   "outputs": [],
   "source": [
    "# close plot and sidecar\n",
    "plot.close()\n",
    "sc.close()"
   ]
  },
  {
   "cell_type": "markdown",
   "id": "070e92b9-ac90-426d-b3d5-bd74a9a8a0be",
   "metadata": {},
   "source": [
    "**Note: if you have a good enough gpu, you do not need to close the plots. We are doing this here for gpu conservation.**"
   ]
  },
  {
   "cell_type": "markdown",
   "id": "1cb03f42-1029-4b16-a16b-35447d9e2955",
   "metadata": {
    "tags": []
   },
   "source": [
    "### Image updates\n",
    "\n",
    "This examples show how you can define animation functions that run on every render cycle."
   ]
  },
  {
   "cell_type": "code",
   "execution_count": 10,
   "id": "aadd757f-6379-4f52-a709-46aa57c56216",
   "metadata": {
    "tags": []
   },
   "outputs": [
    {
     "data": {
      "application/vnd.jupyter.widget-view+json": {
       "model_id": "d482d2232ae548f18300d00441a8ecf1",
       "version_major": 2,
       "version_minor": 0
      },
      "text/plain": [
       "RFBOutputContext()"
      ]
     },
     "metadata": {},
     "output_type": "display_data"
    },
    {
     "name": "stderr",
     "output_type": "stream",
     "text": [
      "/home/kushal/repos/fastplotlib/fastplotlib/graphics/_features/_base.py:34: UserWarning: converting float64 array to float32\n",
      "  warn(f\"converting {array.dtype} array to float32\")\n"
     ]
    }
   ],
   "source": [
    "# create another `Plot` instance\n",
    "plot_v = fpl.Plot(size=(600, 500))\n",
    "\n",
    "plot.canvas.max_buffered_frames = 1\n",
    "\n",
    "# make some random data again\n",
    "data = np.random.rand(512, 512)\n",
    "\n",
    "# plot the data\n",
    "plot_v.add_image(data=data, name=\"random-image\")\n",
    "\n",
    "# a function to update the image_graphic\n",
    "# a plot will pass its plot instance to the animation function as an arugment\n",
    "def update_data(plot_instance):\n",
    "    new_data = np.random.rand(512, 512)\n",
    "    plot_instance[\"random-image\"].data = new_data\n",
    "\n",
    "#add this as an animation function\n",
    "plot_v.add_animations(update_data)\n",
    "\n",
    "# sidecar to display plot\n",
    "sc = Sidecar(title=\"image updates\")\n",
    "\n",
    "with sc:\n",
    "    # show the plot\n",
    "    display(plot_v.show())"
   ]
  },
  {
   "cell_type": "markdown",
   "id": "b313eda1-6e6c-466f-9fd5-8b70c1d3c110",
   "metadata": {},
   "source": [
    "### We can share controllers across plots\n",
    "\n",
    "This example creates a new plot, but it synchronizes the pan-zoom controller"
   ]
  },
  {
   "cell_type": "code",
   "execution_count": 11,
   "id": "86e70b1e-4328-4035-b992-70dff16d2a69",
   "metadata": {
    "tags": []
   },
   "outputs": [
    {
     "data": {
      "application/vnd.jupyter.widget-view+json": {
       "model_id": "446ff778a9b44e1db2dd1fe10876aa88",
       "version_major": 2,
       "version_minor": 0
      },
      "text/plain": [
       "RFBOutputContext()"
      ]
     },
     "metadata": {},
     "output_type": "display_data"
    },
    {
     "data": {
      "application/vnd.jupyter.widget-view+json": {
       "model_id": "3fd193b982db49ea9d2dbf35b1335a15",
       "version_major": 2,
       "version_minor": 0
      },
      "text/plain": [
       "VBox(children=(JupyterWgpuCanvas(css_height='500px', css_width='600px'), HBox(children=(Button(icon='expand-ar…"
      ]
     },
     "execution_count": 11,
     "metadata": {},
     "output_type": "execute_result"
    }
   ],
   "source": [
    "plot_sync = fpl.Plot(controller=plot_v.controller, size=(600, 500))\n",
    "\n",
    "data = np.random.rand(512, 512)\n",
    "\n",
    "image_graphic_instance = plot_sync.add_image(data=data, cmap=\"viridis\")\n",
    "\n",
    "# you will need to define a new animation function for this graphic\n",
    "def update_data_2():\n",
    "    new_data = np.random.rand(512, 512)\n",
    "    # alternatively, you can use the stored reference to the graphic as well instead of indexing the Plot\n",
    "    image_graphic_instance.data = new_data\n",
    "\n",
    "plot_sync.add_animations(update_data_2)\n",
    "\n",
    "plot_sync.show()"
   ]
  },
  {
   "cell_type": "markdown",
   "id": "f226c9c2-8d0e-41ab-9ab9-1ae31fd91de5",
   "metadata": {},
   "source": [
    "#### Keeping a reference to the Graphic instance, as shown above `image_graphic_instance`, is useful if you're creating something where you need flexibility in the naming of the graphics"
   ]
  },
  {
   "cell_type": "code",
   "execution_count": 12,
   "id": "bd073e07-5721-4957-8a16-0767b9d64d25",
   "metadata": {
    "tags": []
   },
   "outputs": [],
   "source": [
    "sc.close()"
   ]
  },
  {
   "cell_type": "markdown",
   "id": "d11fabb7-7c76-4e94-893d-80ed9ee3be3d",
   "metadata": {},
   "source": [
    "### You can also use `ipywidgets.VBox` and `HBox` to stack plots."
   ]
  },
  {
   "cell_type": "code",
   "execution_count": 13,
   "id": "ef9743b3-5f81-4b79-9502-fa5fca08e56d",
   "metadata": {
    "tags": []
   },
   "outputs": [
    {
     "data": {
      "application/vnd.jupyter.widget-view+json": {
       "model_id": "b84ce12502c54b998a6bcf3f7be596c7",
       "version_major": 2,
       "version_minor": 0
      },
      "text/plain": [
       "VBox(children=(VBox(children=(JupyterWgpuCanvas(css_height='500px', css_width='600px', frame_feedback={'index'…"
      ]
     },
     "execution_count": 13,
     "metadata": {},
     "output_type": "execute_result"
    }
   ],
   "source": [
    "VBox([plot_v.show(), plot_sync.show()])"
   ]
  },
  {
   "cell_type": "code",
   "execution_count": 14,
   "id": "e8b3468a-0c92-42b0-8158-6c3c4cb83fa1",
   "metadata": {
    "tags": []
   },
   "outputs": [],
   "source": [
    "# close plots\n",
    "plot_v.close()\n",
    "plot_sync.close()"
   ]
  },
  {
   "cell_type": "markdown",
   "id": "3f7e1a48-a3eb-4308-96f6-88f94971e6b5",
   "metadata": {},
   "source": [
    "# Sliders to scroll through image data\n",
    "\n",
    "We often already have large image arrays (whether in RAM or through lazy loading), and want to view 2D frames across one or more dimensions. There is an `ImageWidget` that should really be used for this, but this example just shows how you can use `ipywidgets` to change data or any **`GraphicFeature`**"
   ]
  },
  {
   "cell_type": "markdown",
   "id": "affe801b-6d2a-41fc-b80d-f7126800f6da",
   "metadata": {},
   "source": [
    "## Plot and scroll through the first dimension with a slider"
   ]
  },
  {
   "cell_type": "code",
   "execution_count": 15,
   "id": "5139ad7c-2d72-402b-9239-27dcf5bd0c89",
   "metadata": {
    "tags": []
   },
   "outputs": [],
   "source": [
    "# use imagio cockatoo video\n",
    "movie = iio.imread('imageio:cockatoo.mp4', index=None)"
   ]
  },
  {
   "cell_type": "code",
   "execution_count": 16,
   "id": "207632a8-9f7d-4931-bebc-b43a49e63b9e",
   "metadata": {
    "tags": []
   },
   "outputs": [
    {
     "data": {
      "application/vnd.jupyter.widget-view+json": {
       "model_id": "bf526bfb54414513918af4330f1e2972",
       "version_major": 2,
       "version_minor": 0
      },
      "text/plain": [
       "RFBOutputContext()"
      ]
     },
     "metadata": {},
     "output_type": "display_data"
    },
    {
     "data": {
      "application/vnd.jupyter.widget-view+json": {
       "model_id": "3cd84ed5bd394d03877bc30ae49535bd",
       "version_major": 2,
       "version_minor": 0
      },
      "text/plain": [
       "VBox(children=(VBox(children=(JupyterWgpuCanvas(), HBox(children=(Button(icon='expand-arrows-alt', layout=Layo…"
      ]
     },
     "execution_count": 16,
     "metadata": {},
     "output_type": "execute_result"
    }
   ],
   "source": [
    "plot_movie = fpl.Plot()\n",
    "\n",
    "# plot the first frame to initialize\n",
    "movie_graphic = plot_movie.add_image(movie[0], vmin=0, vmax=movie.max(), cmap=\"gray\")\n",
    "\n",
    "# make a slider\n",
    "slider = IntSlider(min=0, max=movie.shape[0] - 1, step=1, value=0)\n",
    "\n",
    "# function to update movie_graphic\n",
    "def update_movie(change):    \n",
    "    index = change[\"new\"]\n",
    "    movie_graphic.data = movie[index]\n",
    "    \n",
    "slider.observe(update_movie, \"value\")\n",
    "    \n",
    "# Use an ipywidgets VBox to show the plot and slider\n",
    "VBox([plot_movie.show(), slider])"
   ]
  },
  {
   "cell_type": "markdown",
   "id": "8a480a6e-ba89-4062-a509-af64a3f1606e",
   "metadata": {
    "tags": []
   },
   "source": [
    "#### Note that the use of globals in the `update_movie()` here can get messy, this is not recommended and  you should create a class to properly handle combining widgets like this. _However_ if you want slider widgets for imaging data the recommended way to do this is by using the `ImageWidget`."
   ]
  },
  {
   "cell_type": "code",
   "execution_count": 17,
   "id": "7f32b582-b01d-41ab-bcfb-88ddcf1fd3be",
   "metadata": {
    "tags": []
   },
   "outputs": [],
   "source": [
    "plot_movie.close()"
   ]
  },
  {
   "cell_type": "markdown",
   "id": "f672dcd8-f55b-4476-b72a-d7a292fee32e",
   "metadata": {},
   "source": [
    "## `ImageWidget` using zebrafish data"
   ]
  },
  {
   "cell_type": "code",
   "execution_count": 18,
   "id": "d64091d5-4071-49b0-b852-348657e9abbd",
   "metadata": {},
   "outputs": [],
   "source": [
    "# load in zebrafish data\n",
    "movie = tifffile.memmap('./data/zfish_vol.tiff')"
   ]
  },
  {
   "cell_type": "code",
   "execution_count": 19,
   "id": "0377bd4e-ba0a-48e9-a647-a8ee7d770afa",
   "metadata": {
    "tags": []
   },
   "outputs": [
    {
     "data": {
      "text/plain": [
       "(1320, 30, 512, 512)"
      ]
     },
     "execution_count": 19,
     "metadata": {},
     "output_type": "execute_result"
    }
   ],
   "source": [
    "movie.shape"
   ]
  },
  {
   "cell_type": "markdown",
   "id": "95063299-e5e2-4298-99d4-05fe827258f6",
   "metadata": {},
   "source": [
    "This is `[t, z, x, y]`"
   ]
  },
  {
   "cell_type": "code",
   "execution_count": 20,
   "id": "7a76119e-2035-48ba-9a88-a8a6f64a3365",
   "metadata": {
    "tags": []
   },
   "outputs": [
    {
     "data": {
      "application/vnd.jupyter.widget-view+json": {
       "model_id": "83cfe71d819f4f08bb60d140a2b8f813",
       "version_major": 2,
       "version_minor": 0
      },
      "text/plain": [
       "RFBOutputContext()"
      ]
     },
     "metadata": {},
     "output_type": "display_data"
    }
   ],
   "source": [
    "iw = fpl.ImageWidget(\n",
    "    data=movie,\n",
    "    vmin_vmax_sliders=True,\n",
    "    dims_order=\"tzxy\",\n",
    "    slider_dims=[\"t\", \"z\"],\n",
    "    grid_plot_kwargs={\"size\": (600, 500)},\n",
    "    cmap=\"gnuplot2\"\n",
    ")"
   ]
  },
  {
   "cell_type": "code",
   "execution_count": 21,
   "id": "6cac96f4-a8e9-481a-8014-2d2570c04db3",
   "metadata": {
    "tags": []
   },
   "outputs": [],
   "source": [
    "sc = Sidecar(title=\"zebra fish\")\n",
    "\n",
    "with sc:\n",
    "    display(iw.show())"
   ]
  },
  {
   "cell_type": "markdown",
   "id": "03c793fa-4d29-45d9-bf8c-c0b9133ee229",
   "metadata": {},
   "source": [
    "### Play with setting different window functions\n",
    "\n",
    "These can also be given as kwargs to `ImageWidget` during instantiation"
   ]
  },
  {
   "cell_type": "code",
   "execution_count": 22,
   "id": "d29c857c-78f8-4bc5-a00f-83d9985eaeb7",
   "metadata": {
    "tags": []
   },
   "outputs": [],
   "source": [
    "# must be in the form of {dim: (func, window_size)}\n",
    "iw.window_funcs = {\"t\": (np.mean, 3)}"
   ]
  },
  {
   "cell_type": "code",
   "execution_count": 23,
   "id": "86261ca9-1cd8-43ee-ad72-7a05b3489510",
   "metadata": {
    "tags": []
   },
   "outputs": [],
   "source": [
    "iw.gridplot.close()\n",
    "sc.close()"
   ]
  },
  {
   "cell_type": "markdown",
   "id": "a1992f2b-abb5-42c8-990b-78d3a1698811",
   "metadata": {},
   "source": [
    "## View each plane in a separate subplot"
   ]
  },
  {
   "cell_type": "code",
   "execution_count": 25,
   "id": "770f8242-e8ff-40fc-86c3-9d44abca85d6",
   "metadata": {
    "tags": []
   },
   "outputs": [
    {
     "data": {
      "application/vnd.jupyter.widget-view+json": {
       "model_id": "1798ccc62d98407fb56884696f08ba05",
       "version_major": 2,
       "version_minor": 0
      },
      "text/plain": [
       "RFBOutputContext()"
      ]
     },
     "metadata": {},
     "output_type": "display_data"
    }
   ],
   "source": [
    "# get a list of txy arrays for each plane\n",
    "planes = [movie[:, i] for i in range(movie.shape[1])]\n",
    "\n",
    "iw = fpl.ImageWidget(\n",
    "    data=planes,\n",
    "    vmin_vmax_sliders=False,\n",
    "    grid_plot_kwargs={\"size\": (600, 500), \"controllers\": \"sync\"},\n",
    "    cmap=\"gnuplot2\"\n",
    ")\n",
    "\n",
    "\n",
    "sc = Sidecar(title=\"zfish planes\")\n",
    "\n",
    "with sc:\n",
    "    display(iw.show())"
   ]
  },
  {
   "cell_type": "code",
   "execution_count": 26,
   "id": "e49e7b96-c1a7-4c1f-956a-1bab482b0ce0",
   "metadata": {
    "tags": []
   },
   "outputs": [],
   "source": [
    "iw.gridplot.close()\n",
    "sc.close()"
   ]
  },
  {
   "cell_type": "code",
   "execution_count": null,
   "id": "ee57b4be-7849-43c1-bc80-bfd9dc684acb",
   "metadata": {},
   "outputs": [],
   "source": []
  }
 ],
 "metadata": {
  "kernelspec": {
   "display_name": "Python 3 (ipykernel)",
   "language": "python",
   "name": "python3"
  },
  "language_info": {
   "codemirror_mode": {
    "name": "ipython",
    "version": 3
   },
   "file_extension": ".py",
   "mimetype": "text/x-python",
   "name": "python",
   "nbconvert_exporter": "python",
   "pygments_lexer": "ipython3",
   "version": "3.11.4"
  }
 },
 "nbformat": 4,
 "nbformat_minor": 5
}
