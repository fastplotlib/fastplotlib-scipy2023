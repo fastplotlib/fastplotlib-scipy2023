{
 "cells": [
  {
   "cell_type": "markdown",
   "id": "93740a09-9111-4777-ad57-173e9b80a2f0",
   "metadata": {
    "tags": []
   },
   "source": [
    "# Introduction to `fastplotlib`"
   ]
  },
  {
   "cell_type": "markdown",
   "id": "807a45e5-5473-477b-9cb3-41a03a8135c7",
   "metadata": {
    "jp-MarkdownHeadingCollapsed": true,
    "tags": []
   },
   "source": [
    "## `fastplotlib` API\n",
    "\n",
    "### 1. Graphics - objects that are drawn\n",
    "- `Image`, `Line`, `Scatter`, `Heatmap`\n",
    "- Collections - `LineCollection`, `LineStack` (ex: neural timeseries data)\n",
    "- Interactions\n",
    "\n",
    "### 2. Layouts\n",
    "- `Plot` - a single plot area \n",
    "- `GridPlot` - a grid of `Subplots`\n",
    "\n",
    "### 3. Widgets - high level widgets to make repetitive UIs easier\n",
    "- `ImageWidget`- n-dimensional widget for `Image` data\n",
    "    - Sliders, support window functions, `GridPlot`, etc.\n",
    "    \n",
    "    "
   ]
  },
  {
   "cell_type": "markdown",
   "id": "03169ecd-8916-4ddd-a023-066f7be7d648",
   "metadata": {},
   "source": [
    "# Running remotely on a workstation on the East Coast!!\n",
    "\n",
    "Using Jupyter remote frame buffer: https://github.com/vispy/jupyter_rfb\n",
    "\n",
    "Rendering all being done on remote GPU. We are only displaying a rasterized image in the Jupyter canvas.\n",
    "\n",
    "### GPU: Nvidia RTX 3090\n",
    "### CPU: AMD Ryzen 16 core (5950X)\n"
   ]
  },
  {
   "cell_type": "markdown",
   "id": "b95759bc-b567-4327-b825-68fe871c3473",
   "metadata": {
    "tags": []
   },
   "source": [
    "This notebook goes through basic components of the `fastplotlib` API including images, image updates, and `ImageWidget`."
   ]
  },
  {
   "cell_type": "markdown",
   "id": "b5843388-14ac-4736-8f25-08585c06ac1c",
   "metadata": {},
   "source": [
    "**The example images are from imageio so you will need to install it for this example notebook. But imageio is not required to use fasptlotlib**"
   ]
  },
  {
   "cell_type": "code",
   "execution_count": 1,
   "id": "9aeb2e39-cc13-4662-ada0-cfed7ee2b26c",
   "metadata": {
    "tags": []
   },
   "outputs": [],
   "source": [
    "import imageio.v3 as iio\n",
    "\n",
    "# likewise there is an image which we will load with tifffile\n",
    "import tifffile"
   ]
  },
  {
   "cell_type": "code",
   "execution_count": 2,
   "id": "fb57c3d3-f20d-4d88-9e7a-04b9309bc637",
   "metadata": {
    "tags": []
   },
   "outputs": [],
   "source": [
    "import fastplotlib as fpl\n",
    "from ipywidgets import VBox, HBox, IntSlider\n",
    "import numpy as np\n",
    "from sidecar import Sidecar"
   ]
  },
  {
   "cell_type": "markdown",
   "id": "0f02c2fe-e77d-447d-9483-da66574a3950",
   "metadata": {},
   "source": [
    "**Additionally, the data we are using throughout these demos can be downloaded from Zenodo.**"
   ]
  },
  {
   "cell_type": "code",
   "execution_count": 3,
   "id": "99f0c624-85a6-4a42-92b0-30b0b04075b4",
   "metadata": {
    "tags": []
   },
   "outputs": [],
   "source": [
    "from download_data import download_data"
   ]
  },
  {
   "cell_type": "code",
   "execution_count": 4,
   "id": "630e4762-de01-47fe-be9d-547182a1fbf9",
   "metadata": {
    "tags": []
   },
   "outputs": [
    {
     "name": "stdout",
     "output_type": "stream",
     "text": [
      "data already exists\n"
     ]
    }
   ],
   "source": [
    "download_data()"
   ]
  },
  {
   "cell_type": "markdown",
   "id": "a9b386ac-9218-4f8f-97b3-f29b4201ef55",
   "metadata": {},
   "source": [
    "### Simple image"
   ]
  },
  {
   "cell_type": "code",
   "execution_count": 5,
   "id": "237823b7-e2c0-4e2f-9ee8-e3fc2b4453c4",
   "metadata": {
    "tags": []
   },
   "outputs": [
    {
     "data": {
      "application/vnd.jupyter.widget-view+json": {
       "model_id": "06aa06e6af134d61bb3a40df62a601c2",
       "version_major": 2,
       "version_minor": 0
      },
      "text/plain": [
       "RFBOutputContext()"
      ]
     },
     "metadata": {},
     "output_type": "display_data"
    }
   ],
   "source": [
    "# create a `Plot` instance\n",
    "plot = fpl.Plot(size=(600, 500))\n",
    "\n",
    "# get a grayscale image\n",
    "data = iio.imread(\"imageio:camera.png\")\n",
    "\n",
    "# plot the image data\n",
    "image_graphic = plot.add_image(data=data, name=\"sample-image\")\n",
    "\n",
    "# display plot in sidecar\n",
    "sc = Sidecar(title=\"sample image\", layout={'width': '800px'})\n",
    "\n",
    "with sc:\n",
    "    # show the plot\n",
    "    display(plot.show())"
   ]
  },
  {
   "cell_type": "markdown",
   "id": "be5b408f-dd91-4e36-807a-8c22c8d7d216",
   "metadata": {},
   "source": [
    "**Use the handle on the bottom right corner of the _canvas_ to resize it. You can also pan and zoom using your mouse!**"
   ]
  },
  {
   "cell_type": "markdown",
   "id": "bc26d9e4-c317-4eec-ae3f-1fd048637026",
   "metadata": {},
   "source": [
    "By default the origin is on the bottom left, you can click the flip button to flip the y-axis, or use `plot.camera.world.scale_y *= -1`"
   ]
  },
  {
   "cell_type": "markdown",
   "id": "7c3b637c-a26b-416e-936c-705275852a8a",
   "metadata": {},
   "source": [
    "Changing graphic **\"features\"**"
   ]
  },
  {
   "cell_type": "code",
   "execution_count": 6,
   "id": "de816c88-1c4a-4071-8a5e-c46c93671ef5",
   "metadata": {
    "tags": []
   },
   "outputs": [],
   "source": [
    "image_graphic.cmap = \"viridis\""
   ]
  },
  {
   "cell_type": "markdown",
   "id": "7303677c-9f7a-44dd-8660-eced0cdca565",
   "metadata": {
    "tags": []
   },
   "source": [
    "### Slicing data\n",
    "\n",
    "**Most features, such as `data`, support slicing!**\n",
    "\n",
    "Our image data is of shape [n_rows, n_columns]"
   ]
  },
  {
   "cell_type": "code",
   "execution_count": 7,
   "id": "83b2db1b-2783-4e89-bcf3-66bb6e09e18a",
   "metadata": {
    "tags": []
   },
   "outputs": [],
   "source": [
    "image_graphic.data[::15, :] = 1\n",
    "image_graphic.data[:, ::15] = 1"
   ]
  },
  {
   "cell_type": "markdown",
   "id": "98e41780-eb84-46d4-8c06-ec59b3238572",
   "metadata": {},
   "source": [
    "**Fancy indexing**"
   ]
  },
  {
   "cell_type": "code",
   "execution_count": 8,
   "id": "3e298c1c-7551-4401-ade0-b9af7d2bbe23",
   "metadata": {
    "tags": []
   },
   "outputs": [],
   "source": [
    "image_graphic.data[data > 175] = 255"
   ]
  },
  {
   "cell_type": "markdown",
   "id": "958b4e14-d820-4acb-af75-3485c844de17",
   "metadata": {},
   "source": [
    "**Adjust vmin vmax**"
   ]
  },
  {
   "cell_type": "code",
   "execution_count": 9,
   "id": "ea100318-023c-4963-b859-8c2a8fcce301",
   "metadata": {
    "tags": []
   },
   "outputs": [],
   "source": [
    "image_graphic.cmap.vmin = 50\n",
    "image_graphic.cmap.vmax = 150"
   ]
  },
  {
   "cell_type": "code",
   "execution_count": 10,
   "id": "a1320f9f-fff5-4b9b-9a49-0695042ab8ab",
   "metadata": {
    "tags": []
   },
   "outputs": [],
   "source": [
    "image_graphic.cmap.reset_vmin_vmax()"
   ]
  },
  {
   "cell_type": "code",
   "execution_count": 11,
   "id": "4c369d3d-7219-4231-80cd-ce82b6a67a20",
   "metadata": {
    "tags": []
   },
   "outputs": [],
   "source": [
    "# close plot and sidecar\n",
    "plot.close()\n",
    "sc.close()"
   ]
  },
  {
   "cell_type": "markdown",
   "id": "070e92b9-ac90-426d-b3d5-bd74a9a8a0be",
   "metadata": {},
   "source": [
    "**Note: if you have a good enough gpu, you do not need to close the plots. We are doing this here for gpu conservation.**"
   ]
  },
  {
   "cell_type": "markdown",
   "id": "1cb03f42-1029-4b16-a16b-35447d9e2955",
   "metadata": {
    "tags": []
   },
   "source": [
    "### Image updates\n",
    "\n",
    "This examples show how you can define animation functions that run on every render cycle."
   ]
  },
  {
   "cell_type": "code",
   "execution_count": 12,
   "id": "aadd757f-6379-4f52-a709-46aa57c56216",
   "metadata": {
    "tags": []
   },
   "outputs": [
    {
     "data": {
      "application/vnd.jupyter.widget-view+json": {
       "model_id": "140a3876e95c46c784ca047e1aeb8fab",
       "version_major": 2,
       "version_minor": 0
      },
      "text/plain": [
       "RFBOutputContext()"
      ]
     },
     "metadata": {},
     "output_type": "display_data"
    },
    {
     "name": "stderr",
     "output_type": "stream",
     "text": [
      "/home/clewis7/repos/fastplotlib/fastplotlib/graphics/_features/_base.py:34: UserWarning: converting float64 array to float32\n",
      "  warn(f\"converting {array.dtype} array to float32\")\n"
     ]
    }
   ],
   "source": [
    "# create another `Plot` instance\n",
    "plot_v = fpl.Plot(size=(600, 500))\n",
    "\n",
    "plot.canvas.max_buffered_frames = 1\n",
    "\n",
    "# make some random data again\n",
    "data = np.random.rand(512, 512)\n",
    "\n",
    "# plot the data\n",
    "plot_v.add_image(data=data, name=\"random-image\")\n",
    "\n",
    "# a function to update the image_graphic\n",
    "# a plot will pass its plot instance to the animation function as an arugment\n",
    "def update_data(plot_instance):\n",
    "    new_data = np.random.rand(512, 512)\n",
    "    plot_instance[\"random-image\"].data = new_data\n",
    "\n",
    "#add this as an animation function\n",
    "plot_v.add_animations(update_data)\n",
    "\n",
    "# sidecar to display plot\n",
    "sc = Sidecar(title=\"image updates\")\n",
    "\n",
    "with sc:\n",
    "    # show the plot\n",
    "    display(plot_v.show())"
   ]
  },
  {
   "cell_type": "code",
   "execution_count": 13,
   "id": "99d234c6-220a-4093-a6a0-6036d2e40000",
   "metadata": {
    "tags": []
   },
   "outputs": [],
   "source": [
    "plot_v.close()\n",
    "sc.close()"
   ]
  },
  {
   "cell_type": "markdown",
   "id": "3f7e1a48-a3eb-4308-96f6-88f94971e6b5",
   "metadata": {},
   "source": [
    "# Sliders to scroll through image data\n",
    "\n",
    "We often already have large image arrays (whether in RAM or through lazy loading), and want to view 2D frames across one or more dimensions. There is an `ImageWidget` that should really be used for this, but this example just shows how you can use `ipywidgets` to change data or any **`GraphicFeature`**"
   ]
  },
  {
   "cell_type": "markdown",
   "id": "affe801b-6d2a-41fc-b80d-f7126800f6da",
   "metadata": {},
   "source": [
    "## Plot and scroll through the first dimension with a slider"
   ]
  },
  {
   "cell_type": "code",
   "execution_count": 14,
   "id": "5139ad7c-2d72-402b-9239-27dcf5bd0c89",
   "metadata": {
    "tags": []
   },
   "outputs": [],
   "source": [
    "# use imagio cockatoo video\n",
    "movie = iio.imread('imageio:cockatoo.mp4', index=None)"
   ]
  },
  {
   "cell_type": "code",
   "execution_count": 15,
   "id": "207632a8-9f7d-4931-bebc-b43a49e63b9e",
   "metadata": {
    "tags": []
   },
   "outputs": [
    {
     "data": {
      "application/vnd.jupyter.widget-view+json": {
       "model_id": "2b0b5a73f52744eaa29a75685d10ed7c",
       "version_major": 2,
       "version_minor": 0
      },
      "text/plain": [
       "RFBOutputContext()"
      ]
     },
     "metadata": {},
     "output_type": "display_data"
    },
    {
     "data": {
      "application/vnd.jupyter.widget-view+json": {
       "model_id": "0edf24e9f6764619877928989b16e4ce",
       "version_major": 2,
       "version_minor": 0
      },
      "text/plain": [
       "VBox(children=(VBox(children=(JupyterWgpuCanvas(), HBox(children=(Button(icon='expand-arrows-alt', layout=Layo…"
      ]
     },
     "execution_count": 15,
     "metadata": {},
     "output_type": "execute_result"
    }
   ],
   "source": [
    "plot_movie = fpl.Plot()\n",
    "\n",
    "# plot the first frame to initialize\n",
    "movie_graphic = plot_movie.add_image(movie[0], vmin=0, vmax=movie.max(), cmap=\"gray\")\n",
    "\n",
    "# make a slider\n",
    "slider = IntSlider(min=0, max=movie.shape[0] - 1, step=1, value=0)\n",
    "\n",
    "# function to update movie_graphic\n",
    "def update_movie(change):    \n",
    "    index = change[\"new\"]\n",
    "    movie_graphic.data = movie[index]\n",
    "    \n",
    "slider.observe(update_movie, \"value\")\n",
    "    \n",
    "# Use an ipywidgets VBox to show the plot and slider\n",
    "VBox([plot_movie.show(), slider])"
   ]
  },
  {
   "cell_type": "markdown",
   "id": "8a480a6e-ba89-4062-a509-af64a3f1606e",
   "metadata": {
    "tags": []
   },
   "source": [
    "#### Note that the use of globals in the `update_movie()` here can get messy, this is not recommended and  you should create a class to properly handle combining widgets like this. _However_ if you want slider widgets for imaging data the recommended way to do this is by using the `ImageWidget`."
   ]
  },
  {
   "cell_type": "code",
   "execution_count": 16,
   "id": "7f32b582-b01d-41ab-bcfb-88ddcf1fd3be",
   "metadata": {
    "tags": []
   },
   "outputs": [],
   "source": [
    "plot_movie.close()\n",
    "slider.close()"
   ]
  },
  {
   "cell_type": "markdown",
   "id": "f672dcd8-f55b-4476-b72a-d7a292fee32e",
   "metadata": {},
   "source": [
    "## `ImageWidget` using zebrafish whole-brain data\n",
    "\n",
    "## Supports numpy-like array objects and large array formats including: memmaps, zarr, hdf5, etc. via lazy loading\n",
    "\n",
    "#### Visualization is limited by file-formats and file system access performance: it will work with files of arbitrary size!"
   ]
  },
  {
   "cell_type": "code",
   "execution_count": 17,
   "id": "d64091d5-4071-49b0-b852-348657e9abbd",
   "metadata": {
    "tags": []
   },
   "outputs": [],
   "source": [
    "# load in zebrafish data\n",
    "movie = tifffile.memmap('./fpl-scipy2023-data/neural_data/zfish_vol.tiff')"
   ]
  },
  {
   "cell_type": "code",
   "execution_count": 18,
   "id": "0377bd4e-ba0a-48e9-a647-a8ee7d770afa",
   "metadata": {
    "tags": []
   },
   "outputs": [
    {
     "data": {
      "text/plain": [
       "(1309, 30, 512, 512)"
      ]
     },
     "execution_count": 18,
     "metadata": {},
     "output_type": "execute_result"
    }
   ],
   "source": [
    "movie.shape"
   ]
  },
  {
   "cell_type": "markdown",
   "id": "95063299-e5e2-4298-99d4-05fe827258f6",
   "metadata": {},
   "source": [
    "This is `[t, z, x, y]`"
   ]
  },
  {
   "cell_type": "markdown",
   "id": "a1992f2b-abb5-42c8-990b-78d3a1698811",
   "metadata": {},
   "source": [
    "## View each plane in a separate subplot"
   ]
  },
  {
   "cell_type": "code",
   "execution_count": 19,
   "id": "770f8242-e8ff-40fc-86c3-9d44abca85d6",
   "metadata": {
    "tags": []
   },
   "outputs": [
    {
     "data": {
      "application/vnd.jupyter.widget-view+json": {
       "model_id": "92df5a7b047e44e18374c9f85ec2ac14",
       "version_major": 2,
       "version_minor": 0
      },
      "text/plain": [
       "RFBOutputContext()"
      ]
     },
     "metadata": {},
     "output_type": "display_data"
    }
   ],
   "source": [
    "# get a list of txy arrays for each plane\n",
    "planes = [movie[:, i] for i in range(movie.shape[1])]\n",
    "\n",
    "iw = fpl.ImageWidget(\n",
    "    data=planes,\n",
    "    vmin_vmax_sliders=False,\n",
    "    grid_plot_kwargs={\"size\": (600, 500), \"controllers\": \"sync\"},\n",
    "    cmap=\"gnuplot2\"\n",
    ")\n",
    "\n",
    "\n",
    "sc = Sidecar(title=\"zfish planes\")\n",
    "\n",
    "with sc:\n",
    "    display(iw.show())"
   ]
  },
  {
   "cell_type": "code",
   "execution_count": 20,
   "id": "4329ac46-7820-4a4b-8b03-dbbc1d7b545e",
   "metadata": {
    "tags": []
   },
   "outputs": [],
   "source": [
    "for subplot in iw.gridplot:\n",
    "    subplot[\"image_widget_managed\"].cmap.reset_vmin_vmax()"
   ]
  },
  {
   "cell_type": "markdown",
   "id": "03c793fa-4d29-45d9-bf8c-c0b9133ee229",
   "metadata": {},
   "source": [
    "### Play with setting different window functions\n",
    "\n",
    "These can also be given as kwargs to `ImageWidget` during instantiation"
   ]
  },
  {
   "cell_type": "code",
   "execution_count": 21,
   "id": "d29c857c-78f8-4bc5-a00f-83d9985eaeb7",
   "metadata": {
    "tags": []
   },
   "outputs": [],
   "source": [
    "# must be in the form of {dim: (func, window_size)}\n",
    "iw.window_funcs = {\"t\": (np.mean, 3)}"
   ]
  },
  {
   "cell_type": "code",
   "execution_count": 22,
   "id": "48951d83-c273-451d-84ce-be14cd7fc1c3",
   "metadata": {
    "tags": []
   },
   "outputs": [],
   "source": [
    "for subplot in iw.gridplot:\n",
    "    subplot[\"image_widget_managed\"].cmap.vmin = -0.12\n",
    "    subplot[\"image_widget_managed\"].cmap.vmax = 2.3"
   ]
  },
  {
   "cell_type": "code",
   "execution_count": 23,
   "id": "e49e7b96-c1a7-4c1f-956a-1bab482b0ce0",
   "metadata": {
    "tags": []
   },
   "outputs": [],
   "source": [
    "iw.gridplot.close()\n",
    "sc.close()"
   ]
  },
  {
   "cell_type": "code",
   "execution_count": null,
   "id": "ee57b4be-7849-43c1-bc80-bfd9dc684acb",
   "metadata": {},
   "outputs": [],
   "source": []
  }
 ],
 "metadata": {
  "kernelspec": {
   "display_name": "Python 3 (ipykernel)",
   "language": "python",
   "name": "python3"
  },
  "language_info": {
   "codemirror_mode": {
    "name": "ipython",
    "version": 3
   },
   "file_extension": ".py",
   "mimetype": "text/x-python",
   "name": "python",
   "nbconvert_exporter": "python",
   "pygments_lexer": "ipython3",
   "version": "3.11.3"
  }
 },
 "nbformat": 4,
 "nbformat_minor": 5
}
