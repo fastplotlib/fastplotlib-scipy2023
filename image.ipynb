{
 "cells": [
  {
   "cell_type": "markdown",
   "id": "93740a09-9111-4777-ad57-173e9b80a2f0",
   "metadata": {
    "tags": []
   },
   "source": [
    "# Introduction to `fastplotlib`\n",
    "\n",
    "This notebook goes through basic components of the `fastplotlib` API including images, image updates, and gridplots."
   ]
  },
  {
   "cell_type": "code",
   "execution_count": 1,
   "id": "fb57c3d3-f20d-4d88-9e7a-04b9309bc637",
   "metadata": {
    "tags": []
   },
   "outputs": [],
   "source": [
    "import fastplotlib as fpl\n",
    "from ipywidgets import VBox, HBox, IntSlider\n",
    "import numpy as np\n",
    "from sidecar import Sidecar"
   ]
  },
  {
   "cell_type": "markdown",
   "id": "a9b386ac-9218-4f8f-97b3-f29b4201ef55",
   "metadata": {},
   "source": [
    "### Simple image"
   ]
  },
  {
   "cell_type": "code",
   "execution_count": 2,
   "id": "237823b7-e2c0-4e2f-9ee8-e3fc2b4453c4",
   "metadata": {
    "tags": []
   },
   "outputs": [
    {
     "data": {
      "application/vnd.jupyter.widget-view+json": {
       "model_id": "cfec9032a1524d8ea435148c596dda56",
       "version_major": 2,
       "version_minor": 0
      },
      "text/plain": [
       "RFBOutputContext()"
      ]
     },
     "metadata": {},
     "output_type": "display_data"
    },
    {
     "name": "stderr",
     "output_type": "stream",
     "text": [
      "/home/clewis7/repos/fastplotlib/fastplotlib/graphics/_features/_base.py:34: UserWarning: converting float64 array to float32\n",
      "  warn(f\"converting {array.dtype} array to float32\")\n"
     ]
    }
   ],
   "source": [
    "# create a `Plot` instance\n",
    "plot = fpl.Plot()\n",
    "\n",
    "# make some random 2D image data\n",
    "data = np.random.rand(512, 512)\n",
    "\n",
    "# plot the image data\n",
    "image_graphic = plot.add_image(data=data, name=\"random-image\")\n",
    "\n",
    "# display plot in side car\n",
    "sc = Sidecar(title=\"simple image\")\n",
    "\n",
    "with sc:\n",
    "    # show the plot\n",
    "    display(plot.show())"
   ]
  },
  {
   "cell_type": "markdown",
   "id": "be5b408f-dd91-4e36-807a-8c22c8d7d216",
   "metadata": {},
   "source": [
    "### Use the handle on the bottom right corner of the _canvas_ to resize it. You can also pan and zoom using your mouse!"
   ]
  },
  {
   "cell_type": "markdown",
   "id": "7c3b637c-a26b-416e-936c-705275852a8a",
   "metadata": {},
   "source": [
    "Changing graphic \"features\""
   ]
  },
  {
   "cell_type": "code",
   "execution_count": 3,
   "id": "de816c88-1c4a-4071-8a5e-c46c93671ef5",
   "metadata": {
    "tags": []
   },
   "outputs": [],
   "source": [
    "image_graphic.cmap = \"viridis\""
   ]
  },
  {
   "cell_type": "code",
   "execution_count": 4,
   "id": "09350854-5058-4574-a01d-84d00e276c57",
   "metadata": {
    "tags": []
   },
   "outputs": [],
   "source": [
    "image_graphic.data = 0"
   ]
  },
  {
   "cell_type": "code",
   "execution_count": 5,
   "id": "83b2db1b-2783-4e89-bcf3-66bb6e09e18a",
   "metadata": {
    "tags": []
   },
   "outputs": [],
   "source": [
    "image_graphic.data[::15, :] = 1\n",
    "image_graphic.data[:, ::15] = 1"
   ]
  },
  {
   "cell_type": "code",
   "execution_count": 6,
   "id": "3e298c1c-7551-4401-ade0-b9af7d2bbe23",
   "metadata": {
    "tags": []
   },
   "outputs": [],
   "source": [
    "image_graphic.data = np.random.rand(512, 512)"
   ]
  },
  {
   "cell_type": "markdown",
   "id": "67b92ffd-40cc-43fe-9df9-0e0d94763d8e",
   "metadata": {},
   "source": [
    "### Plots are indexable and give you their graphics by name"
   ]
  },
  {
   "cell_type": "code",
   "execution_count": 7,
   "id": "e6ba689c-ff4a-44ef-9663-f2c8755072c4",
   "metadata": {
    "tags": []
   },
   "outputs": [
    {
     "data": {
      "text/plain": [
       "(<weakproxy at 0x7f9e4f700220 to ImageGraphic at 0x7f9e49989e90>,)"
      ]
     },
     "execution_count": 7,
     "metadata": {},
     "output_type": "execute_result"
    }
   ],
   "source": [
    "plot.graphics"
   ]
  },
  {
   "cell_type": "code",
   "execution_count": 8,
   "id": "5b18f4e3-e13b-46d5-af1f-285c5a7fdc12",
   "metadata": {
    "tags": []
   },
   "outputs": [
    {
     "data": {
      "text/plain": [
       "<weakproxy at 0x7f9e4f700220 to ImageGraphic at 0x7f9e49989e90>"
      ]
     },
     "execution_count": 8,
     "metadata": {},
     "output_type": "execute_result"
    }
   ],
   "source": [
    "plot[\"random-image\"]"
   ]
  },
  {
   "cell_type": "markdown",
   "id": "4316a8b5-5f33-427a-8f52-b101d1daab67",
   "metadata": {},
   "source": [
    "#### The `Graphic` instance is also returned when you call `plot.add_<graphic_type>`."
   ]
  },
  {
   "cell_type": "code",
   "execution_count": 9,
   "id": "2b5c1321-1fd4-44bc-9433-7439ad3e22cf",
   "metadata": {
    "tags": []
   },
   "outputs": [
    {
     "data": {
      "text/plain": [
       "<weakproxy at 0x7f9e4f700220 to ImageGraphic at 0x7f9e49989e90>"
      ]
     },
     "execution_count": 9,
     "metadata": {},
     "output_type": "execute_result"
    }
   ],
   "source": [
    "image_graphic"
   ]
  },
  {
   "cell_type": "code",
   "execution_count": 10,
   "id": "b12bf75e-4e93-4930-9146-e96324fdf3f6",
   "metadata": {
    "tags": []
   },
   "outputs": [
    {
     "data": {
      "text/plain": [
       "True"
      ]
     },
     "execution_count": 10,
     "metadata": {},
     "output_type": "execute_result"
    }
   ],
   "source": [
    "image_graphic == plot[\"random-image\"]"
   ]
  },
  {
   "cell_type": "code",
   "execution_count": 11,
   "id": "4c369d3d-7219-4231-80cd-ce82b6a67a20",
   "metadata": {
    "tags": []
   },
   "outputs": [],
   "source": [
    "# close sidecar\n",
    "sc.close()"
   ]
  },
  {
   "cell_type": "markdown",
   "id": "1cb03f42-1029-4b16-a16b-35447d9e2955",
   "metadata": {
    "tags": []
   },
   "source": [
    "### Image updates\n",
    "\n",
    "This examples show how you can define animation functions that run on every render cycle."
   ]
  },
  {
   "cell_type": "code",
   "execution_count": 12,
   "id": "aadd757f-6379-4f52-a709-46aa57c56216",
   "metadata": {
    "tags": []
   },
   "outputs": [
    {
     "data": {
      "application/vnd.jupyter.widget-view+json": {
       "model_id": "2dc6c9ca868340d0aecbbe7bbe0b7d0a",
       "version_major": 2,
       "version_minor": 0
      },
      "text/plain": [
       "RFBOutputContext()"
      ]
     },
     "metadata": {},
     "output_type": "display_data"
    }
   ],
   "source": [
    "# create another `Plot` instance\n",
    "plot_v = fpl.Plot()\n",
    "\n",
    "plot.canvas.max_buffered_frames = 1\n",
    "\n",
    "# make some random data again\n",
    "data = np.random.rand(512, 512)\n",
    "\n",
    "# plot the data\n",
    "plot_v.add_image(data=data, name=\"random-image\")\n",
    "\n",
    "# a function to update the image_graphic\n",
    "# a plot will pass its plot instance to the animation function as an arugment\n",
    "def update_data(plot_instance):\n",
    "    new_data = np.random.rand(512, 512)\n",
    "    plot_instance[\"random-image\"].data = new_data\n",
    "\n",
    "#add this as an animation function\n",
    "plot_v.add_animations(update_data)\n",
    "\n",
    "# sidecar to display plot\n",
    "sc = Sidecar(title=\"simple image\")\n",
    "\n",
    "with sc:\n",
    "    # show the plot\n",
    "    display(plot_v.show())"
   ]
  },
  {
   "cell_type": "markdown",
   "id": "b313eda1-6e6c-466f-9fd5-8b70c1d3c110",
   "metadata": {},
   "source": [
    "### We can share controllers across plots\n",
    "\n",
    "This example creates a new plot, but it synchronizes the pan-zoom controller"
   ]
  },
  {
   "cell_type": "code",
   "execution_count": 13,
   "id": "86e70b1e-4328-4035-b992-70dff16d2a69",
   "metadata": {
    "tags": []
   },
   "outputs": [
    {
     "data": {
      "application/vnd.jupyter.widget-view+json": {
       "model_id": "aec37a3963c84fdda51ec91855147576",
       "version_major": 2,
       "version_minor": 0
      },
      "text/plain": [
       "RFBOutputContext()"
      ]
     },
     "metadata": {},
     "output_type": "display_data"
    },
    {
     "data": {
      "application/vnd.jupyter.widget-view+json": {
       "model_id": "f9e764330fd446bca19862886e6a27c8",
       "version_major": 2,
       "version_minor": 0
      },
      "text/plain": [
       "VBox(children=(JupyterWgpuCanvas(), HBox(children=(Button(icon='expand-arrows-alt', layout=Layout(width='auto'…"
      ]
     },
     "execution_count": 13,
     "metadata": {},
     "output_type": "execute_result"
    }
   ],
   "source": [
    "plot_sync = fpl.Plot(controller=plot_v.controller)\n",
    "\n",
    "data = np.random.rand(512, 512)\n",
    "\n",
    "image_graphic_instance = plot_sync.add_image(data=data, cmap=\"viridis\")\n",
    "\n",
    "# you will need to define a new animation function for this graphic\n",
    "def update_data_2():\n",
    "    new_data = np.random.rand(512, 512)\n",
    "    # alternatively, you can use the stored reference to the graphic as well instead of indexing the Plot\n",
    "    image_graphic_instance.data = new_data\n",
    "\n",
    "plot_sync.add_animations(update_data_2)\n",
    "\n",
    "plot_sync.show()"
   ]
  },
  {
   "cell_type": "markdown",
   "id": "f226c9c2-8d0e-41ab-9ab9-1ae31fd91de5",
   "metadata": {},
   "source": [
    "#### Keeping a reference to the Graphic instance, as shown above `image_graphic_instance`, is useful if you're creating something where you need flexibility in the naming of the graphics"
   ]
  },
  {
   "cell_type": "code",
   "execution_count": 14,
   "id": "bd073e07-5721-4957-8a16-0767b9d64d25",
   "metadata": {
    "tags": []
   },
   "outputs": [],
   "source": [
    "sc.close()"
   ]
  },
  {
   "cell_type": "markdown",
   "id": "d11fabb7-7c76-4e94-893d-80ed9ee3be3d",
   "metadata": {},
   "source": [
    "### You can also use `ipywidgets.VBox` and `HBox` to stack plots."
   ]
  },
  {
   "cell_type": "code",
   "execution_count": 15,
   "id": "ef9743b3-5f81-4b79-9502-fa5fca08e56d",
   "metadata": {
    "tags": []
   },
   "outputs": [
    {
     "data": {
      "application/vnd.jupyter.widget-view+json": {
       "model_id": "f9a52fe2a47c4f24ae7efeb1e739b29f",
       "version_major": 2,
       "version_minor": 0
      },
      "text/plain": [
       "VBox(children=(VBox(children=(JupyterWgpuCanvas(frame_feedback={'index': 204, 'timestamp': 1688428650.7087958,…"
      ]
     },
     "execution_count": 15,
     "metadata": {},
     "output_type": "execute_result"
    }
   ],
   "source": [
    "VBox([plot_v.show(), plot_sync.show()])"
   ]
  },
  {
   "cell_type": "code",
   "execution_count": 22,
   "id": "11839d95-8ff7-444c-ae13-6b072c3112c5",
   "metadata": {},
   "outputs": [
    {
     "data": {
      "application/vnd.jupyter.widget-view+json": {
       "model_id": "f9b60a3cca1a445095a91ce4fb847342",
       "version_major": 2,
       "version_minor": 0
      },
      "text/plain": [
       "HBox(children=(VBox(children=(JupyterWgpuCanvas(frame_feedback={'index': 221, 'timestamp': 1688383899.3789, 'l…"
      ]
     },
     "execution_count": 22,
     "metadata": {},
     "output_type": "execute_result"
    }
   ],
   "source": [
    "HBox([plot_v.show(), plot_sync.show()])"
   ]
  },
  {
   "cell_type": "code",
   "execution_count": 16,
   "id": "e8b3468a-0c92-42b0-8158-6c3c4cb83fa1",
   "metadata": {
    "tags": []
   },
   "outputs": [],
   "source": [
    "# close plots\n",
    "plot_v.close()\n",
    "plot_sync.close()\n",
    "plot.close()"
   ]
  },
  {
   "cell_type": "markdown",
   "id": "3f7e1a48-a3eb-4308-96f6-88f94971e6b5",
   "metadata": {},
   "source": [
    "# Sliders to scroll through image data\n",
    "\n",
    "We often already have large image arrays (whether in RAM or through lazy loading), and want to view 2D frames across one or more dimensions. There is an `ImageWidget` that should really be used for this, but this example just shows how you can use `ipywidgets` to change data or any **`GraphicFeature`**"
   ]
  },
  {
   "cell_type": "code",
   "execution_count": 1,
   "id": "5139ad7c-2d72-402b-9239-27dcf5bd0c89",
   "metadata": {
    "tags": []
   },
   "outputs": [],
   "source": [
    "# use cockatoo videos"
   ]
  },
  {
   "cell_type": "markdown",
   "id": "affe801b-6d2a-41fc-b80d-f7126800f6da",
   "metadata": {},
   "source": [
    "## Plot and scroll through the first dimension with a slider"
   ]
  },
  {
   "cell_type": "code",
   "execution_count": 4,
   "id": "207632a8-9f7d-4931-bebc-b43a49e63b9e",
   "metadata": {},
   "outputs": [
    {
     "data": {
      "application/vnd.jupyter.widget-view+json": {
       "model_id": "644785c8a11d46218417aec917f8b219",
       "version_major": 2,
       "version_minor": 0
      },
      "text/plain": [
       "RFBOutputContext()"
      ]
     },
     "metadata": {},
     "output_type": "display_data"
    },
    {
     "name": "stderr",
     "output_type": "stream",
     "text": [
      "/home/clewis7/repos/fastplotlib/fastplotlib/graphics/_features/_base.py:34: UserWarning: converting float64 array to float32\n",
      "  warn(f\"converting {array.dtype} array to float32\")\n"
     ]
    },
    {
     "data": {
      "application/vnd.jupyter.widget-view+json": {
       "model_id": "f27e65b3154a48a182cdf375ecb77167",
       "version_major": 2,
       "version_minor": 0
      },
      "text/plain": [
       "VBox(children=(VBox(children=(JupyterWgpuCanvas(), HBox(children=(Button(icon='expand-arrows-alt', layout=Layo…"
      ]
     },
     "execution_count": 4,
     "metadata": {},
     "output_type": "execute_result"
    }
   ],
   "source": [
    "plot_movie = fpl.Plot()\n",
    "\n",
    "# plot the first frame to initialize\n",
    "movie_graphic = plot_movie.add_image(movie[0], vmin=0, vmax=movie.max(), cmap=\"gnuplot2\")\n",
    "\n",
    "# make a slider\n",
    "slider = IntSlider(min=0, max=movie.shape[0] - 1, step=1, value=0)\n",
    "\n",
    "# function to update movie_graphic\n",
    "def update_movie(change):    \n",
    "    index = change[\"new\"]\n",
    "    movie_graphic.data = movie[index]\n",
    "    \n",
    "slider.observe(update_movie, \"value\")\n",
    "    \n",
    "# Use an ipywidgets VBox to show the plot and slider\n",
    "VBox([plot_movie.show(), slider])"
   ]
  },
  {
   "cell_type": "markdown",
   "id": "8a480a6e-ba89-4062-a509-af64a3f1606e",
   "metadata": {
    "tags": []
   },
   "source": [
    "#### Note that the use of globals in the `update_movie()` here can get messy, this is not recommended and  you should create a class to properly handle combining widgets like this. _However_ if you want slider widgets for imaging data the recommended way to do this is by using the `ImageWidget`."
   ]
  },
  {
   "cell_type": "markdown",
   "id": "f672dcd8-f55b-4476-b72a-d7a292fee32e",
   "metadata": {},
   "source": [
    "## Single image sequence `ImageWidget` using zebrafish data"
   ]
  },
  {
   "cell_type": "code",
   "execution_count": 2,
   "id": "51924c5c-b27d-4af6-957a-eb196b31db4b",
   "metadata": {
    "tags": []
   },
   "outputs": [],
   "source": [
    "# use zebrafish data"
   ]
  },
  {
   "cell_type": "code",
   "execution_count": 13,
   "id": "7a76119e-2035-48ba-9a88-a8a6f64a3365",
   "metadata": {
    "tags": []
   },
   "outputs": [
    {
     "data": {
      "application/vnd.jupyter.widget-view+json": {
       "model_id": "b3099fd101d44709923d71b739d574db",
       "version_major": 2,
       "version_minor": 0
      },
      "text/plain": [
       "RFBOutputContext()"
      ]
     },
     "metadata": {},
     "output_type": "display_data"
    }
   ],
   "source": [
    "iw = fpl.ImageWidget(\n",
    "    data=a,\n",
    "    vmin_vmax_sliders=True,\n",
    "    cmap=\"viridis\"\n",
    ")"
   ]
  },
  {
   "cell_type": "code",
   "execution_count": 14,
   "id": "7933b6e3-c81a-432f-b359-06b75759ca94",
   "metadata": {
    "tags": []
   },
   "outputs": [],
   "source": [
    "sc = Sidecar()\n",
    "\n",
    "with sc:\n",
    "    display(iw.show())"
   ]
  },
  {
   "cell_type": "markdown",
   "id": "c7667411-2118-4c4b-819a-03b597b6b333",
   "metadata": {},
   "source": [
    "### can dynamically change features"
   ]
  },
  {
   "cell_type": "code",
   "execution_count": 15,
   "id": "21f6c49e-c552-496c-b039-49492661eb64",
   "metadata": {
    "tags": []
   },
   "outputs": [],
   "source": [
    "iw.gridplot[0, 0].graphics[0].cmap = \"gnuplot2\""
   ]
  },
  {
   "cell_type": "markdown",
   "id": "03c793fa-4d29-45d9-bf8c-c0b9133ee229",
   "metadata": {},
   "source": [
    "### Play with setting different window functions\n",
    "\n",
    "These can also be given as kwargs to `ImageWidget` during instantiation"
   ]
  },
  {
   "cell_type": "code",
   "execution_count": 16,
   "id": "d29c857c-78f8-4bc5-a00f-83d9985eaeb7",
   "metadata": {
    "tags": []
   },
   "outputs": [],
   "source": [
    "# must be in the form of {dim: (func, window_size)}\n",
    "iw.window_funcs = {\"t\": (np.mean, 13)}"
   ]
  },
  {
   "cell_type": "code",
   "execution_count": 17,
   "id": "31542e8e-9549-4878-bbea-25136fd1b3ad",
   "metadata": {
    "tags": []
   },
   "outputs": [],
   "source": [
    "# change the winow size\n",
    "iw.window_funcs[\"t\"].window_size = 23"
   ]
  },
  {
   "cell_type": "code",
   "execution_count": 18,
   "id": "2433e117-8b99-4ca4-89fb-b6283c007620",
   "metadata": {
    "tags": []
   },
   "outputs": [],
   "source": [
    "# change the function\n",
    "iw.window_funcs[\"t\"].func = np.max"
   ]
  },
  {
   "cell_type": "code",
   "execution_count": 19,
   "id": "58695549-089f-4af3-abab-289ad47c0681",
   "metadata": {
    "tags": []
   },
   "outputs": [],
   "source": [
    "# or set it again\n",
    "iw.window_funcs = {\"t\": (np.min, 11)}"
   ]
  },
  {
   "cell_type": "code",
   "execution_count": null,
   "id": "03837ed8-05b1-4518-85b3-8fdf7263b52e",
   "metadata": {},
   "outputs": [],
   "source": []
  },
  {
   "cell_type": "code",
   "execution_count": null,
   "id": "26b9725e-93c0-45cf-b7af-8d3efe58dabf",
   "metadata": {},
   "outputs": [],
   "source": []
  }
 ],
 "metadata": {
  "kernelspec": {
   "display_name": "Python 3 (ipykernel)",
   "language": "python",
   "name": "python3"
  },
  "language_info": {
   "codemirror_mode": {
    "name": "ipython",
    "version": 3
   },
   "file_extension": ".py",
   "mimetype": "text/x-python",
   "name": "python",
   "nbconvert_exporter": "python",
   "pygments_lexer": "ipython3",
   "version": "3.11.3"
  }
 },
 "nbformat": 4,
 "nbformat_minor": 5
}
