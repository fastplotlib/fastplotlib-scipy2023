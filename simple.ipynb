{
 "cells": [
  {
   "cell_type": "markdown",
   "id": "93740a09-9111-4777-ad57-173e9b80a2f0",
   "metadata": {
    "tags": []
   },
   "source": [
    "# Introduction to `fastplotlib`\n",
    "\n",
    "This notebook goes through basic components of the `fastplotlib` API including images, image updates, and gridplots."
   ]
  },
  {
   "cell_type": "code",
   "execution_count": 1,
   "id": "fb57c3d3-f20d-4d88-9e7a-04b9309bc637",
   "metadata": {
    "tags": []
   },
   "outputs": [],
   "source": [
    "import fastplotlib as fpl\n",
    "from ipywidgets import VBox, HBox, IntSlider\n",
    "import numpy as np\n",
    "from sidecar import Sidecar"
   ]
  },
  {
   "cell_type": "markdown",
   "id": "a9b386ac-9218-4f8f-97b3-f29b4201ef55",
   "metadata": {},
   "source": [
    "### Simple image"
   ]
  },
  {
   "cell_type": "code",
   "execution_count": 2,
   "id": "237823b7-e2c0-4e2f-9ee8-e3fc2b4453c4",
   "metadata": {
    "tags": []
   },
   "outputs": [
    {
     "data": {
      "application/vnd.jupyter.widget-view+json": {
       "model_id": "cfec9032a1524d8ea435148c596dda56",
       "version_major": 2,
       "version_minor": 0
      },
      "text/plain": [
       "RFBOutputContext()"
      ]
     },
     "metadata": {},
     "output_type": "display_data"
    },
    {
     "name": "stderr",
     "output_type": "stream",
     "text": [
      "/home/clewis7/repos/fastplotlib/fastplotlib/graphics/_features/_base.py:34: UserWarning: converting float64 array to float32\n",
      "  warn(f\"converting {array.dtype} array to float32\")\n"
     ]
    }
   ],
   "source": [
    "# create a `Plot` instance\n",
    "plot = fpl.Plot()\n",
    "\n",
    "# make some random 2D image data\n",
    "data = np.random.rand(512, 512)\n",
    "\n",
    "# plot the image data\n",
    "image_graphic = plot.add_image(data=data, name=\"random-image\")\n",
    "\n",
    "# display plot in side car\n",
    "sc = Sidecar(title=\"simple image\")\n",
    "\n",
    "with sc:\n",
    "    # show the plot\n",
    "    display(plot.show())"
   ]
  },
  {
   "cell_type": "markdown",
   "id": "be5b408f-dd91-4e36-807a-8c22c8d7d216",
   "metadata": {},
   "source": [
    "### Use the handle on the bottom right corner of the _canvas_ to resize it. You can also pan and zoom using your mouse!"
   ]
  },
  {
   "cell_type": "markdown",
   "id": "7c3b637c-a26b-416e-936c-705275852a8a",
   "metadata": {},
   "source": [
    "Changing graphic \"features\""
   ]
  },
  {
   "cell_type": "code",
   "execution_count": 3,
   "id": "de816c88-1c4a-4071-8a5e-c46c93671ef5",
   "metadata": {
    "tags": []
   },
   "outputs": [],
   "source": [
    "image_graphic.cmap = \"viridis\""
   ]
  },
  {
   "cell_type": "code",
   "execution_count": 4,
   "id": "09350854-5058-4574-a01d-84d00e276c57",
   "metadata": {
    "tags": []
   },
   "outputs": [],
   "source": [
    "image_graphic.data = 0"
   ]
  },
  {
   "cell_type": "code",
   "execution_count": 5,
   "id": "83b2db1b-2783-4e89-bcf3-66bb6e09e18a",
   "metadata": {
    "tags": []
   },
   "outputs": [],
   "source": [
    "image_graphic.data[::15, :] = 1\n",
    "image_graphic.data[:, ::15] = 1"
   ]
  },
  {
   "cell_type": "code",
   "execution_count": 6,
   "id": "3e298c1c-7551-4401-ade0-b9af7d2bbe23",
   "metadata": {
    "tags": []
   },
   "outputs": [],
   "source": [
    "image_graphic.data = np.random.rand(512, 512)"
   ]
  },
  {
   "cell_type": "markdown",
   "id": "67b92ffd-40cc-43fe-9df9-0e0d94763d8e",
   "metadata": {},
   "source": [
    "### Plots are indexable and give you their graphics by name"
   ]
  },
  {
   "cell_type": "code",
   "execution_count": 7,
   "id": "e6ba689c-ff4a-44ef-9663-f2c8755072c4",
   "metadata": {
    "tags": []
   },
   "outputs": [
    {
     "data": {
      "text/plain": [
       "(<weakproxy at 0x7f9e4f700220 to ImageGraphic at 0x7f9e49989e90>,)"
      ]
     },
     "execution_count": 7,
     "metadata": {},
     "output_type": "execute_result"
    }
   ],
   "source": [
    "plot.graphics"
   ]
  },
  {
   "cell_type": "code",
   "execution_count": 8,
   "id": "5b18f4e3-e13b-46d5-af1f-285c5a7fdc12",
   "metadata": {
    "tags": []
   },
   "outputs": [
    {
     "data": {
      "text/plain": [
       "<weakproxy at 0x7f9e4f700220 to ImageGraphic at 0x7f9e49989e90>"
      ]
     },
     "execution_count": 8,
     "metadata": {},
     "output_type": "execute_result"
    }
   ],
   "source": [
    "plot[\"random-image\"]"
   ]
  },
  {
   "cell_type": "markdown",
   "id": "4316a8b5-5f33-427a-8f52-b101d1daab67",
   "metadata": {},
   "source": [
    "#### The `Graphic` instance is also returned when you call `plot.add_<graphic_type>`."
   ]
  },
  {
   "cell_type": "code",
   "execution_count": 9,
   "id": "2b5c1321-1fd4-44bc-9433-7439ad3e22cf",
   "metadata": {
    "tags": []
   },
   "outputs": [
    {
     "data": {
      "text/plain": [
       "<weakproxy at 0x7f9e4f700220 to ImageGraphic at 0x7f9e49989e90>"
      ]
     },
     "execution_count": 9,
     "metadata": {},
     "output_type": "execute_result"
    }
   ],
   "source": [
    "image_graphic"
   ]
  },
  {
   "cell_type": "code",
   "execution_count": 10,
   "id": "b12bf75e-4e93-4930-9146-e96324fdf3f6",
   "metadata": {
    "tags": []
   },
   "outputs": [
    {
     "data": {
      "text/plain": [
       "True"
      ]
     },
     "execution_count": 10,
     "metadata": {},
     "output_type": "execute_result"
    }
   ],
   "source": [
    "image_graphic == plot[\"random-image\"]"
   ]
  },
  {
   "cell_type": "code",
   "execution_count": 11,
   "id": "4c369d3d-7219-4231-80cd-ce82b6a67a20",
   "metadata": {
    "tags": []
   },
   "outputs": [],
   "source": [
    "# close sidecar\n",
    "sc.close()"
   ]
  },
  {
   "cell_type": "markdown",
   "id": "1cb03f42-1029-4b16-a16b-35447d9e2955",
   "metadata": {
    "tags": []
   },
   "source": [
    "### Image updates\n",
    "\n",
    "This examples show how you can define animation functions that run on every render cycle."
   ]
  },
  {
   "cell_type": "code",
   "execution_count": 12,
   "id": "aadd757f-6379-4f52-a709-46aa57c56216",
   "metadata": {
    "tags": []
   },
   "outputs": [
    {
     "data": {
      "application/vnd.jupyter.widget-view+json": {
       "model_id": "2dc6c9ca868340d0aecbbe7bbe0b7d0a",
       "version_major": 2,
       "version_minor": 0
      },
      "text/plain": [
       "RFBOutputContext()"
      ]
     },
     "metadata": {},
     "output_type": "display_data"
    }
   ],
   "source": [
    "# create another `Plot` instance\n",
    "plot_v = fpl.Plot()\n",
    "\n",
    "plot.canvas.max_buffered_frames = 1\n",
    "\n",
    "# make some random data again\n",
    "data = np.random.rand(512, 512)\n",
    "\n",
    "# plot the data\n",
    "plot_v.add_image(data=data, name=\"random-image\")\n",
    "\n",
    "# a function to update the image_graphic\n",
    "# a plot will pass its plot instance to the animation function as an arugment\n",
    "def update_data(plot_instance):\n",
    "    new_data = np.random.rand(512, 512)\n",
    "    plot_instance[\"random-image\"].data = new_data\n",
    "\n",
    "#add this as an animation function\n",
    "plot_v.add_animations(update_data)\n",
    "\n",
    "# sidecar to display plot\n",
    "sc = Sidecar(title=\"simple image\")\n",
    "\n",
    "with sc:\n",
    "    # show the plot\n",
    "    display(plot_v.show())"
   ]
  },
  {
   "cell_type": "markdown",
   "id": "b313eda1-6e6c-466f-9fd5-8b70c1d3c110",
   "metadata": {},
   "source": [
    "### We can share controllers across plots\n",
    "\n",
    "This example creates a new plot, but it synchronizes the pan-zoom controller"
   ]
  },
  {
   "cell_type": "code",
   "execution_count": 13,
   "id": "86e70b1e-4328-4035-b992-70dff16d2a69",
   "metadata": {
    "tags": []
   },
   "outputs": [
    {
     "data": {
      "application/vnd.jupyter.widget-view+json": {
       "model_id": "aec37a3963c84fdda51ec91855147576",
       "version_major": 2,
       "version_minor": 0
      },
      "text/plain": [
       "RFBOutputContext()"
      ]
     },
     "metadata": {},
     "output_type": "display_data"
    },
    {
     "data": {
      "application/vnd.jupyter.widget-view+json": {
       "model_id": "f9e764330fd446bca19862886e6a27c8",
       "version_major": 2,
       "version_minor": 0
      },
      "text/plain": [
       "VBox(children=(JupyterWgpuCanvas(), HBox(children=(Button(icon='expand-arrows-alt', layout=Layout(width='auto'…"
      ]
     },
     "execution_count": 13,
     "metadata": {},
     "output_type": "execute_result"
    }
   ],
   "source": [
    "plot_sync = fpl.Plot(controller=plot_v.controller)\n",
    "\n",
    "data = np.random.rand(512, 512)\n",
    "\n",
    "image_graphic_instance = plot_sync.add_image(data=data, cmap=\"viridis\")\n",
    "\n",
    "# you will need to define a new animation function for this graphic\n",
    "def update_data_2():\n",
    "    new_data = np.random.rand(512, 512)\n",
    "    # alternatively, you can use the stored reference to the graphic as well instead of indexing the Plot\n",
    "    image_graphic_instance.data = new_data\n",
    "\n",
    "plot_sync.add_animations(update_data_2)\n",
    "\n",
    "plot_sync.show()"
   ]
  },
  {
   "cell_type": "markdown",
   "id": "f226c9c2-8d0e-41ab-9ab9-1ae31fd91de5",
   "metadata": {},
   "source": [
    "#### Keeping a reference to the Graphic instance, as shown above `image_graphic_instance`, is useful if you're creating something where you need flexibility in the naming of the graphics"
   ]
  },
  {
   "cell_type": "code",
   "execution_count": 14,
   "id": "bd073e07-5721-4957-8a16-0767b9d64d25",
   "metadata": {
    "tags": []
   },
   "outputs": [],
   "source": [
    "sc.close()"
   ]
  },
  {
   "cell_type": "markdown",
   "id": "d11fabb7-7c76-4e94-893d-80ed9ee3be3d",
   "metadata": {},
   "source": [
    "### You can also use `ipywidgets.VBox` and `HBox` to stack plots."
   ]
  },
  {
   "cell_type": "code",
   "execution_count": 15,
   "id": "ef9743b3-5f81-4b79-9502-fa5fca08e56d",
   "metadata": {
    "tags": []
   },
   "outputs": [
    {
     "data": {
      "application/vnd.jupyter.widget-view+json": {
       "model_id": "f9a52fe2a47c4f24ae7efeb1e739b29f",
       "version_major": 2,
       "version_minor": 0
      },
      "text/plain": [
       "VBox(children=(VBox(children=(JupyterWgpuCanvas(frame_feedback={'index': 204, 'timestamp': 1688428650.7087958,…"
      ]
     },
     "execution_count": 15,
     "metadata": {},
     "output_type": "execute_result"
    }
   ],
   "source": [
    "VBox([plot_v.show(), plot_sync.show()])"
   ]
  },
  {
   "cell_type": "code",
   "execution_count": 22,
   "id": "11839d95-8ff7-444c-ae13-6b072c3112c5",
   "metadata": {},
   "outputs": [
    {
     "data": {
      "application/vnd.jupyter.widget-view+json": {
       "model_id": "f9b60a3cca1a445095a91ce4fb847342",
       "version_major": 2,
       "version_minor": 0
      },
      "text/plain": [
       "HBox(children=(VBox(children=(JupyterWgpuCanvas(frame_feedback={'index': 221, 'timestamp': 1688383899.3789, 'l…"
      ]
     },
     "execution_count": 22,
     "metadata": {},
     "output_type": "execute_result"
    }
   ],
   "source": [
    "HBox([plot_v.show(), plot_sync.show()])"
   ]
  },
  {
   "cell_type": "code",
   "execution_count": 16,
   "id": "e8b3468a-0c92-42b0-8158-6c3c4cb83fa1",
   "metadata": {
    "tags": []
   },
   "outputs": [],
   "source": [
    "# close plots\n",
    "plot_v.close()\n",
    "plot_sync.close()\n",
    "plot.close()"
   ]
  },
  {
   "cell_type": "markdown",
   "id": "afc80119-1f6e-45a5-a07c-3338548909d7",
   "metadata": {},
   "source": [
    "# GridPlot\n",
    "\n",
    "Allows for proper subplotting. Create graphics and add them to a `GridPlot`."
   ]
  },
  {
   "cell_type": "code",
   "execution_count": 18,
   "id": "393a9139-473c-4c99-acf9-38d313fba483",
   "metadata": {
    "tags": []
   },
   "outputs": [
    {
     "data": {
      "application/vnd.jupyter.widget-view+json": {
       "model_id": "2a3e4dfbf46c4ed68ebb4631ff972abe",
       "version_major": 2,
       "version_minor": 0
      },
      "text/plain": [
       "RFBOutputContext()"
      ]
     },
     "metadata": {},
     "output_type": "display_data"
    }
   ],
   "source": [
    "# GridPlot of shape 2 x 3 with all controllers synced\n",
    "grid_plot = fpl.GridPlot(shape=(2, 3), controllers=\"sync\")\n",
    "\n",
    "# Make a random image graphic for each subplot\n",
    "for subplot in grid_plot:\n",
    "    # create image data\n",
    "    data = np.random.rand(512, 512)\n",
    "    # add an image to the subplot\n",
    "    subplot.add_image(data, name=\"rand-img\")\n",
    "\n",
    "# Define a function to update the image graphics with new data\n",
    "# add_animations will pass the gridplot to the animation function\n",
    "def update_data(gp):\n",
    "    for sp in gp:\n",
    "        new_data = np.random.rand(512, 512)\n",
    "        # index the image graphic by name and set the data\n",
    "        sp[\"rand-img\"].data = new_data\n",
    "        \n",
    "# add the animation function\n",
    "grid_plot.add_animations(update_data)\n",
    "\n",
    "sc = Sidecar(title=\"gridplot\")\n",
    "\n",
    "# show the gridplot \n",
    "with sc:\n",
    "    display(grid_plot.show())"
   ]
  },
  {
   "cell_type": "markdown",
   "id": "f5f4a17e-90f1-4864-92ed-1a9fa7029a29",
   "metadata": {},
   "source": [
    "## Accessing subplots within `GridPlot`"
   ]
  },
  {
   "cell_type": "code",
   "execution_count": 19,
   "id": "d22c309a-5b63-46f6-bae6-ec3a03fd73f7",
   "metadata": {
    "tags": []
   },
   "outputs": [
    {
     "data": {
      "text/plain": [
       "unnamed: Subplot @ 0x7f9df45ad150\n",
       "  parent: None\n",
       "  Graphics:\n",
       "\t'rand-img': ImageGraphic @ 0x7f9dec665990"
      ]
     },
     "execution_count": 19,
     "metadata": {},
     "output_type": "execute_result"
    }
   ],
   "source": [
    "# positional indexing\n",
    "# row 0 and col 0\n",
    "grid_plot[0, 0]"
   ]
  },
  {
   "cell_type": "markdown",
   "id": "12123d7d-a427-4472-98ec-3aaaeb0e254c",
   "metadata": {},
   "source": [
    "### You can get the graphics within a subplot, just like with simple `Plot`"
   ]
  },
  {
   "cell_type": "code",
   "execution_count": 20,
   "id": "5f2eedb8-2335-4524-9e69-090eee1b0b33",
   "metadata": {
    "tags": []
   },
   "outputs": [
    {
     "data": {
      "text/plain": [
       "(<weakproxy at 0x7f9e2c10b060 to ImageGraphic at 0x7f9dec50ead0>,)"
      ]
     },
     "execution_count": 20,
     "metadata": {},
     "output_type": "execute_result"
    }
   ],
   "source": [
    "grid_plot[0, 1].graphics"
   ]
  },
  {
   "cell_type": "markdown",
   "id": "232973bd-62d6-4036-9a73-1a97b316b186",
   "metadata": {},
   "source": [
    "### and change their properties"
   ]
  },
  {
   "cell_type": "code",
   "execution_count": 22,
   "id": "4f292fd5-5d13-4e84-97f5-9475f5c02355",
   "metadata": {
    "tags": []
   },
   "outputs": [],
   "source": [
    "grid_plot[0, 1].graphics[0].cmap.vmax = 0.5"
   ]
  },
  {
   "cell_type": "markdown",
   "id": "c1336631-2fea-4475-b171-4fb7535cb9b1",
   "metadata": {},
   "source": [
    "### more indexing with `GridPlot`"
   ]
  },
  {
   "cell_type": "code",
   "execution_count": 23,
   "id": "dce922b7-f5c5-475f-b0f3-bc5bd2386c14",
   "metadata": {
    "tags": []
   },
   "outputs": [],
   "source": [
    "# you can give subplots human-readable string names\n",
    "grid_plot[0, 2].name = \"top-right-plot\""
   ]
  },
  {
   "cell_type": "code",
   "execution_count": 24,
   "id": "756838fa-a540-4eb5-80ea-51a87c4f1fe2",
   "metadata": {
    "tags": []
   },
   "outputs": [
    {
     "data": {
      "text/plain": [
       "top-right-plot: Subplot @ 0x7f9df45df510\n",
       "  parent: None\n",
       "  Graphics:\n",
       "\t'rand-img': ImageGraphic @ 0x7f9dec514890"
      ]
     },
     "execution_count": 24,
     "metadata": {},
     "output_type": "execute_result"
    }
   ],
   "source": [
    "grid_plot[\"top-right-plot\"]"
   ]
  },
  {
   "cell_type": "code",
   "execution_count": 25,
   "id": "97c7e15f-9047-4ac3-ba70-e4eadb844295",
   "metadata": {
    "tags": []
   },
   "outputs": [
    {
     "data": {
      "text/plain": [
       "(0, 2)"
      ]
     },
     "execution_count": 25,
     "metadata": {},
     "output_type": "execute_result"
    }
   ],
   "source": [
    "# view its position\n",
    "grid_plot[\"top-right-plot\"].position"
   ]
  },
  {
   "cell_type": "code",
   "execution_count": 26,
   "id": "db67cd19-ddda-455b-aa80-c1eb619ec19d",
   "metadata": {
    "tags": []
   },
   "outputs": [
    {
     "data": {
      "text/plain": [
       "True"
      ]
     },
     "execution_count": 26,
     "metadata": {},
     "output_type": "execute_result"
    }
   ],
   "source": [
    "# these are really the same\n",
    "grid_plot[\"top-right-plot\"] is grid_plot[0, 2]"
   ]
  },
  {
   "cell_type": "markdown",
   "id": "f1215948-270b-40a2-9f50-238a4f07caae",
   "metadata": {},
   "source": [
    "Indexing with subplot name and graphic name"
   ]
  },
  {
   "cell_type": "code",
   "execution_count": 27,
   "id": "fc6890a6-0438-4b74-8da5-855be736bea8",
   "metadata": {
    "tags": []
   },
   "outputs": [],
   "source": [
    "grid_plot[\"top-right-plot\"][\"rand-img\"].cmap.vmin = 0.5"
   ]
  },
  {
   "cell_type": "code",
   "execution_count": 28,
   "id": "e172c0da-186f-4324-8679-154123fb1d66",
   "metadata": {
    "tags": []
   },
   "outputs": [],
   "source": [
    "sc.close()"
   ]
  },
  {
   "cell_type": "code",
   "execution_count": null,
   "id": "6f2e56c4-312c-4187-bdbf-5aea5443bcbd",
   "metadata": {},
   "outputs": [],
   "source": []
  }
 ],
 "metadata": {
  "kernelspec": {
   "display_name": "Python 3 (ipykernel)",
   "language": "python",
   "name": "python3"
  },
  "language_info": {
   "codemirror_mode": {
    "name": "ipython",
    "version": 3
   },
   "file_extension": ".py",
   "mimetype": "text/x-python",
   "name": "python",
   "nbconvert_exporter": "python",
   "pygments_lexer": "ipython3",
   "version": "3.11.3"
  }
 },
 "nbformat": 4,
 "nbformat_minor": 5
}
