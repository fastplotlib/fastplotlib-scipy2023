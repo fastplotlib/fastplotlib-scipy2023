{
 "cells": [
  {
   "cell_type": "markdown",
   "id": "90d15090-fb93-4948-b00a-d4d71930d6cd",
   "metadata": {},
   "source": [
    "# Line Plots"
   ]
  },
  {
   "cell_type": "markdown",
   "id": "07e3c0e4-f15a-497d-9e50-cad632234d93",
   "metadata": {},
   "source": [
    "## 2D line plots\n",
    "\n",
    "This example plots a sine wave, cosine wave, and ricker wavelet and demonstrates how Graphic Features can be modified by slicing!"
   ]
  },
  {
   "cell_type": "code",
   "execution_count": 1,
   "id": "177e0cc3-870c-4570-bf59-af3528ba94bf",
   "metadata": {},
   "outputs": [],
   "source": [
    "import fastplotlib as fpl\n",
    "from fastplotlib.graphics.selectors import Synchronizer\n",
    "\n",
    "import numpy as np\n",
    "from sidecar import Sidecar\n",
    "from ipywidgets import VBox\n",
    "from itertools import product"
   ]
  },
  {
   "cell_type": "markdown",
   "id": "04d043ac-2849-4222-9a91-f5dd2ff40e1d",
   "metadata": {},
   "source": [
    "### First generate some data."
   ]
  },
  {
   "cell_type": "code",
   "execution_count": 2,
   "id": "9bf0017a-e319-4f4c-8bf8-91cff3755099",
   "metadata": {
    "tags": []
   },
   "outputs": [],
   "source": [
    "# linspace, create 100 evenly spaced x values from -10 to 10\n",
    "xs = np.linspace(-10, 10, 100)\n",
    "# sine wave\n",
    "ys = np.sin(xs)\n",
    "sine = np.dstack([xs, ys])[0]\n",
    "\n",
    "# cosine wave\n",
    "ys = np.cos(xs) + 5\n",
    "cosine = np.dstack([xs, ys])[0]\n",
    "\n",
    "# sinc function\n",
    "a = 0.5\n",
    "ys = np.sinc(xs) * 3 + 8\n",
    "sinc = np.dstack([xs, ys])[0]"
   ]
  },
  {
   "cell_type": "markdown",
   "id": "b00723ea-d808-4a66-ac8b-d1f78e2e6f27",
   "metadata": {},
   "source": [
    "### We will plot all of it on the same plot. Each line plot will be an individual Graphic, you can have any combination of graphics on a plot."
   ]
  },
  {
   "cell_type": "code",
   "execution_count": 3,
   "id": "970a5baf-a27d-4030-9659-247fccb4eff6",
   "metadata": {
    "tags": []
   },
   "outputs": [
    {
     "data": {
      "application/vnd.jupyter.widget-view+json": {
       "model_id": "258cdb1af8194d46a2de546baf4d20c5",
       "version_major": 2,
       "version_minor": 0
      },
      "text/plain": [
       "RFBOutputContext()"
      ]
     },
     "metadata": {},
     "output_type": "display_data"
    },
    {
     "name": "stderr",
     "output_type": "stream",
     "text": [
      "/home/clewis7/repos/fastplotlib/fastplotlib/graphics/_features/_base.py:34: UserWarning: converting float64 array to float32\n",
      "  warn(f\"converting {array.dtype} array to float32\")\n"
     ]
    }
   ],
   "source": [
    "# Create a plot instance\n",
    "plot_l = fpl.Plot()\n",
    "\n",
    "# plot sine wave, use a single color\n",
    "sine_graphic = plot_l.add_line(data=sine, thickness=5, colors=\"magenta\")\n",
    "\n",
    "# you can also use colormaps for lines!\n",
    "cosine_graphic = plot_l.add_line(data=cosine, thickness=12, cmap=\"autumn\")\n",
    "\n",
    "# or a list of colors for each datapoint\n",
    "colors = [\"r\"] * 25 + [\"purple\"] * 25 + [\"y\"] * 25 + [\"b\"] * 25\n",
    "sinc_graphic = plot_l.add_line(data=sinc, thickness=5, colors = colors)\n",
    "\n",
    "sc = Sidecar(title=\"lines\")\n",
    "\n",
    "with sc: \n",
    "    display(plot_l.show())"
   ]
  },
  {
   "cell_type": "markdown",
   "id": "6f2fb6e9-a4c8-473f-969f-9e0e1fe26184",
   "metadata": {},
   "source": [
    "### \"stretching\" the camera, useful for large timeseries data\n",
    "\n",
    "Set `maintain_aspect = False` on a camera, and then use the right mouse button and move the mouse to stretch and squeeze the view!\n",
    "\n",
    "You can also click the `1:1` button to toggle this."
   ]
  },
  {
   "cell_type": "code",
   "execution_count": 4,
   "id": "ccda4b46-147e-41d5-a9b2-4e36c307ca16",
   "metadata": {
    "tags": []
   },
   "outputs": [],
   "source": [
    "plot_l.camera.maintain_aspect = False"
   ]
  },
  {
   "cell_type": "markdown",
   "id": "543bca00-ac5b-4ce1-89aa-2b4a9a4071c8",
   "metadata": {},
   "source": [
    "### reset the plot area"
   ]
  },
  {
   "cell_type": "code",
   "execution_count": 5,
   "id": "3d330edd-8455-4897-b1a5-9d1a344f108b",
   "metadata": {
    "tags": []
   },
   "outputs": [],
   "source": [
    "plot_l.auto_scale(maintain_aspect=True)"
   ]
  },
  {
   "cell_type": "markdown",
   "id": "2200da08-205e-4ae0-a3e7-9ec4049606c9",
   "metadata": {},
   "source": [
    "### Graphic features support slicing! :D"
   ]
  },
  {
   "cell_type": "code",
   "execution_count": 6,
   "id": "633aa156-9443-41c4-beeb-b0db4e9a1099",
   "metadata": {
    "tags": []
   },
   "outputs": [],
   "source": [
    "# indexing of colors\n",
    "cosine_graphic.colors[:15] = \"magenta\""
   ]
  },
  {
   "cell_type": "code",
   "execution_count": 6,
   "id": "f7a63c4d-1066-4204-a455-fc8adb67a78e",
   "metadata": {
    "tags": []
   },
   "outputs": [],
   "source": [
    "cosine_graphic.colors[90:] = \"red\""
   ]
  },
  {
   "cell_type": "code",
   "execution_count": 6,
   "id": "e89cd61d-1512-4cf5-86c6-f417a9148b7b",
   "metadata": {
    "tags": []
   },
   "outputs": [],
   "source": [
    "cosine_graphic.colors[60] = \"w\""
   ]
  },
  {
   "cell_type": "code",
   "execution_count": 6,
   "id": "b218174d-cecd-40e1-bd40-dc85239a5ed8",
   "metadata": {
    "tags": []
   },
   "outputs": [],
   "source": [
    "# indexing to assign colormaps to entire lines or segments\n",
    "sinc_graphic.cmap[10:50] = \"gray\"\n",
    "sine_graphic.cmap = \"seismic\""
   ]
  },
  {
   "cell_type": "code",
   "execution_count": 6,
   "id": "df876d25-42e1-4a19-ba00-25cbaf87b706",
   "metadata": {
    "tags": []
   },
   "outputs": [],
   "source": [
    "# more complex indexing, set the blue value directly from an array\n",
    "cosine_graphic.colors[65:90, 0] = np.linspace(0, 1, 90-65)"
   ]
  },
  {
   "cell_type": "markdown",
   "id": "edeb566e-2647-4bed-8bd1-698b95549383",
   "metadata": {},
   "source": [
    "### You can capture changes to a graphic feature as events"
   ]
  },
  {
   "cell_type": "code",
   "execution_count": 7,
   "id": "8bb73acd-a4a3-4660-baca-f044793b9ea5",
   "metadata": {
    "tags": []
   },
   "outputs": [],
   "source": [
    "def callback_func(event_data):\n",
    "    print(event_data)\n",
    "\n",
    "# Will print event data when the color changes\n",
    "cosine_graphic.colors.add_event_handler(callback_func)"
   ]
  },
  {
   "cell_type": "code",
   "execution_count": 8,
   "id": "ff7e76ef-5bd8-42e0-8e7f-17e586324be8",
   "metadata": {
    "tags": []
   },
   "outputs": [
    {
     "name": "stdout",
     "output_type": "stream",
     "text": [
      "FeatureEvent @ 0x7f820c410bd0\n",
      "type: colors\n",
      "pick_info: {'index': range(15, 50, 3), 'collection-index': None, 'world_object': <weakproxy at 0x7f82418127f0 to Line at 0x7f824187cc10>, 'new_data': array([[0., 1., 1., 1.],\n",
      "       [0., 1., 1., 1.],\n",
      "       [0., 1., 1., 1.],\n",
      "       [0., 1., 1., 1.],\n",
      "       [0., 1., 1., 1.],\n",
      "       [0., 1., 1., 1.],\n",
      "       [0., 1., 1., 1.],\n",
      "       [0., 1., 1., 1.],\n",
      "       [0., 1., 1., 1.],\n",
      "       [0., 1., 1., 1.],\n",
      "       [0., 1., 1., 1.],\n",
      "       [0., 1., 1., 1.]], dtype=float32)}\n",
      "\n"
     ]
    }
   ],
   "source": [
    "# more complex indexing of colors\n",
    "# from point 15 - 30, set every 3rd point as \"cyan\"\n",
    "cosine_graphic.colors[15:50:3] = \"cyan\""
   ]
  },
  {
   "cell_type": "markdown",
   "id": "d67fcec7-ca2c-4403-9b79-23fefeb8c0d1",
   "metadata": {},
   "source": [
    "### Graphic data is itself also indexable"
   ]
  },
  {
   "cell_type": "code",
   "execution_count": 9,
   "id": "da210ca2-b881-4c35-b7ce-1129c0e02215",
   "metadata": {
    "tags": []
   },
   "outputs": [],
   "source": [
    "cosine_graphic.data[10:50:5, :2] = sine[10:50:5]"
   ]
  },
  {
   "cell_type": "code",
   "execution_count": 9,
   "id": "275db669-c683-4f0f-99d0-07eda64bbb40",
   "metadata": {
    "tags": []
   },
   "outputs": [],
   "source": [
    "cosine_graphic.data[90:, 1] = 7"
   ]
  },
  {
   "cell_type": "code",
   "execution_count": 9,
   "id": "8a1c6d7d-09d3-4d22-9f6d-0ff5c32148f9",
   "metadata": {
    "tags": []
   },
   "outputs": [
    {
     "name": "stderr",
     "output_type": "stream",
     "text": [
      "/home/clewis7/repos/fastplotlib/fastplotlib/graphics/_features/_base.py:31: UserWarning: converting int64 array to int32\n",
      "  warn(f\"converting {array.dtype} array to int32\")\n"
     ]
    }
   ],
   "source": [
    "cosine_graphic.data[0] = np.array([[-10, 0, 0]])"
   ]
  },
  {
   "cell_type": "markdown",
   "id": "bfbc8c70-1173-4143-8638-78716b9a86c7",
   "metadata": {},
   "source": [
    "### Toggle the presence of a graphic within the scene"
   ]
  },
  {
   "cell_type": "code",
   "execution_count": 10,
   "id": "8617b111-9d09-4bee-a875-79771c2e38d3",
   "metadata": {
    "tags": []
   },
   "outputs": [],
   "source": [
    "sinc_graphic.present = False"
   ]
  },
  {
   "cell_type": "code",
   "execution_count": 11,
   "id": "d2486714-9cba-4ab9-bf17-9c0c52587c1c",
   "metadata": {
    "tags": []
   },
   "outputs": [],
   "source": [
    "sinc_graphic.present = True"
   ]
  },
  {
   "cell_type": "markdown",
   "id": "c398cdad-acae-4fb8-a254-44debaaacdef",
   "metadata": {},
   "source": [
    "### You can create callbacks to this too, for example to re-scale the plot w.r.t. graphics that are present in the scene\n"
   ]
  },
  {
   "cell_type": "code",
   "execution_count": 12,
   "id": "d03b1b6e-c7d3-40d3-97ab-a855c821e277",
   "metadata": {
    "tags": []
   },
   "outputs": [],
   "source": [
    "sinc_graphic.present.add_event_handler(plot_l.auto_scale)\n",
    "\n",
    "sinc_graphic.present = False"
   ]
  },
  {
   "cell_type": "code",
   "execution_count": 13,
   "id": "36a4e681-6a21-4dc4-a3b5-9f454095bce7",
   "metadata": {
    "tags": []
   },
   "outputs": [],
   "source": [
    "sinc_graphic.present = True"
   ]
  },
  {
   "cell_type": "code",
   "execution_count": 15,
   "id": "44d55357-4bd9-47ba-9f39-001c12e83eb5",
   "metadata": {
    "tags": []
   },
   "outputs": [],
   "source": [
    "plot_l.close()\n",
    "sc.close()"
   ]
  },
  {
   "cell_type": "markdown",
   "id": "d9db0e4b-c747-4e0f-b2e8-1bee48d03f02",
   "metadata": {},
   "source": [
    "### Can also have fancy indexing of colormaps"
   ]
  },
  {
   "cell_type": "code",
   "execution_count": 16,
   "id": "2c6eda00-3883-48d2-af14-31c5a4b6bcd1",
   "metadata": {
    "tags": []
   },
   "outputs": [
    {
     "data": {
      "application/vnd.jupyter.widget-view+json": {
       "model_id": "5e426ee2e8ed48e0a8f387fd083da8eb",
       "version_major": 2,
       "version_minor": 0
      },
      "text/plain": [
       "RFBOutputContext()"
      ]
     },
     "metadata": {},
     "output_type": "display_data"
    }
   ],
   "source": [
    "plot = fpl.Plot()\n",
    "\n",
    "plot.add_line(sine, thickness=10, name=\"sine\")\n",
    "\n",
    "sc = Sidecar(title=\"line plot\")\n",
    "\n",
    "with sc:\n",
    "    display(plot.show())"
   ]
  },
  {
   "cell_type": "code",
   "execution_count": 17,
   "id": "e3d190b5-a2c7-4ec4-918d-b934270bf1c4",
   "metadata": {
    "tags": []
   },
   "outputs": [],
   "source": [
    "plot[\"sine\"].cmap = \"jet\""
   ]
  },
  {
   "cell_type": "code",
   "execution_count": 18,
   "id": "ff9eff43-16fb-477e-b201-da728f18d7e1",
   "metadata": {
    "tags": []
   },
   "outputs": [],
   "source": [
    "plot[\"sine\"].cmap.values = sine[:, 1]"
   ]
  },
  {
   "cell_type": "code",
   "execution_count": 19,
   "id": "74a592de-76be-4726-ae29-4a0b93ae9456",
   "metadata": {
    "tags": []
   },
   "outputs": [],
   "source": [
    "plot[\"sine\"].cmap.values = cosine[:, 1]"
   ]
  },
  {
   "cell_type": "code",
   "execution_count": 20,
   "id": "10be65e2-5dce-49d1-8bb7-c12bec835a2b",
   "metadata": {
    "tags": []
   },
   "outputs": [],
   "source": [
    "plot[\"sine\"].cmap = \"viridis\""
   ]
  },
  {
   "cell_type": "code",
   "execution_count": 21,
   "id": "6865697d-159e-47c1-a372-9fc350e02d31",
   "metadata": {
    "tags": []
   },
   "outputs": [],
   "source": [
    "cmap_values = [0] * 25 + [1] * 5 + [2] * 50 + [3] * 20\n",
    "plot[\"sine\"].cmap.values = cmap_values"
   ]
  },
  {
   "cell_type": "code",
   "execution_count": 22,
   "id": "bf9fbc9a-a887-45c9-921b-54d037aa1b57",
   "metadata": {
    "tags": []
   },
   "outputs": [],
   "source": [
    "plot.close()\n",
    "sc.close()"
   ]
  },
  {
   "cell_type": "markdown",
   "id": "f6257941-3083-47fd-8065-d40da4bca1c5",
   "metadata": {},
   "source": [
    "## Line Collections"
   ]
  },
  {
   "cell_type": "markdown",
   "id": "817355c4-0150-41de-a1d9-4c1f3680a7bc",
   "metadata": {},
   "source": [
    "Generate some data"
   ]
  },
  {
   "cell_type": "code",
   "execution_count": 23,
   "id": "5d92ecd2-2177-4cd9-8643-c8691ee1e988",
   "metadata": {
    "tags": []
   },
   "outputs": [],
   "source": [
    "def make_circle(center, radius: float, n_points: int = 75) -> np.ndarray:\n",
    "    theta = np.linspace(0, 2 * np.pi, n_points)\n",
    "    xs = radius * np.sin(theta)\n",
    "    ys = radius * np.cos(theta)\n",
    "\n",
    "    return np.column_stack([xs, ys]) + center\n",
    "\n",
    "\n",
    "spatial_dims = (50, 50)\n",
    "\n",
    "# this makes 16 circles, so we can create 16 cmap values, so it will use these values to set the\n",
    "# color of the line based by using the cmap as a LUT with the corresponding cmap_value\n",
    "circles = list()\n",
    "for center in product(range(0, spatial_dims[0], 15), range(0, spatial_dims[1], 15)):\n",
    "    circles.append(make_circle(center, 5, n_points=75))\n",
    "\n",
    "pos_xy = np.vstack(circles)"
   ]
  },
  {
   "cell_type": "markdown",
   "id": "fbed2426-5d27-4f8b-91bd-5a0fe514a0ed",
   "metadata": {},
   "source": [
    "### set cmap values as LUT"
   ]
  },
  {
   "cell_type": "code",
   "execution_count": 24,
   "id": "c9f83313-60ef-4b58-baaf-bcbf3564eb31",
   "metadata": {
    "tags": []
   },
   "outputs": [
    {
     "data": {
      "application/vnd.jupyter.widget-view+json": {
       "model_id": "1639eb46a87f4aabbcfec0a20c46cfcf",
       "version_major": 2,
       "version_minor": 0
      },
      "text/plain": [
       "RFBOutputContext()"
      ]
     },
     "metadata": {},
     "output_type": "display_data"
    }
   ],
   "source": [
    "plot = fpl.Plot()\n",
    "\n",
    "# highest values, lowest values, mid-high values, mid values\n",
    "cmap_values = cmap_values = [\n",
    "    0, 1, 1, 2,\n",
    "    0, 0, 1, 1,\n",
    "    2, 2, 3, 3,\n",
    "    1, 1, 1, 5\n",
    "]\n",
    "\n",
    "plot.add_line_collection(circles, cmap=\"tab10\", cmap_values=cmap_values, thickness=5)\n",
    "\n",
    "sc = Sidecar(title=\"lines collection\")\n",
    "\n",
    "with sc:\n",
    "    display(plot.show())"
   ]
  },
  {
   "cell_type": "code",
   "execution_count": 25,
   "id": "981bbd25-ca42-492d-a722-185ffc877462",
   "metadata": {
    "tags": []
   },
   "outputs": [],
   "source": [
    "plot.close()\n",
    "sc.close()"
   ]
  },
  {
   "cell_type": "markdown",
   "id": "c55c8340-7e85-46cb-aedc-8112138c1b75",
   "metadata": {},
   "source": [
    "### can also set colors"
   ]
  },
  {
   "cell_type": "code",
   "execution_count": 26,
   "id": "ca7e277f-8630-4691-96e9-44da495ca57e",
   "metadata": {
    "tags": []
   },
   "outputs": [
    {
     "data": {
      "application/vnd.jupyter.widget-view+json": {
       "model_id": "33696c556ede43159b6ddc5ad3f80a8a",
       "version_major": 2,
       "version_minor": 0
      },
      "text/plain": [
       "RFBOutputContext()"
      ]
     },
     "metadata": {},
     "output_type": "display_data"
    }
   ],
   "source": [
    "plot = fpl.Plot()\n",
    "\n",
    "colors = [\"green\"] * 4 + [\"red\"] * 4 + [\"yellow\"] * 4 + [\"w\"] * 4\n",
    "\n",
    "plot.add_line_collection(circles, colors=colors, thickness=5)\n",
    "\n",
    "sc = Sidecar(title=\"lines collection\")\n",
    "\n",
    "with sc:\n",
    "    display(plot.show())"
   ]
  },
  {
   "cell_type": "code",
   "execution_count": 27,
   "id": "9792dea6-a5cd-4b11-abd3-0cf4c2b8661b",
   "metadata": {
    "tags": []
   },
   "outputs": [],
   "source": [
    "plot.close()\n",
    "sc.close()"
   ]
  },
  {
   "cell_type": "markdown",
   "id": "a1a34cfd-3746-489e-aeff-7373d538ab8b",
   "metadata": {},
   "source": [
    "## Line Stack"
   ]
  },
  {
   "cell_type": "markdown",
   "id": "e4ea3e6c-39f7-4796-b784-9ca175318356",
   "metadata": {},
   "source": [
    "Generate some data"
   ]
  },
  {
   "cell_type": "code",
   "execution_count": 28,
   "id": "d7d5e7ca-f32d-4d3b-8ca3-3cfa72852614",
   "metadata": {
    "tags": []
   },
   "outputs": [],
   "source": [
    "xs = np.linspace(0, 100, 1000)\n",
    "# sine wave\n",
    "ys = np.sin(xs) * 20\n",
    "\n",
    "# make 25 lines\n",
    "data = np.vstack([ys] * 25)"
   ]
  },
  {
   "cell_type": "code",
   "execution_count": 29,
   "id": "a70bf880-5497-476d-ba43-4c1687b49abc",
   "metadata": {
    "tags": []
   },
   "outputs": [
    {
     "data": {
      "application/vnd.jupyter.widget-view+json": {
       "model_id": "4727f1446d5f47109acc70e91999a957",
       "version_major": 2,
       "version_minor": 0
      },
      "text/plain": [
       "RFBOutputContext()"
      ]
     },
     "metadata": {},
     "output_type": "display_data"
    }
   ],
   "source": [
    "plot = fpl.Plot()\n",
    "\n",
    "# line stack takes all the same arguments as line collection and behaves similarly\n",
    "plot.add_line_stack(data, cmap=\"jet\")\n",
    "\n",
    "sc = Sidecar(title=\"line stack\")\n",
    "\n",
    "with sc:\n",
    "    display(plot.show(maintain_aspect=False))"
   ]
  },
  {
   "cell_type": "code",
   "execution_count": 30,
   "id": "7a3b8014-a89e-4138-98ac-ed3cbf1f0d51",
   "metadata": {
    "tags": []
   },
   "outputs": [],
   "source": [
    "plot.close()\n",
    "sc.close()"
   ]
  },
  {
   "cell_type": "markdown",
   "id": "be5725e1-5f43-4c81-a35a-d86b658ed709",
   "metadata": {},
   "source": [
    "## Linear Selector\n",
    "\n",
    "Creates a horizontal or vertical line slider. Can be synced to an `ipywidget IntSlider`. Like other `Graphic` types, it can be linked to events. "
   ]
  },
  {
   "cell_type": "code",
   "execution_count": 31,
   "id": "f5ca2643-f1c2-4cf4-ab05-daac52261830",
   "metadata": {
    "tags": []
   },
   "outputs": [
    {
     "data": {
      "application/vnd.jupyter.widget-view+json": {
       "model_id": "8a4680bef6ef443dafc2e6a98515fce9",
       "version_major": 2,
       "version_minor": 0
      },
      "text/plain": [
       "RFBOutputContext()"
      ]
     },
     "metadata": {},
     "output_type": "display_data"
    }
   ],
   "source": [
    "plot = fpl.Plot()\n",
    "\n",
    "# data to plot\n",
    "xs = np.linspace(0, 100, 1000)\n",
    "sine = np.sin(xs) * 20\n",
    "\n",
    "# make sine along x axis\n",
    "sine_graphic = plot.add_line(np.column_stack([xs, sine]).astype(np.float32))\n",
    "\n",
    "# make some selectors\n",
    "selector = sine_graphic.add_linear_selector()\n",
    "selector2 = sine_graphic.add_linear_selector(20)\n",
    "selector3 = sine_graphic.add_linear_selector(40)\n",
    "\n",
    "# add ability to synchronize selectors\n",
    "ss = Synchronizer(selector, selector2, selector3)\n",
    "\n",
    "plot.auto_scale()\n",
    "\n",
    "# fastplotlib LineSelector can make an ipywidget slider and return it :D \n",
    "ipywidget_slider = selector.make_ipywidget_slider()\n",
    "\n",
    "sc = Sidecar(title=\"linear selectors\")\n",
    "\n",
    "with sc:\n",
    "    display(VBox([plot.show(), ipywidget_slider]))"
   ]
  },
  {
   "cell_type": "markdown",
   "id": "338d362b-521b-4abf-9148-cc0d8d2a55db",
   "metadata": {},
   "source": [
    "### can add an event handler to a selector"
   ]
  },
  {
   "cell_type": "code",
   "execution_count": 32,
   "id": "16ae2820-4808-4890-9ca1-3507fb0e0799",
   "metadata": {
    "tags": []
   },
   "outputs": [],
   "source": [
    "def set_color_at_index(ev):\n",
    "    # changes the color at the index where the slider is\n",
    "    ix = ev.pick_info[\"selected_index\"]\n",
    "    g = ev.pick_info[\"graphic\"].parent\n",
    "    g.colors[ix] = \"magenta\"\n",
    "\n",
    "selector.selection.add_event_handler(set_color_at_index)"
   ]
  },
  {
   "cell_type": "code",
   "execution_count": 33,
   "id": "858477e5-4b7a-4e63-b711-72f01b3a4941",
   "metadata": {
    "tags": []
   },
   "outputs": [],
   "source": [
    "plot.close()\n",
    "sc.close()"
   ]
  },
  {
   "cell_type": "markdown",
   "id": "52de9079-c7b2-470f-ad95-ee7cd3cbe15e",
   "metadata": {},
   "source": [
    "## Linear Region Selector\n",
    "\n",
    "Creates a linear region bounded graphic which can be moved along either the x-axis or y-axis.\n",
    "Allows sub-selecting data from a `Graphic` or from multiple `Graphic` objects."
   ]
  },
  {
   "cell_type": "code",
   "execution_count": 34,
   "id": "87670f5c-ec83-4d71-87ec-1d13bb05dc47",
   "metadata": {
    "tags": []
   },
   "outputs": [
    {
     "data": {
      "application/vnd.jupyter.widget-view+json": {
       "model_id": "9e2c898cb36a4abc83911795e50a8aa2",
       "version_major": 2,
       "version_minor": 0
      },
      "text/plain": [
       "RFBOutputContext()"
      ]
     },
     "metadata": {},
     "output_type": "display_data"
    }
   ],
   "source": [
    "# data to plot\n",
    "xs = np.linspace(0, 250, 500)\n",
    "sine = np.sin(xs) * 20\n",
    "cosine = np.cos(xs) * 20\n",
    "\n",
    "plot = fpl.Plot()\n",
    "\n",
    "# sines and cosines\n",
    "sines = [sine] * 5\n",
    "cosines = [cosine] * 5\n",
    "\n",
    "# make line stack\n",
    "line_stack = plot.add_line_stack(sines + cosines, separation=50)\n",
    "\n",
    "# make selector\n",
    "stack_selector = line_stack.add_linear_region_selector()\n",
    "\n",
    "def update_color(ev):\n",
    "    selected_indices = stack_selector.get_selected_indices()\n",
    "    \n",
    "    for i in range(len(selected_indices)):\n",
    "        line_stack.graphics[i].colors = \"w\"\n",
    "        line_stack.graphics[i].colors[selected_indices[i]] = \"magenta\"\n",
    "\n",
    "stack_selector.selection.add_event_handler(update_color)\n",
    "\n",
    "sc = Sidecar(title=\"linear region selector\")\n",
    "\n",
    "with sc: \n",
    "    display(plot.show())"
   ]
  },
  {
   "cell_type": "code",
   "execution_count": 35,
   "id": "89b9ed5b-8fdb-4fa7-95f7-f955cec9ed74",
   "metadata": {
    "tags": []
   },
   "outputs": [],
   "source": [
    "plot.close()\n",
    "sc.close()"
   ]
  },
  {
   "cell_type": "markdown",
   "id": "c555db89-5d44-41b9-ab5a-ebd43bc0e3fb",
   "metadata": {},
   "source": [
    "## Heatmap"
   ]
  },
  {
   "cell_type": "code",
   "execution_count": 37,
   "id": "d201138f-a44f-4f87-b456-33b0ad7f41ae",
   "metadata": {},
   "outputs": [],
   "source": [
    "temporal = np.load('/home/clewis7/repos/fastplotlib-scipy2023/data/temporal.npy')"
   ]
  },
  {
   "cell_type": "code",
   "execution_count": 38,
   "id": "a24b06d3-f9db-406a-a63d-0159007a09c6",
   "metadata": {},
   "outputs": [
    {
     "data": {
      "application/vnd.jupyter.widget-view+json": {
       "model_id": "d969e336e0a04c34b0aded539f845dde",
       "version_major": 2,
       "version_minor": 0
      },
      "text/plain": [
       "RFBOutputContext()"
      ]
     },
     "metadata": {},
     "output_type": "display_data"
    },
    {
     "name": "stderr",
     "output_type": "stream",
     "text": [
      "/home/clewis7/repos/fastplotlib/fastplotlib/graphics/_features/_base.py:34: UserWarning: converting float64 array to float32\n",
      "  warn(f\"converting {array.dtype} array to float32\")\n"
     ]
    }
   ],
   "source": [
    "# create plot\n",
    "plot = fpl.GridPlot(shape=(1,2), names=[[\"heatmap\", \"traces\"]])\n",
    "\n",
    "# add temporal traces as heatmap\n",
    "heatmap = plot[0,0].add_heatmap(temporal)\n",
    "\n",
    "# add temporal traces as line stack\n",
    "temporal_stack = plot[0,1].add_line_stack(temporal, colors=\"magenta\")\n",
    "\n",
    "# add linear selector to heatmap\n",
    "selector = heatmap.add_linear_region_selector()\n",
    "\n",
    "sc = Sidecar(title=\"heatmap interactive\")\n",
    "\n",
    "with sc:\n",
    "    display(plot.show())"
   ]
  },
  {
   "cell_type": "markdown",
   "id": "50c5c9bf-7881-4f19-bcdc-ab30cc96e7c7",
   "metadata": {},
   "source": [
    "### plot interaction using event handlers"
   ]
  },
  {
   "cell_type": "code",
   "execution_count": 40,
   "id": "273a2d45-0423-470d-9192-8b14b3d08d3a",
   "metadata": {
    "tags": []
   },
   "outputs": [],
   "source": [
    "# define event handler\n",
    "def color_change(ev):\n",
    "    selected_indices = ev.pick_info[\"selected_indices\"]\n",
    "    \n",
    "    for i in range(len(temporal_stack.graphics)):\n",
    "        temporal_stack.graphics[i].colors = \"magenta\"\n",
    "        temporal_stack.graphics[i].colors[selected_indices] = \"white\"\n",
    "\n",
    "# add event handler\n",
    "selector.selection.add_event_handler(color_change)"
   ]
  },
  {
   "cell_type": "code",
   "execution_count": 41,
   "id": "4447805e-c477-48b4-8dc1-8740c2a70232",
   "metadata": {
    "tags": []
   },
   "outputs": [],
   "source": [
    "plot.close()\n",
    "sc.close()"
   ]
  }
 ],
 "metadata": {
  "kernelspec": {
   "display_name": "Python 3 (ipykernel)",
   "language": "python",
   "name": "python3"
  },
  "language_info": {
   "codemirror_mode": {
    "name": "ipython",
    "version": 3
   },
   "file_extension": ".py",
   "mimetype": "text/x-python",
   "name": "python",
   "nbconvert_exporter": "python",
   "pygments_lexer": "ipython3",
   "version": "3.11.3"
  }
 },
 "nbformat": 4,
 "nbformat_minor": 5
}
