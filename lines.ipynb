{
 "cells": [
  {
   "cell_type": "markdown",
   "id": "90d15090-fb93-4948-b00a-d4d71930d6cd",
   "metadata": {},
   "source": [
    "# Line Plots"
   ]
  },
  {
   "cell_type": "markdown",
   "id": "07e3c0e4-f15a-497d-9e50-cad632234d93",
   "metadata": {},
   "source": [
    "## 2D line plots\n",
    "\n",
    "This example plots a sine wave, cosine wave, and ricker wavelet and demonstrates how Graphic Features can be modified by slicing!"
   ]
  },
  {
   "cell_type": "code",
   "execution_count": 1,
   "id": "177e0cc3-870c-4570-bf59-af3528ba94bf",
   "metadata": {},
   "outputs": [],
   "source": [
    "import numpy as np\n",
    "import fastplotlib as fpl\n",
    "from sidecar import Sidecar"
   ]
  },
  {
   "cell_type": "markdown",
   "id": "04d043ac-2849-4222-9a91-f5dd2ff40e1d",
   "metadata": {},
   "source": [
    "### First generate some data."
   ]
  },
  {
   "cell_type": "code",
   "execution_count": 2,
   "id": "9bf0017a-e319-4f4c-8bf8-91cff3755099",
   "metadata": {
    "tags": []
   },
   "outputs": [],
   "source": [
    "# linspace, create 100 evenly spaced x values from -10 to 10\n",
    "xs = np.linspace(-10, 10, 100)\n",
    "# sine wave\n",
    "ys = np.sin(xs)\n",
    "sine = np.dstack([xs, ys])[0]\n",
    "\n",
    "# cosine wave\n",
    "ys = np.cos(xs) + 5\n",
    "cosine = np.dstack([xs, ys])[0]\n",
    "\n",
    "# sinc function\n",
    "a = 0.5\n",
    "ys = np.sinc(xs) * 3 + 8\n",
    "sinc = np.dstack([xs, ys])[0]"
   ]
  },
  {
   "cell_type": "markdown",
   "id": "b00723ea-d808-4a66-ac8b-d1f78e2e6f27",
   "metadata": {},
   "source": [
    "### We will plot all of it on the same plot. Each line plot will be an individual Graphic, you can have any combination of graphics on a plot."
   ]
  },
  {
   "cell_type": "code",
   "execution_count": 3,
   "id": "970a5baf-a27d-4030-9659-247fccb4eff6",
   "metadata": {
    "tags": []
   },
   "outputs": [
    {
     "data": {
      "application/vnd.jupyter.widget-view+json": {
       "model_id": "d5c72fb7208b4cd7bc2b00e754e65a70",
       "version_major": 2,
       "version_minor": 0
      },
      "text/plain": [
       "RFBOutputContext()"
      ]
     },
     "metadata": {},
     "output_type": "display_data"
    },
    {
     "name": "stderr",
     "output_type": "stream",
     "text": [
      "/home/clewis7/repos/fastplotlib/fastplotlib/graphics/_features/_base.py:34: UserWarning: converting float64 array to float32\n",
      "  warn(f\"converting {array.dtype} array to float32\")\n"
     ]
    }
   ],
   "source": [
    "# Create a plot instance\n",
    "plot_l = fpl.Plot()\n",
    "\n",
    "# plot sine wave, use a single color\n",
    "sine_graphic = plot_l.add_line(data=sine, thickness=5, colors=\"magenta\")\n",
    "\n",
    "# you can also use colormaps for lines!\n",
    "cosine_graphic = plot_l.add_line(data=cosine, thickness=12, cmap=\"autumn\")\n",
    "\n",
    "# or a list of colors for each datapoint\n",
    "colors = [\"r\"] * 25 + [\"purple\"] * 25 + [\"y\"] * 25 + [\"b\"] * 25\n",
    "sinc_graphic = plot_l.add_line(data=sinc, thickness=5, colors = colors)\n",
    "\n",
    "sc = Sidecar(title=\"lines\")\n",
    "\n",
    "with sc: \n",
    "    display(plot_l.show())"
   ]
  },
  {
   "cell_type": "markdown",
   "id": "6f2fb6e9-a4c8-473f-969f-9e0e1fe26184",
   "metadata": {},
   "source": [
    "### \"stretching\" the camera, useful for large timeseries data\n",
    "\n",
    "Set `maintain_aspect = False` on a camera, and then use the right mouse button and move the mouse to stretch and squeeze the view!\n",
    "\n",
    "You can also click the `1:1` button to toggle this."
   ]
  },
  {
   "cell_type": "code",
   "execution_count": 4,
   "id": "ccda4b46-147e-41d5-a9b2-4e36c307ca16",
   "metadata": {
    "tags": []
   },
   "outputs": [],
   "source": [
    "plot_l.camera.maintain_aspect = False"
   ]
  },
  {
   "cell_type": "markdown",
   "id": "543bca00-ac5b-4ce1-89aa-2b4a9a4071c8",
   "metadata": {},
   "source": [
    "### reset the plot area"
   ]
  },
  {
   "cell_type": "code",
   "execution_count": 5,
   "id": "3d330edd-8455-4897-b1a5-9d1a344f108b",
   "metadata": {
    "tags": []
   },
   "outputs": [],
   "source": [
    "plot_l.auto_scale(maintain_aspect=True)"
   ]
  },
  {
   "cell_type": "markdown",
   "id": "2200da08-205e-4ae0-a3e7-9ec4049606c9",
   "metadata": {},
   "source": [
    "### Graphic features support slicing! :D"
   ]
  },
  {
   "cell_type": "code",
   "execution_count": 6,
   "id": "94af10a4-5ed5-419a-b3d9-c409f7de5a23",
   "metadata": {
    "tags": []
   },
   "outputs": [],
   "source": [
    "# indexing of colors\n",
    "cosine_graphic.colors[:15] = \"magenta\"\n",
    "cosine_graphic.colors[90:] = \"red\"\n",
    "cosine_graphic.colors[60] = \"w\"\n",
    "\n",
    "# indexing to assign colormaps to entire lines or segments\n",
    "sinc_graphic.cmap[10:50] = \"gray\"\n",
    "sine_graphic.cmap = \"seismic\"\n",
    "\n",
    "# more complex indexing, set the blue value directly from an array\n",
    "cosine_graphic.colors[65:90, 0] = np.linspace(0, 1, 90-65)"
   ]
  },
  {
   "cell_type": "markdown",
   "id": "edeb566e-2647-4bed-8bd1-698b95549383",
   "metadata": {},
   "source": [
    "### You can capture changes to a graphic feature as events"
   ]
  },
  {
   "cell_type": "code",
   "execution_count": 7,
   "id": "8bb73acd-a4a3-4660-baca-f044793b9ea5",
   "metadata": {
    "tags": []
   },
   "outputs": [],
   "source": [
    "def callback_func(event_data):\n",
    "    print(event_data)\n",
    "\n",
    "# Will print event data when the color changes\n",
    "cosine_graphic.colors.add_event_handler(callback_func)"
   ]
  },
  {
   "cell_type": "code",
   "execution_count": 8,
   "id": "ff7e76ef-5bd8-42e0-8e7f-17e586324be8",
   "metadata": {
    "tags": []
   },
   "outputs": [
    {
     "name": "stdout",
     "output_type": "stream",
     "text": [
      "FeatureEvent @ 0x7f7db3de2ad0\n",
      "type: colors\n",
      "pick_info: {'index': range(15, 50, 3), 'collection-index': None, 'world_object': <weakproxy at 0x7f7dbdb62f20 to Line at 0x7f7db3d84d50>, 'new_data': array([[0., 1., 1., 1.],\n",
      "       [0., 1., 1., 1.],\n",
      "       [0., 1., 1., 1.],\n",
      "       [0., 1., 1., 1.],\n",
      "       [0., 1., 1., 1.],\n",
      "       [0., 1., 1., 1.],\n",
      "       [0., 1., 1., 1.],\n",
      "       [0., 1., 1., 1.],\n",
      "       [0., 1., 1., 1.],\n",
      "       [0., 1., 1., 1.],\n",
      "       [0., 1., 1., 1.],\n",
      "       [0., 1., 1., 1.]], dtype=float32)}\n",
      "\n"
     ]
    }
   ],
   "source": [
    "# more complex indexing of colors\n",
    "# from point 15 - 30, set every 3rd point as \"cyan\"\n",
    "cosine_graphic.colors[15:50:3] = \"cyan\""
   ]
  },
  {
   "cell_type": "markdown",
   "id": "d67fcec7-ca2c-4403-9b79-23fefeb8c0d1",
   "metadata": {},
   "source": [
    "### Graphic data is itself also indexable"
   ]
  },
  {
   "cell_type": "code",
   "execution_count": 9,
   "id": "fa7ecf35-bd91-4209-8d3f-d554977b5ff1",
   "metadata": {
    "tags": []
   },
   "outputs": [
    {
     "name": "stderr",
     "output_type": "stream",
     "text": [
      "/home/clewis7/repos/fastplotlib/fastplotlib/graphics/_features/_base.py:31: UserWarning: converting int64 array to int32\n",
      "  warn(f\"converting {array.dtype} array to int32\")\n"
     ]
    }
   ],
   "source": [
    "cosine_graphic.data[10:50:5, :2] = sine[10:50:5]\n",
    "cosine_graphic.data[90:, 1] = 7\n",
    "cosine_graphic.data[0] = np.array([[-10, 0, 0]])"
   ]
  },
  {
   "cell_type": "markdown",
   "id": "bfbc8c70-1173-4143-8638-78716b9a86c7",
   "metadata": {},
   "source": [
    "### Toggle the presence of a graphic within the scene"
   ]
  },
  {
   "cell_type": "code",
   "execution_count": 10,
   "id": "8617b111-9d09-4bee-a875-79771c2e38d3",
   "metadata": {
    "tags": []
   },
   "outputs": [],
   "source": [
    "sinc_graphic.present = False"
   ]
  },
  {
   "cell_type": "code",
   "execution_count": 11,
   "id": "d2486714-9cba-4ab9-bf17-9c0c52587c1c",
   "metadata": {
    "tags": []
   },
   "outputs": [],
   "source": [
    "sinc_graphic.present = True"
   ]
  },
  {
   "cell_type": "markdown",
   "id": "c398cdad-acae-4fb8-a254-44debaaacdef",
   "metadata": {},
   "source": [
    "### You can create callbacks to this too, for example to re-scale the plot w.r.t. graphics that are present in the scene\n"
   ]
  },
  {
   "cell_type": "code",
   "execution_count": 12,
   "id": "d03b1b6e-c7d3-40d3-97ab-a855c821e277",
   "metadata": {
    "tags": []
   },
   "outputs": [],
   "source": [
    "sinc_graphic.present.add_event_handler(plot_l.auto_scale)\n",
    "\n",
    "sinc_graphic.present = False"
   ]
  },
  {
   "cell_type": "code",
   "execution_count": 13,
   "id": "36a4e681-6a21-4dc4-a3b5-9f454095bce7",
   "metadata": {
    "tags": []
   },
   "outputs": [],
   "source": [
    "sinc_graphic.present = True"
   ]
  },
  {
   "cell_type": "markdown",
   "id": "98cf3630-9eff-4d77-a798-ad53bd6e52aa",
   "metadata": {},
   "source": [
    "### You can set the z-positions of graphics to have them appear under other graphics"
   ]
  },
  {
   "cell_type": "code",
   "execution_count": 14,
   "id": "29db2967-b260-4bb9-a503-d9406294e31e",
   "metadata": {
    "tags": []
   },
   "outputs": [],
   "source": [
    "img = np.random.rand(20, 100)\n",
    "\n",
    "plot_l.add_image(img, name=\"image\", cmap=\"gray\")\n",
    "\n",
    "# z axix position -1 so it is below all the lines\n",
    "plot_l[\"image\"].position_z = -1\n",
    "plot_l[\"image\"].position_x = -50"
   ]
  },
  {
   "cell_type": "code",
   "execution_count": 15,
   "id": "44d55357-4bd9-47ba-9f39-001c12e83eb5",
   "metadata": {
    "tags": []
   },
   "outputs": [],
   "source": [
    "sc.close()"
   ]
  },
  {
   "cell_type": "markdown",
   "id": "d9db0e4b-c747-4e0f-b2e8-1bee48d03f02",
   "metadata": {},
   "source": [
    "### Can also have fancy indexing of colormaps"
   ]
  },
  {
   "cell_type": "code",
   "execution_count": 16,
   "id": "2c6eda00-3883-48d2-af14-31c5a4b6bcd1",
   "metadata": {
    "tags": []
   },
   "outputs": [
    {
     "data": {
      "application/vnd.jupyter.widget-view+json": {
       "model_id": "04cfb9f0dcf2450ea46ddda837d50587",
       "version_major": 2,
       "version_minor": 0
      },
      "text/plain": [
       "RFBOutputContext()"
      ]
     },
     "metadata": {},
     "output_type": "display_data"
    }
   ],
   "source": [
    "plot = fpl.Plot()\n",
    "\n",
    "plot.add_line(sine, thickness=10, name=\"sine\")\n",
    "\n",
    "sc = Sidecar(title=\"line plot\")\n",
    "\n",
    "with sc:\n",
    "    display(plot.show())"
   ]
  },
  {
   "cell_type": "code",
   "execution_count": 17,
   "id": "e3d190b5-a2c7-4ec4-918d-b934270bf1c4",
   "metadata": {
    "tags": []
   },
   "outputs": [],
   "source": [
    "plot[\"sine\"].cmap = \"jet\""
   ]
  },
  {
   "cell_type": "code",
   "execution_count": 18,
   "id": "ff9eff43-16fb-477e-b201-da728f18d7e1",
   "metadata": {
    "tags": []
   },
   "outputs": [],
   "source": [
    "plot[\"sine\"].cmap.values = sine[:, 1]"
   ]
  },
  {
   "cell_type": "code",
   "execution_count": 19,
   "id": "74a592de-76be-4726-ae29-4a0b93ae9456",
   "metadata": {
    "tags": []
   },
   "outputs": [],
   "source": [
    "plot[\"sine\"].cmap.values = cosine[:, 1]"
   ]
  },
  {
   "cell_type": "code",
   "execution_count": 20,
   "id": "10be65e2-5dce-49d1-8bb7-c12bec835a2b",
   "metadata": {
    "tags": []
   },
   "outputs": [],
   "source": [
    "plot[\"sine\"].cmap = \"viridis\""
   ]
  },
  {
   "cell_type": "code",
   "execution_count": 21,
   "id": "6865697d-159e-47c1-a372-9fc350e02d31",
   "metadata": {
    "tags": []
   },
   "outputs": [],
   "source": [
    "cmap_values = [0] * 25 + [1] * 5 + [2] * 50 + [3] * 20\n",
    "plot[\"sine\"].cmap.values = cmap_values"
   ]
  },
  {
   "cell_type": "code",
   "execution_count": 22,
   "id": "bf9fbc9a-a887-45c9-921b-54d037aa1b57",
   "metadata": {
    "tags": []
   },
   "outputs": [],
   "source": [
    "sc.close()"
   ]
  },
  {
   "cell_type": "markdown",
   "id": "f6257941-3083-47fd-8065-d40da4bca1c5",
   "metadata": {},
   "source": [
    "## Line Collections"
   ]
  },
  {
   "cell_type": "code",
   "execution_count": 29,
   "id": "5d92ecd2-2177-4cd9-8643-c8691ee1e988",
   "metadata": {
    "tags": []
   },
   "outputs": [
    {
     "data": {
      "application/vnd.jupyter.widget-view+json": {
       "model_id": "55d3589fc2d34809a521fac4917e357f",
       "version_major": 2,
       "version_minor": 0
      },
      "text/plain": [
       "RFBOutputContext()"
      ]
     },
     "metadata": {},
     "output_type": "display_data"
    }
   ],
   "source": [
    "plot = fpl.Plot()\n",
    "\n",
    "line_collection = plot.add_line_collection([sine, cosine, sinc], thickness=10, cmap=[\"Oranges\", \"Blues\", \"Reds\"])\n",
    "\n",
    "sc = Sidecar(title=\"line collection\")\n",
    "\n",
    "with sc:\n",
    "    display(plot.show())"
   ]
  },
  {
   "cell_type": "markdown",
   "id": "b90b1d5b-7cac-4daa-9862-71ddf1ff0bda",
   "metadata": {},
   "source": [
    "### can change features of individual lines"
   ]
  },
  {
   "cell_type": "code",
   "execution_count": 30,
   "id": "7e452eaa-641b-4da8-bbf8-4ef503ea3c64",
   "metadata": {
    "tags": []
   },
   "outputs": [],
   "source": [
    "line_collection.graphics[0].colors = \"w\""
   ]
  },
  {
   "cell_type": "markdown",
   "id": "7fa952c8-a8c3-4be8-91a8-d1ee87350710",
   "metadata": {},
   "source": [
    "### fancy indexing works the same :D"
   ]
  },
  {
   "cell_type": "code",
   "execution_count": 31,
   "id": "5f56521c-04a6-4922-b479-fbf45ec862b0",
   "metadata": {
    "tags": []
   },
   "outputs": [],
   "source": [
    "# set certain indices to red\n",
    "line_collection.graphics[1].colors[0:15] = \"r\"\n",
    "\n",
    "# set every second indice to green\n",
    "line_collection.graphics[2].colors[::2] = \"green\"\n",
    "\n",
    "# fancy cmap indexing \n",
    "line_collection.graphics[0].cmap[::2] = \"viridis\""
   ]
  },
  {
   "cell_type": "markdown",
   "id": "6cbcc3ff-fc36-45ef-b4fc-017212281613",
   "metadata": {},
   "source": [
    "### toggle presence of lines"
   ]
  },
  {
   "cell_type": "code",
   "execution_count": 32,
   "id": "c2f3e32a-9046-4b7f-b308-f11254de4a8c",
   "metadata": {
    "tags": []
   },
   "outputs": [],
   "source": [
    "# toggle presence of graphics\n",
    "line_collection.graphics[0].present = False\n",
    "\n",
    "plot.auto_scale()"
   ]
  },
  {
   "cell_type": "code",
   "execution_count": 33,
   "id": "985c5601-29a0-43c9-ae71-4b4e5bbd3b40",
   "metadata": {
    "tags": []
   },
   "outputs": [],
   "source": [
    "line_collection.graphics[0].present = True\n",
    "\n",
    "plot.auto_scale()"
   ]
  },
  {
   "cell_type": "code",
   "execution_count": 34,
   "id": "8416af23-0d13-4512-8973-853adbad9236",
   "metadata": {
    "tags": []
   },
   "outputs": [],
   "source": [
    "sc.close()"
   ]
  },
  {
   "cell_type": "code",
   "execution_count": null,
   "id": "4ebfb1d0-02ce-4ee0-aa0d-ee8421e7a50e",
   "metadata": {},
   "outputs": [],
   "source": []
  }
 ],
 "metadata": {
  "kernelspec": {
   "display_name": "Python 3 (ipykernel)",
   "language": "python",
   "name": "python3"
  },
  "language_info": {
   "codemirror_mode": {
    "name": "ipython",
    "version": 3
   },
   "file_extension": ".py",
   "mimetype": "text/x-python",
   "name": "python",
   "nbconvert_exporter": "python",
   "pygments_lexer": "ipython3",
   "version": "3.11.3"
  }
 },
 "nbformat": 4,
 "nbformat_minor": 5
}
