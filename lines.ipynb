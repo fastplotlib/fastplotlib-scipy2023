{
 "cells": [
  {
   "cell_type": "markdown",
   "id": "90d15090-fb93-4948-b00a-d4d71930d6cd",
   "metadata": {},
   "source": [
    "# Line Plots"
   ]
  },
  {
   "cell_type": "markdown",
   "id": "07e3c0e4-f15a-497d-9e50-cad632234d93",
   "metadata": {},
   "source": [
    "## 2D line plots\n",
    "\n",
    "This example plots a sine wave, cosine wave, and ricker wavelet and demonstrates how Graphic Features can be modified by slicing!"
   ]
  },
  {
   "cell_type": "code",
   "execution_count": null,
   "id": "177e0cc3-870c-4570-bf59-af3528ba94bf",
   "metadata": {
    "tags": []
   },
   "outputs": [],
   "source": [
    "import fastplotlib as fpl\n",
    "from fastplotlib.graphics.selectors import Synchronizer\n",
    "\n",
    "import numpy as np\n",
    "from sidecar import Sidecar\n",
    "from ipywidgets import VBox\n",
    "from itertools import product"
   ]
  },
  {
   "cell_type": "markdown",
   "id": "04d043ac-2849-4222-9a91-f5dd2ff40e1d",
   "metadata": {},
   "source": [
    "### First generate some data."
   ]
  },
  {
   "cell_type": "code",
   "execution_count": null,
   "id": "9bf0017a-e319-4f4c-8bf8-91cff3755099",
   "metadata": {
    "tags": []
   },
   "outputs": [],
   "source": [
    "# linspace, create 100 evenly spaced x values from -10 to 10\n",
    "xs = np.linspace(-10, 10, 100)\n",
    "# sine wave\n",
    "ys = np.sin(xs)\n",
    "sine = np.dstack([xs, ys])[0]\n",
    "\n",
    "# cosine wave\n",
    "ys = np.cos(xs) + 5\n",
    "cosine = np.dstack([xs, ys])[0]\n",
    "\n",
    "# sinc function\n",
    "a = 0.5\n",
    "ys = np.sinc(xs) * 3 + 8\n",
    "sinc = np.dstack([xs, ys])[0]"
   ]
  },
  {
   "cell_type": "markdown",
   "id": "b00723ea-d808-4a66-ac8b-d1f78e2e6f27",
   "metadata": {},
   "source": [
    "### We will plot all of it on the same plot. Each line plot will be an individual Graphic, you can have any combination of graphics on a plot."
   ]
  },
  {
   "cell_type": "code",
   "execution_count": null,
   "id": "970a5baf-a27d-4030-9659-247fccb4eff6",
   "metadata": {
    "tags": []
   },
   "outputs": [],
   "source": [
    "# Create a plot instance\n",
    "plot_l = fpl.Plot()\n",
    "\n",
    "# plot sine wave, use a single color\n",
    "sine_graphic = plot_l.add_line(data=sine, thickness=5, colors=\"magenta\")\n",
    "\n",
    "# you can also use colormaps for lines!\n",
    "cosine_graphic = plot_l.add_line(data=cosine, thickness=12, cmap=\"autumn\")\n",
    "\n",
    "# or a list of colors for each datapoint\n",
    "colors = [\"r\"] * 25 + [\"purple\"] * 25 + [\"y\"] * 25 + [\"b\"] * 25\n",
    "sinc_graphic = plot_l.add_line(data=sinc, thickness=5, colors = colors)\n",
    "\n",
    "sc = Sidecar(title=\"lines\")\n",
    "\n",
    "with sc: \n",
    "    display(plot_l.show())"
   ]
  },
  {
   "cell_type": "markdown",
   "id": "6f2fb6e9-a4c8-473f-969f-9e0e1fe26184",
   "metadata": {},
   "source": [
    "### \"stretching\" the camera, useful for large timeseries data\n",
    "\n",
    "Set `maintain_aspect = False` on a camera, and then use the right mouse button and move the mouse to stretch and squeeze the view!\n",
    "\n",
    "You can also click the `1:1` button to toggle this."
   ]
  },
  {
   "cell_type": "code",
   "execution_count": null,
   "id": "ccda4b46-147e-41d5-a9b2-4e36c307ca16",
   "metadata": {
    "tags": []
   },
   "outputs": [],
   "source": [
    "plot_l.camera.maintain_aspect = False"
   ]
  },
  {
   "cell_type": "markdown",
   "id": "543bca00-ac5b-4ce1-89aa-2b4a9a4071c8",
   "metadata": {},
   "source": [
    "### reset the plot area"
   ]
  },
  {
   "cell_type": "code",
   "execution_count": null,
   "id": "3d330edd-8455-4897-b1a5-9d1a344f108b",
   "metadata": {
    "tags": []
   },
   "outputs": [],
   "source": [
    "plot_l.auto_scale(maintain_aspect=True)"
   ]
  },
  {
   "cell_type": "markdown",
   "id": "2200da08-205e-4ae0-a3e7-9ec4049606c9",
   "metadata": {},
   "source": [
    "### Graphic features support slicing! :D"
   ]
  },
  {
   "cell_type": "code",
   "execution_count": null,
   "id": "633aa156-9443-41c4-beeb-b0db4e9a1099",
   "metadata": {
    "tags": []
   },
   "outputs": [],
   "source": [
    "# indexing of colors\n",
    "cosine_graphic.colors[:15] = \"magenta\""
   ]
  },
  {
   "cell_type": "code",
   "execution_count": null,
   "id": "f7a63c4d-1066-4204-a455-fc8adb67a78e",
   "metadata": {
    "tags": []
   },
   "outputs": [],
   "source": [
    "cosine_graphic.colors[90:] = \"red\""
   ]
  },
  {
   "cell_type": "code",
   "execution_count": null,
   "id": "e89cd61d-1512-4cf5-86c6-f417a9148b7b",
   "metadata": {
    "tags": []
   },
   "outputs": [],
   "source": [
    "cosine_graphic.colors[60] = \"w\""
   ]
  },
  {
   "cell_type": "code",
   "execution_count": null,
   "id": "b218174d-cecd-40e1-bd40-dc85239a5ed8",
   "metadata": {
    "tags": []
   },
   "outputs": [],
   "source": [
    "# indexing to assign colormaps to entire lines or segments\n",
    "sinc_graphic.cmap[10:50] = \"gray\"\n",
    "sine_graphic.cmap = \"seismic\""
   ]
  },
  {
   "cell_type": "code",
   "execution_count": null,
   "id": "df876d25-42e1-4a19-ba00-25cbaf87b706",
   "metadata": {
    "tags": []
   },
   "outputs": [],
   "source": [
    "# more complex indexing, set the blue value directly from an array\n",
    "cosine_graphic.colors[65:90, 0] = np.linspace(0, 1, 90-65)"
   ]
  },
  {
   "cell_type": "markdown",
   "id": "edeb566e-2647-4bed-8bd1-698b95549383",
   "metadata": {},
   "source": [
    "### You can capture changes to a graphic feature as events"
   ]
  },
  {
   "cell_type": "code",
   "execution_count": null,
   "id": "8bb73acd-a4a3-4660-baca-f044793b9ea5",
   "metadata": {
    "tags": []
   },
   "outputs": [],
   "source": [
    "def callback_func(event_data):\n",
    "    print(event_data)\n",
    "\n",
    "# Will print event data when the color changes\n",
    "cosine_graphic.colors.add_event_handler(callback_func)"
   ]
  },
  {
   "cell_type": "code",
   "execution_count": null,
   "id": "ff7e76ef-5bd8-42e0-8e7f-17e586324be8",
   "metadata": {
    "tags": []
   },
   "outputs": [],
   "source": [
    "# more complex indexing of colors\n",
    "# from point 15 - 30, set every 3rd point as \"cyan\"\n",
    "cosine_graphic.colors[15:50:3] = \"cyan\""
   ]
  },
  {
   "cell_type": "markdown",
   "id": "d67fcec7-ca2c-4403-9b79-23fefeb8c0d1",
   "metadata": {},
   "source": [
    "### Graphic data is also indexable"
   ]
  },
  {
   "cell_type": "code",
   "execution_count": null,
   "id": "da210ca2-b881-4c35-b7ce-1129c0e02215",
   "metadata": {
    "tags": []
   },
   "outputs": [],
   "source": [
    "cosine_graphic.data[10:50:5, :2] = sine[10:50:5]"
   ]
  },
  {
   "cell_type": "code",
   "execution_count": null,
   "id": "275db669-c683-4f0f-99d0-07eda64bbb40",
   "metadata": {
    "tags": []
   },
   "outputs": [],
   "source": [
    "cosine_graphic.data[90:, 1] = 7"
   ]
  },
  {
   "cell_type": "code",
   "execution_count": null,
   "id": "8a1c6d7d-09d3-4d22-9f6d-0ff5c32148f9",
   "metadata": {
    "tags": []
   },
   "outputs": [],
   "source": [
    "cosine_graphic.data[0] = np.array([[-10, 0, 0]])"
   ]
  },
  {
   "cell_type": "code",
   "execution_count": null,
   "id": "44d55357-4bd9-47ba-9f39-001c12e83eb5",
   "metadata": {
    "tags": []
   },
   "outputs": [],
   "source": [
    "plot_l.close()\n",
    "sc.close()"
   ]
  },
  {
   "cell_type": "markdown",
   "id": "d9db0e4b-c747-4e0f-b2e8-1bee48d03f02",
   "metadata": {},
   "source": [
    "### colormaps"
   ]
  },
  {
   "cell_type": "code",
   "execution_count": null,
   "id": "2c6eda00-3883-48d2-af14-31c5a4b6bcd1",
   "metadata": {
    "tags": []
   },
   "outputs": [],
   "source": [
    "plot = fpl.Plot()\n",
    "\n",
    "plot.add_line(sine, thickness=10, name=\"sine\")\n",
    "\n",
    "sc = Sidecar(title=\"line plot\")\n",
    "\n",
    "with sc:\n",
    "    display(plot.show())"
   ]
  },
  {
   "cell_type": "code",
   "execution_count": null,
   "id": "e3d190b5-a2c7-4ec4-918d-b934270bf1c4",
   "metadata": {
    "tags": []
   },
   "outputs": [],
   "source": [
    "plot[\"sine\"].cmap = \"jet\""
   ]
  },
  {
   "cell_type": "code",
   "execution_count": null,
   "id": "ff9eff43-16fb-477e-b201-da728f18d7e1",
   "metadata": {
    "tags": []
   },
   "outputs": [],
   "source": [
    "plot[\"sine\"].cmap.values = sine[:, 1]"
   ]
  },
  {
   "cell_type": "code",
   "execution_count": null,
   "id": "74a592de-76be-4726-ae29-4a0b93ae9456",
   "metadata": {
    "tags": []
   },
   "outputs": [],
   "source": [
    "plot[\"sine\"].cmap.values = cosine[:, 1]"
   ]
  },
  {
   "cell_type": "code",
   "execution_count": null,
   "id": "10be65e2-5dce-49d1-8bb7-c12bec835a2b",
   "metadata": {
    "tags": []
   },
   "outputs": [],
   "source": [
    "plot[\"sine\"].cmap = \"viridis\""
   ]
  },
  {
   "cell_type": "markdown",
   "id": "66de4d43-11e6-4662-be23-57b8e400ab75",
   "metadata": {
    "tags": []
   },
   "source": [
    "Qualitative data"
   ]
  },
  {
   "cell_type": "code",
   "execution_count": null,
   "id": "6865697d-159e-47c1-a372-9fc350e02d31",
   "metadata": {
    "tags": []
   },
   "outputs": [],
   "source": [
    "cmap_values = [0] * 25 + [1] * 5 + [2] * 50 + [3] * 20\n",
    "plot[\"sine\"].cmap.values = cmap_values"
   ]
  },
  {
   "cell_type": "markdown",
   "id": "b2924933-e217-4f57-8617-52032d807489",
   "metadata": {},
   "source": [
    "Qualitative cmap"
   ]
  },
  {
   "cell_type": "code",
   "execution_count": null,
   "id": "53c12b6b-485e-4623-a111-46127206223b",
   "metadata": {
    "tags": []
   },
   "outputs": [],
   "source": [
    "plot[\"sine\"].cmap = \"tab10\""
   ]
  },
  {
   "cell_type": "code",
   "execution_count": null,
   "id": "bf9fbc9a-a887-45c9-921b-54d037aa1b57",
   "metadata": {
    "tags": []
   },
   "outputs": [],
   "source": [
    "plot.close()\n",
    "sc.close()"
   ]
  },
  {
   "cell_type": "markdown",
   "id": "f6257941-3083-47fd-8065-d40da4bca1c5",
   "metadata": {},
   "source": [
    "## Line Collections"
   ]
  },
  {
   "cell_type": "markdown",
   "id": "817355c4-0150-41de-a1d9-4c1f3680a7bc",
   "metadata": {},
   "source": [
    "Generate some data"
   ]
  },
  {
   "cell_type": "code",
   "execution_count": null,
   "id": "5d92ecd2-2177-4cd9-8643-c8691ee1e988",
   "metadata": {
    "tags": []
   },
   "outputs": [],
   "source": [
    "def make_circle(center, radius: float, n_points: int = 75) -> np.ndarray:\n",
    "    theta = np.linspace(0, 2 * np.pi, n_points)\n",
    "    xs = radius * np.sin(theta)\n",
    "    ys = radius * np.cos(theta)\n",
    "\n",
    "    return np.column_stack([xs, ys]) + center\n",
    "\n",
    "\n",
    "spatial_dims = (50, 50)\n",
    "\n",
    "# this makes 16 circles, so we can create 16 cmap values, so it will use these values to set the\n",
    "# color of the line based by using the cmap as a LUT with the corresponding cmap_value\n",
    "circles = list()\n",
    "for center in product(range(0, spatial_dims[0], 15), range(0, spatial_dims[1], 15)):\n",
    "    circles.append(make_circle(center, 5, n_points=75))\n",
    "\n",
    "pos_xy = np.vstack(circles)"
   ]
  },
  {
   "cell_type": "markdown",
   "id": "fbed2426-5d27-4f8b-91bd-5a0fe514a0ed",
   "metadata": {},
   "source": [
    "### Qualitative cmap\n",
    "\n",
    "Useful for clustering or classification"
   ]
  },
  {
   "cell_type": "code",
   "execution_count": null,
   "id": "c9f83313-60ef-4b58-baaf-bcbf3564eb31",
   "metadata": {
    "tags": []
   },
   "outputs": [],
   "source": [
    "plot = fpl.Plot()\n",
    "\n",
    "# highest values, lowest values, mid-high values, mid values\n",
    "cmap_values = [\n",
    "    0, 1, 1, 2,\n",
    "    0, 0, 1, 1,\n",
    "    2, 2, 3, 3,\n",
    "    1, 1, 1, 5\n",
    "]\n",
    "\n",
    "plot.add_line_collection(circles, cmap=\"tab10\", cmap_values=cmap_values, thickness=5)\n",
    "\n",
    "sc = Sidecar(title=\"lines collection\")\n",
    "\n",
    "with sc:\n",
    "    display(plot.show())"
   ]
  },
  {
   "cell_type": "code",
   "execution_count": null,
   "id": "981bbd25-ca42-492d-a722-185ffc877462",
   "metadata": {
    "tags": []
   },
   "outputs": [],
   "source": [
    "plot.close()\n",
    "sc.close()"
   ]
  },
  {
   "cell_type": "markdown",
   "id": "c55c8340-7e85-46cb-aedc-8112138c1b75",
   "metadata": {},
   "source": [
    "### Set colors directly"
   ]
  },
  {
   "cell_type": "code",
   "execution_count": null,
   "id": "ca7e277f-8630-4691-96e9-44da495ca57e",
   "metadata": {
    "tags": []
   },
   "outputs": [],
   "source": [
    "plot = fpl.Plot()\n",
    "\n",
    "colors = [\"green\"] * 4 + [\"red\"] * 4 + [\"yellow\"] * 4 + [\"w\"] * 4\n",
    "\n",
    "plot.add_line_collection(circles, colors=colors, thickness=5)\n",
    "\n",
    "sc = Sidecar(title=\"lines collection\")\n",
    "\n",
    "with sc:\n",
    "    display(plot.show())"
   ]
  },
  {
   "cell_type": "code",
   "execution_count": null,
   "id": "9792dea6-a5cd-4b11-abd3-0cf4c2b8661b",
   "metadata": {
    "tags": []
   },
   "outputs": [],
   "source": [
    "plot.close()\n",
    "sc.close()"
   ]
  },
  {
   "cell_type": "markdown",
   "id": "54374981-9a79-4887-a297-8a5012ebb4b7",
   "metadata": {},
   "source": [
    "## neuro data example"
   ]
  },
  {
   "cell_type": "code",
   "execution_count": null,
   "id": "6901f4b7-d1f8-4747-b8b0-de078ae4c825",
   "metadata": {
    "tags": []
   },
   "outputs": [],
   "source": [
    "# load in movie \n",
    "movie = np.load('/home/clewis7/repos/fastplotlib-scipy2023/data/rcm.npy')\n",
    "\n",
    "# load in identified nuerons\n",
    "contours = np.load('/home/clewis7/repos/fastplotlib-scipy2023/data/contours.npy', allow_pickle=True)"
   ]
  },
  {
   "cell_type": "code",
   "execution_count": null,
   "id": "162a1602-2201-45be-bcc2-6fd7550cf0e4",
   "metadata": {
    "tags": []
   },
   "outputs": [],
   "source": [
    "# for the image data and contours\n",
    "cnmf_iw = fpl.ImageWidget(movie, vmin_vmax_sliders=True, cmap=\"gray\")\n",
    "\n",
    "# stack the plots and show them in sidecar\n",
    "sc = Sidecar(title=\"good/bad comps\")\n",
    "\n",
    "with sc:\n",
    "    display(cnmf_iw.show())"
   ]
  },
  {
   "cell_type": "code",
   "execution_count": null,
   "id": "2e34929f-55dd-43d5-8736-8253ad11d96e",
   "metadata": {
    "tags": []
   },
   "outputs": [],
   "source": [
    "cnmf_iw.vmin_vmax_sliders[0].value = (-5, 15)"
   ]
  },
  {
   "cell_type": "markdown",
   "id": "3189906a-d7e7-40b5-8bb5-a438ca7ecb0a",
   "metadata": {},
   "source": [
    "### Colors based on classifier output"
   ]
  },
  {
   "cell_type": "code",
   "execution_count": null,
   "id": "6a9005e6-2c6b-4561-8890-0a576273e609",
   "metadata": {
    "tags": []
   },
   "outputs": [],
   "source": [
    "# indices of accepted_ixs components\n",
    "accepted_ixs = np.load('/home/clewis7/repos/fastplotlib-scipy2023/data/good_ixs.npy')"
   ]
  },
  {
   "cell_type": "code",
   "execution_count": null,
   "id": "63c95616-80d2-42aa-948b-2c5ea48c349d",
   "metadata": {
    "tags": []
   },
   "outputs": [],
   "source": [
    "classifier = np.zeros(len(contours), dtype=int)\n",
    "classifier[accepted_ixs] = 1\n",
    "\n",
    "classifier"
   ]
  },
  {
   "cell_type": "code",
   "execution_count": null,
   "id": "83cb0f1b-7ade-4237-afb3-ad4516f893cd",
   "metadata": {
    "tags": []
   },
   "outputs": [],
   "source": [
    "# add contours to the plot within the widget\n",
    "contours_graphic = cnmf_iw.gridplot[0,0].add_line_collection(\n",
    "    contours, \n",
    "    cmap=\"Set1\",\n",
    "    cmap_values=classifier,\n",
    "    thickness=3, \n",
    "    name=\"contours\"\n",
    ")"
   ]
  },
  {
   "cell_type": "markdown",
   "id": "9ee60d93-8be8-4cf3-8b4c-75e521379d4e",
   "metadata": {},
   "source": [
    "**Red: class 0 - rejected**\n",
    "\n",
    "**Blue: class 1 - accepted**"
   ]
  },
  {
   "cell_type": "markdown",
   "id": "7a254ed4-370c-4b5a-8c55-8b9603af7816",
   "metadata": {},
   "source": [
    "### cmaps for quantitative metrics "
   ]
  },
  {
   "cell_type": "markdown",
   "id": "2516bb91-04f3-4c65-ba17-7f1cc1c7188f",
   "metadata": {},
   "source": [
    "#### CNN classifier output"
   ]
  },
  {
   "cell_type": "code",
   "execution_count": null,
   "id": "b1319e04-e1b6-4c11-a887-314dba7d60fb",
   "metadata": {
    "tags": []
   },
   "outputs": [],
   "source": [
    "# load in CNN predictions\n",
    "cnn_preds = np.load('/home/clewis7/repos/fastplotlib-scipy2023/data/cnn_preds.npy')"
   ]
  },
  {
   "cell_type": "code",
   "execution_count": null,
   "id": "a21940fb-80d7-412b-812a-bcfe03484c75",
   "metadata": {
    "tags": []
   },
   "outputs": [],
   "source": [
    "np.set_printoptions(formatter={'float': lambda x: \"{0:0.2f}\".format(x)})\n",
    "\n",
    "cnn_preds"
   ]
  },
  {
   "cell_type": "code",
   "execution_count": null,
   "id": "ecf880df-2bb8-41e0-8038-ea5af1f147c0",
   "metadata": {
    "tags": []
   },
   "outputs": [],
   "source": [
    "contours_graphic.cmap = \"spring\"\n",
    "contours_graphic.cmap_values = cnn_preds"
   ]
  },
  {
   "cell_type": "markdown",
   "id": "6a192fd2-030b-4c49-9ed3-146415601347",
   "metadata": {},
   "source": [
    "**low confidence: purple**\n",
    "\n",
    "**high confidence: yellow**"
   ]
  },
  {
   "cell_type": "markdown",
   "id": "f60c6fb2-1d73-4d8b-ac5d-3d37a216d071",
   "metadata": {},
   "source": [
    "#### another quantitative measure"
   ]
  },
  {
   "cell_type": "code",
   "execution_count": null,
   "id": "be53bd85-9d4a-415c-b70b-c38160472aa0",
   "metadata": {
    "tags": []
   },
   "outputs": [],
   "source": [
    "# load in r_vals\n",
    "r_vals = np.load('/home/clewis7/repos/fastplotlib-scipy2023/data/r_vals.npy')\n",
    "\n",
    "contours_graphic.cmap_values = r_vals"
   ]
  },
  {
   "cell_type": "markdown",
   "id": "90e7e79a-2879-454a-9293-e8abda55808e",
   "metadata": {},
   "source": [
    "#### yet another measure, signal-to-noise measure"
   ]
  },
  {
   "cell_type": "code",
   "execution_count": null,
   "id": "3dbd7a7e-da52-4c95-a66e-020feb447080",
   "metadata": {
    "tags": []
   },
   "outputs": [],
   "source": [
    "# load in SNR comps\n",
    "snr_comps = np.load('/home/clewis7/repos/fastplotlib-scipy2023/data/SNR_comps.npy')\n",
    "\n",
    "contours_graphic.cmap_values = np.log10(snr_comps)"
   ]
  },
  {
   "cell_type": "markdown",
   "id": "eb48230f-258f-48b1-b131-90f03ce8ca75",
   "metadata": {},
   "source": [
    "**low signal to noise: purple**\n",
    "\n",
    "**high signal to noise: yellow**"
   ]
  },
  {
   "cell_type": "code",
   "execution_count": null,
   "id": "32ed59ef-d956-4e83-b12f-8c496e1579e4",
   "metadata": {
    "tags": []
   },
   "outputs": [],
   "source": [
    "cnmf_iw.gridplot.close()\n",
    "sc.close()"
   ]
  },
  {
   "cell_type": "markdown",
   "id": "a1a34cfd-3746-489e-aeff-7373d538ab8b",
   "metadata": {},
   "source": [
    "## Line Stack - useful for time series data"
   ]
  },
  {
   "cell_type": "markdown",
   "id": "e4ea3e6c-39f7-4796-b784-9ca175318356",
   "metadata": {},
   "source": [
    "Generate some sine data"
   ]
  },
  {
   "cell_type": "code",
   "execution_count": null,
   "id": "d7d5e7ca-f32d-4d3b-8ca3-3cfa72852614",
   "metadata": {
    "tags": []
   },
   "outputs": [],
   "source": [
    "xs = np.linspace(0, 100, 1000)\n",
    "# sine wave\n",
    "ys = np.sin(xs) * 20\n",
    "\n",
    "# make 25 lines\n",
    "data = np.vstack([ys] * 25)"
   ]
  },
  {
   "cell_type": "code",
   "execution_count": null,
   "id": "a70bf880-5497-476d-ba43-4c1687b49abc",
   "metadata": {
    "tags": []
   },
   "outputs": [],
   "source": [
    "plot = fpl.Plot()\n",
    "\n",
    "# line stack takes all the same arguments as line collection and behaves similarly\n",
    "plot.add_line_stack(data, cmap=\"jet\")\n",
    "\n",
    "sc = Sidecar(title=\"line stack\")\n",
    "\n",
    "with sc:\n",
    "    display(plot.show(maintain_aspect=False))"
   ]
  },
  {
   "cell_type": "code",
   "execution_count": null,
   "id": "7a3b8014-a89e-4138-98ac-ed3cbf1f0d51",
   "metadata": {
    "tags": []
   },
   "outputs": [],
   "source": [
    "plot.close()\n",
    "sc.close()"
   ]
  },
  {
   "cell_type": "markdown",
   "id": "52de9079-c7b2-470f-ad95-ee7cd3cbe15e",
   "metadata": {},
   "source": [
    "## Linear Region Selector\n",
    "\n",
    "Creates a linear region bounded graphic which can be moved along either the x-axis or y-axis.\n",
    "Allows sub-selecting data from a `Graphic` or from multiple `Graphic` objects."
   ]
  },
  {
   "cell_type": "code",
   "execution_count": null,
   "id": "68403bc0-262c-42b9-986c-8cad25152f39",
   "metadata": {
    "tags": []
   },
   "outputs": [],
   "source": [
    "def interpolate(subdata: np.ndarray, axis: int):\n",
    "    \"\"\"1D interpolation to display within the preallocated data array\"\"\"\n",
    "    x = np.arange(0, zoomed_prealloc)\n",
    "    xp = np.linspace(0, zoomed_prealloc, subdata.shape[0])\n",
    "    \n",
    "    # interpolate to preallocated size\n",
    "    return np.interp(x, xp, fp=subdata[:, axis])  # use the y-values"
   ]
  },
  {
   "cell_type": "code",
   "execution_count": null,
   "id": "87670f5c-ec83-4d71-87ec-1d13bb05dc47",
   "metadata": {
    "tags": []
   },
   "outputs": [],
   "source": [
    "# data to plot\n",
    "xs = np.linspace(0, 100, 1_000)\n",
    "sine = np.sin(xs) * 20\n",
    "cosine = np.cos(xs) * 20\n",
    "\n",
    "plot = fpl.GridPlot((5, 1))\n",
    "\n",
    "# preallocated size for zoomed data\n",
    "zoomed_prealloc = 1_000\n",
    "zoomed_init = np.column_stack([np.arange(zoomed_prealloc), np.random.rand(zoomed_prealloc)])\n",
    "\n",
    "# sines and cosines\n",
    "sines = [sine] * 2\n",
    "cosines = [cosine] * 2\n",
    "\n",
    "# make line stack\n",
    "line_stack = plot[0, 0].add_line_stack(sines + cosines, separation=50)\n",
    "\n",
    "# make selector\n",
    "selector = line_stack.add_linear_region_selector()\n",
    "\n",
    "# populate subplots with preallocated graphics\n",
    "for i, subplot in enumerate(plot):\n",
    "    if i == 0:\n",
    "        # skip the first one\n",
    "        continue\n",
    "    # make line graphics for displaying zoomed data\n",
    "    subplot.add_line(zoomed_init, name=\"zoomed\")\n",
    "\n",
    "\n",
    "def update_zoomed_subplots(ev):\n",
    "    \"\"\"update the zoomed subplots\"\"\"\n",
    "    zoomed_data = selector.get_selected_data()\n",
    "    \n",
    "    for i in range(len(zoomed_data)):\n",
    "        data = interpolate(zoomed_data[i], axis=1)\n",
    "        plot[i + 1, 0][\"zoomed\"].data = data\n",
    "        plot[i + 1, 0].auto_scale()\n",
    "\n",
    "\n",
    "selector.selection.add_event_handler(update_zoomed_subplots)\n",
    "plot.show()\n",
    "sc = Sidecar(title=\"linear region selector\")\n",
    "\n",
    "with sc: \n",
    "    display(plot.show())"
   ]
  },
  {
   "cell_type": "code",
   "execution_count": null,
   "id": "89b9ed5b-8fdb-4fa7-95f7-f955cec9ed74",
   "metadata": {
    "tags": []
   },
   "outputs": [],
   "source": [
    "plot.close()\n",
    "sc.close()"
   ]
  },
  {
   "cell_type": "markdown",
   "id": "c555db89-5d44-41b9-ab5a-ebd43bc0e3fb",
   "metadata": {},
   "source": [
    "## Heatmap"
   ]
  },
  {
   "cell_type": "code",
   "execution_count": null,
   "id": "d201138f-a44f-4f87-b456-33b0ad7f41ae",
   "metadata": {
    "tags": []
   },
   "outputs": [],
   "source": [
    "temporal = np.load('/home/clewis7/repos/fastplotlib-scipy2023/data/temporal.npy')"
   ]
  },
  {
   "cell_type": "code",
   "execution_count": null,
   "id": "a24b06d3-f9db-406a-a63d-0159007a09c6",
   "metadata": {
    "tags": []
   },
   "outputs": [],
   "source": [
    "# create plot\n",
    "plot = fpl.GridPlot(shape=(1,2), names=[[\"heatmap\", \"timeseries\"]])\n",
    "\n",
    "def normalize(array):\n",
    "    out = np.zeros(array.shape, dtype=array.dtype)\n",
    "    for i in range(array.shape[0]):\n",
    "        a = array[i]\n",
    "        out[i] = ((a - np.min(a)) / (np.max(a - np.min(a))))\n",
    "        \n",
    "    return out\n",
    "\n",
    "temporal_norm = normalize(temporal)\n",
    "        \n",
    "# add temporal traces as heatmap\n",
    "heatmap = plot[0,0].add_heatmap(temporal_norm)\n",
    "\n",
    "# add temporal traces as line stack\n",
    "temporal_stack = plot[0,1].add_line_stack(temporal, colors=\"magenta\")\n",
    "\n",
    "for subplot in plot:\n",
    "    subplot.camera.maintain_aspect = False\n",
    "\n",
    "# heatmap support the same selectors as lines!\n",
    "heatmap_ls = heatmap.add_linear_selector()\n",
    "temporal_stack_ls = temporal_stack.add_linear_selector()\n",
    "temporal_stack_ls.position_z = 4\n",
    "\n",
    "# the corresponding imaging data and some callbacks to update frames\n",
    "cnmf_iw = fpl.ImageWidget(movie, vmin_vmax_sliders=True, cmap=\"gray\")\n",
    "\n",
    "# update the linear selectors with current frame index\n",
    "def update_linear_selector(change):\n",
    "    ix = change[\"new\"]\n",
    "    \n",
    "    heatmap_ls.selection = ix\n",
    "    temporal_stack_ls.selection = ix\n",
    "    \n",
    "def update_ipywidget(ev):\n",
    "    ix = ev.pick_info[\"selected_index\"]\n",
    "    # for line collection sends as list\n",
    "    if not isinstance(ix, int):\n",
    "        ix = ix[0]\n",
    "    cnmf_iw.sliders[\"t\"].value = ix\n",
    "    \n",
    "cnmf_iw.sliders[\"t\"].observe(update_linear_selector, \"value\")\n",
    "heatmap_ls.selection.add_event_handler(update_ipywidget)\n",
    "temporal_stack_ls.selection.add_event_handler(update_ipywidget)\n",
    "\n",
    "    \n",
    "sc = Sidecar(title=\"heatmap interactive\")\n",
    "\n",
    "with sc:\n",
    "    display(VBox([cnmf_iw.show(), plot.show()]))"
   ]
  },
  {
   "cell_type": "code",
   "execution_count": null,
   "id": "c509263b-7120-4e0c-a2cd-f68b6525994c",
   "metadata": {
    "tags": []
   },
   "outputs": [],
   "source": [
    "cnmf_iw.vmin_vmax_sliders[0].value = (-5, 15)"
   ]
  },
  {
   "cell_type": "code",
   "execution_count": null,
   "id": "4447805e-c477-48b4-8dc1-8740c2a70232",
   "metadata": {
    "tags": []
   },
   "outputs": [],
   "source": [
    "plot.close()\n",
    "sc.close()"
   ]
  },
  {
   "cell_type": "code",
   "execution_count": null,
   "id": "4c5576db-ae44-405d-b37a-968b3986630c",
   "metadata": {},
   "outputs": [],
   "source": []
  }
 ],
 "metadata": {
  "kernelspec": {
   "display_name": "Python 3 (ipykernel)",
   "language": "python",
   "name": "python3"
  },
  "language_info": {
   "codemirror_mode": {
    "name": "ipython",
    "version": 3
   },
   "file_extension": ".py",
   "mimetype": "text/x-python",
   "name": "python",
   "nbconvert_exporter": "python",
   "pygments_lexer": "ipython3",
   "version": "3.11.3"
  }
 },
 "nbformat": 4,
 "nbformat_minor": 5
}
